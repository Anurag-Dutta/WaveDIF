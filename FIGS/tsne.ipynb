{
 "cells": [
  {
   "cell_type": "code",
   "execution_count": null,
   "metadata": {},
   "outputs": [],
   "source": [
    "import pandas as pd\n",
    "import numpy as np\n",
    "import matplotlib.pyplot as plt\n",
    "from sklearn.manifold import TSNE\n",
    "from sklearn.preprocessing import StandardScaler\n",
    "\n",
    "df = pd.read_csv(\"merged_output.csv\")\n",
    "\n",
    "df[\"Label\"] = df[\"Folder\"].apply(lambda x: 1 if x == \"...\" else 0)  # fake or original\n",
    "\n",
    "X = df[[\"LL Energy\", \"LH Energy\", \"HL Energy\", \"HH Energy\"]].values\n",
    "X_log = np.log1p(X)  # log(1 + x) to handle zero values safely\n",
    "\n",
    "scaler = StandardScaler()\n",
    "X_scaled = scaler.fit_transform(X_log)\n",
    "\n",
    "tsne = TSNE(n_components=2, random_state=42, perplexity=30)\n",
    "X_embedded = tsne.fit_transform(X_scaled)\n",
    "\n",
    "plt.figure(figsize=(6, 5))\n",
    "scatter = plt.scatter(\n",
    "    X_embedded[:, 0], X_embedded[:, 1], c=df[\"Label\"], cmap=\"coolwarm\", alpha=0.7, edgecolors=\"k\"\n",
    ")\n",
    "\n",
    "legend_labels = [\"Deepfake\", \"Original\"]\n",
    "legend = plt.legend(\n",
    "    handles=scatter.legend_elements()[0], labels=legend_labels, loc=\"upper right\", frameon=False\n",
    ")\n",
    "\n",
    "plt.xticks([])\n",
    "plt.yticks([])\n",
    "plt.box(False)\n",
    "\n",
    "plt.savefig(\"tsne_visualization.pdf\", bbox_inches=\"tight\", dpi=300)\n",
    "\n",
    "plt.show()\n"
   ]
  }
 ],
 "metadata": {
  "language_info": {
   "name": "python"
  }
 },
 "nbformat": 4,
 "nbformat_minor": 2
}
