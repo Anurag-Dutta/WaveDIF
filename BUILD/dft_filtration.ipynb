{
 "cells": [
  {
   "cell_type": "code",
   "execution_count": null,
   "metadata": {},
   "outputs": [
    {
     "name": "stdout",
     "output_type": "stream",
     "text": [
      "Processing Videos...\n"
     ]
    },
    {
     "name": "stderr",
     "output_type": "stream",
     "text": [
      "Processing 000_003.mp4: 100%|██████████| 396/396 [00:09<00:00, 42.24it/s]\n"
     ]
    },
    {
     "name": "stdout",
     "output_type": "stream",
     "text": [
      "Filtered video saved: filtered_videos\\FaceShifter\\000_003.mp4\n"
     ]
    },
    {
     "name": "stderr",
     "output_type": "stream",
     "text": [
      "Processing 001_870.mp4: 100%|██████████| 460/460 [00:26<00:00, 17.48it/s]\n"
     ]
    },
    {
     "name": "stdout",
     "output_type": "stream",
     "text": [
      "Filtered video saved: filtered_videos\\FaceShifter\\001_870.mp4\n"
     ]
    },
    {
     "name": "stderr",
     "output_type": "stream",
     "text": [
      "Processing 002_006.mp4: 100%|██████████| 693/693 [00:40<00:00, 16.97it/s]\n"
     ]
    },
    {
     "name": "stdout",
     "output_type": "stream",
     "text": [
      "Filtered video saved: filtered_videos\\FaceShifter\\002_006.mp4\n"
     ]
    },
    {
     "name": "stderr",
     "output_type": "stream",
     "text": [
      "Processing 003_000.mp4: 100%|██████████| 303/303 [00:07<00:00, 40.04it/s]\n"
     ]
    },
    {
     "name": "stdout",
     "output_type": "stream",
     "text": [
      "Filtered video saved: filtered_videos\\FaceShifter\\003_000.mp4\n"
     ]
    },
    {
     "name": "stderr",
     "output_type": "stream",
     "text": [
      "Processing 004_982.mp4: 100%|██████████| 309/309 [00:19<00:00, 15.47it/s]\n"
     ]
    },
    {
     "name": "stdout",
     "output_type": "stream",
     "text": [
      "Filtered video saved: filtered_videos\\FaceShifter\\004_982.mp4\n"
     ]
    },
    {
     "name": "stderr",
     "output_type": "stream",
     "text": [
      "Processing 005_010.mp4: 100%|██████████| 385/385 [00:17<00:00, 21.80it/s]\n"
     ]
    },
    {
     "name": "stdout",
     "output_type": "stream",
     "text": [
      "Filtered video saved: filtered_videos\\FaceShifter\\005_010.mp4\n"
     ]
    },
    {
     "name": "stderr",
     "output_type": "stream",
     "text": [
      "Processing 006_002.mp4: 100%|██████████| 310/310 [00:23<00:00, 13.36it/s]\n"
     ]
    },
    {
     "name": "stdout",
     "output_type": "stream",
     "text": [
      "Filtered video saved: filtered_videos\\FaceShifter\\006_002.mp4\n"
     ]
    },
    {
     "name": "stderr",
     "output_type": "stream",
     "text": [
      "Processing 007_132.mp4: 100%|██████████| 505/505 [00:12<00:00, 40.05it/s]\n"
     ]
    },
    {
     "name": "stdout",
     "output_type": "stream",
     "text": [
      "Filtered video saved: filtered_videos\\FaceShifter\\007_132.mp4\n"
     ]
    },
    {
     "name": "stderr",
     "output_type": "stream",
     "text": [
      "Processing 008_990.mp4: 100%|██████████| 637/637 [00:16<00:00, 38.26it/s]\n"
     ]
    },
    {
     "name": "stdout",
     "output_type": "stream",
     "text": [
      "Filtered video saved: filtered_videos\\FaceShifter\\008_990.mp4\n"
     ]
    },
    {
     "name": "stderr",
     "output_type": "stream",
     "text": [
      "Processing 009_027.mp4: 100%|██████████| 588/588 [00:17<00:00, 33.77it/s]\n"
     ]
    },
    {
     "name": "stdout",
     "output_type": "stream",
     "text": [
      "Filtered video saved: filtered_videos\\FaceShifter\\009_027.mp4\n"
     ]
    },
    {
     "name": "stderr",
     "output_type": "stream",
     "text": [
      "Processing 010_005.mp4: 100%|██████████| 474/474 [00:12<00:00, 38.11it/s]\n"
     ]
    },
    {
     "name": "stdout",
     "output_type": "stream",
     "text": [
      "Filtered video saved: filtered_videos\\FaceShifter\\010_005.mp4\n"
     ]
    },
    {
     "name": "stderr",
     "output_type": "stream",
     "text": [
      "Processing 011_805.mp4: 100%|██████████| 632/632 [00:47<00:00, 13.22it/s]\n"
     ]
    },
    {
     "name": "stdout",
     "output_type": "stream",
     "text": [
      "Filtered video saved: filtered_videos\\FaceShifter\\011_805.mp4\n"
     ]
    },
    {
     "name": "stderr",
     "output_type": "stream",
     "text": [
      "Processing 012_026.mp4: 100%|██████████| 363/363 [00:09<00:00, 39.00it/s]\n"
     ]
    },
    {
     "name": "stdout",
     "output_type": "stream",
     "text": [
      "Filtered video saved: filtered_videos\\FaceShifter\\012_026.mp4\n"
     ]
    },
    {
     "name": "stderr",
     "output_type": "stream",
     "text": [
      "Processing 013_883.mp4: 100%|██████████| 332/332 [00:08<00:00, 38.60it/s]\n"
     ]
    },
    {
     "name": "stdout",
     "output_type": "stream",
     "text": [
      "Filtered video saved: filtered_videos\\FaceShifter\\013_883.mp4\n"
     ]
    },
    {
     "name": "stderr",
     "output_type": "stream",
     "text": [
      "Processing 014_790.mp4: 100%|██████████| 676/676 [00:19<00:00, 34.72it/s]\n"
     ]
    },
    {
     "name": "stdout",
     "output_type": "stream",
     "text": [
      "Filtered video saved: filtered_videos\\FaceShifter\\014_790.mp4\n"
     ]
    },
    {
     "name": "stderr",
     "output_type": "stream",
     "text": [
      "Processing 015_919.mp4: 100%|██████████| 437/437 [00:10<00:00, 39.88it/s]\n"
     ]
    },
    {
     "name": "stdout",
     "output_type": "stream",
     "text": [
      "Filtered video saved: filtered_videos\\FaceShifter\\015_919.mp4\n"
     ]
    },
    {
     "name": "stderr",
     "output_type": "stream",
     "text": [
      "Processing 016_209.mp4: 100%|██████████| 678/678 [00:16<00:00, 40.83it/s]\n"
     ]
    },
    {
     "name": "stdout",
     "output_type": "stream",
     "text": [
      "Filtered video saved: filtered_videos\\FaceShifter\\016_209.mp4\n"
     ]
    },
    {
     "name": "stderr",
     "output_type": "stream",
     "text": [
      "Processing 017_803.mp4: 100%|██████████| 398/398 [00:23<00:00, 16.87it/s]\n"
     ]
    },
    {
     "name": "stdout",
     "output_type": "stream",
     "text": [
      "Filtered video saved: filtered_videos\\FaceShifter\\017_803.mp4\n"
     ]
    },
    {
     "name": "stderr",
     "output_type": "stream",
     "text": [
      "Processing 018_019.mp4: 100%|██████████| 432/432 [00:10<00:00, 42.45it/s]\n"
     ]
    },
    {
     "name": "stdout",
     "output_type": "stream",
     "text": [
      "Filtered video saved: filtered_videos\\FaceShifter\\018_019.mp4\n"
     ]
    },
    {
     "name": "stderr",
     "output_type": "stream",
     "text": [
      "Processing 019_018.mp4: 100%|██████████| 1385/1385 [00:37<00:00, 37.23it/s]\n"
     ]
    },
    {
     "name": "stdout",
     "output_type": "stream",
     "text": [
      "Filtered video saved: filtered_videos\\FaceShifter\\019_018.mp4\n"
     ]
    },
    {
     "name": "stderr",
     "output_type": "stream",
     "text": [
      "Processing 020_344.mp4: 100%|██████████| 390/390 [00:23<00:00, 16.25it/s]\n"
     ]
    },
    {
     "name": "stdout",
     "output_type": "stream",
     "text": [
      "Filtered video saved: filtered_videos\\FaceShifter\\020_344.mp4\n"
     ]
    },
    {
     "name": "stderr",
     "output_type": "stream",
     "text": [
      "Processing 021_312.mp4: 100%|██████████| 431/431 [00:13<00:00, 31.93it/s]\n"
     ]
    },
    {
     "name": "stdout",
     "output_type": "stream",
     "text": [
      "Filtered video saved: filtered_videos\\FaceShifter\\021_312.mp4\n"
     ]
    },
    {
     "name": "stderr",
     "output_type": "stream",
     "text": [
      "Processing 022_489.mp4: 100%|██████████| 325/325 [00:20<00:00, 16.08it/s]\n"
     ]
    },
    {
     "name": "stdout",
     "output_type": "stream",
     "text": [
      "Filtered video saved: filtered_videos\\FaceShifter\\022_489.mp4\n"
     ]
    },
    {
     "name": "stderr",
     "output_type": "stream",
     "text": [
      "Processing 023_923.mp4: 100%|██████████| 553/553 [00:15<00:00, 34.75it/s]\n"
     ]
    },
    {
     "name": "stdout",
     "output_type": "stream",
     "text": [
      "Filtered video saved: filtered_videos\\FaceShifter\\023_923.mp4\n"
     ]
    },
    {
     "name": "stderr",
     "output_type": "stream",
     "text": [
      "Processing 024_073.mp4: 100%|██████████| 306/306 [00:08<00:00, 36.56it/s]\n"
     ]
    },
    {
     "name": "stdout",
     "output_type": "stream",
     "text": [
      "Filtered video saved: filtered_videos\\FaceShifter\\024_073.mp4\n"
     ]
    },
    {
     "name": "stderr",
     "output_type": "stream",
     "text": [
      "Processing 025_067.mp4: 100%|██████████| 747/747 [01:16<00:00,  9.82it/s]\n"
     ]
    },
    {
     "name": "stdout",
     "output_type": "stream",
     "text": [
      "Filtered video saved: filtered_videos\\FaceShifter\\025_067.mp4\n"
     ]
    },
    {
     "name": "stderr",
     "output_type": "stream",
     "text": [
      "Processing 026_012.mp4: 100%|██████████| 322/322 [00:08<00:00, 36.17it/s]\n"
     ]
    },
    {
     "name": "stdout",
     "output_type": "stream",
     "text": [
      "Filtered video saved: filtered_videos\\FaceShifter\\026_012.mp4\n"
     ]
    },
    {
     "name": "stderr",
     "output_type": "stream",
     "text": [
      "Processing 027_009.mp4: 100%|██████████| 315/315 [00:09<00:00, 33.24it/s]\n"
     ]
    },
    {
     "name": "stdout",
     "output_type": "stream",
     "text": [
      "Filtered video saved: filtered_videos\\FaceShifter\\027_009.mp4\n"
     ]
    },
    {
     "name": "stderr",
     "output_type": "stream",
     "text": [
      "Processing 028_068.mp4: 100%|██████████| 434/434 [00:15<00:00, 27.32it/s]\n"
     ]
    },
    {
     "name": "stdout",
     "output_type": "stream",
     "text": [
      "Filtered video saved: filtered_videos\\FaceShifter\\028_068.mp4\n"
     ]
    },
    {
     "name": "stderr",
     "output_type": "stream",
     "text": [
      "Processing 029_048.mp4: 100%|██████████| 416/416 [00:12<00:00, 32.95it/s]\n"
     ]
    },
    {
     "name": "stdout",
     "output_type": "stream",
     "text": [
      "Filtered video saved: filtered_videos\\FaceShifter\\029_048.mp4\n"
     ]
    },
    {
     "name": "stderr",
     "output_type": "stream",
     "text": [
      "Processing 030_193.mp4: 100%|██████████| 297/297 [00:40<00:00,  7.27it/s]\n"
     ]
    },
    {
     "name": "stdout",
     "output_type": "stream",
     "text": [
      "Filtered video saved: filtered_videos\\FaceShifter\\030_193.mp4\n"
     ]
    },
    {
     "name": "stderr",
     "output_type": "stream",
     "text": [
      "Processing 031_163.mp4: 100%|██████████| 482/482 [00:31<00:00, 15.23it/s]\n"
     ]
    },
    {
     "name": "stdout",
     "output_type": "stream",
     "text": [
      "Filtered video saved: filtered_videos\\FaceShifter\\031_163.mp4\n"
     ]
    },
    {
     "name": "stderr",
     "output_type": "stream",
     "text": [
      "Processing 032_944.mp4: 100%|██████████| 310/310 [00:20<00:00, 15.49it/s]\n"
     ]
    },
    {
     "name": "stdout",
     "output_type": "stream",
     "text": [
      "Filtered video saved: filtered_videos\\FaceShifter\\032_944.mp4\n"
     ]
    },
    {
     "name": "stderr",
     "output_type": "stream",
     "text": [
      "Processing 033_097.mp4: 100%|██████████| 809/809 [00:33<00:00, 24.47it/s]\n"
     ]
    },
    {
     "name": "stdout",
     "output_type": "stream",
     "text": [
      "Filtered video saved: filtered_videos\\FaceShifter\\033_097.mp4\n"
     ]
    },
    {
     "name": "stderr",
     "output_type": "stream",
     "text": [
      "Processing 034_590.mp4: 100%|██████████| 407/407 [00:22<00:00, 17.79it/s]\n"
     ]
    },
    {
     "name": "stdout",
     "output_type": "stream",
     "text": [
      "Filtered video saved: filtered_videos\\FaceShifter\\034_590.mp4\n"
     ]
    },
    {
     "name": "stderr",
     "output_type": "stream",
     "text": [
      "Processing 035_036.mp4: 100%|██████████| 423/423 [00:12<00:00, 33.18it/s]\n"
     ]
    },
    {
     "name": "stdout",
     "output_type": "stream",
     "text": [
      "Filtered video saved: filtered_videos\\FaceShifter\\035_036.mp4\n"
     ]
    },
    {
     "name": "stderr",
     "output_type": "stream",
     "text": [
      "Processing 036_035.mp4: 100%|██████████| 337/337 [00:10<00:00, 32.34it/s]\n"
     ]
    },
    {
     "name": "stdout",
     "output_type": "stream",
     "text": [
      "Filtered video saved: filtered_videos\\FaceShifter\\036_035.mp4\n"
     ]
    },
    {
     "name": "stderr",
     "output_type": "stream",
     "text": [
      "Processing 037_072.mp4: 100%|██████████| 454/454 [00:13<00:00, 32.71it/s]\n"
     ]
    },
    {
     "name": "stdout",
     "output_type": "stream",
     "text": [
      "Filtered video saved: filtered_videos\\FaceShifter\\037_072.mp4\n"
     ]
    },
    {
     "name": "stderr",
     "output_type": "stream",
     "text": [
      "Processing 038_125.mp4: 100%|██████████| 305/305 [00:12<00:00, 23.76it/s]\n"
     ]
    },
    {
     "name": "stdout",
     "output_type": "stream",
     "text": [
      "Filtered video saved: filtered_videos\\FaceShifter\\038_125.mp4\n"
     ]
    },
    {
     "name": "stderr",
     "output_type": "stream",
     "text": [
      "Processing 039_058.mp4: 100%|██████████| 609/609 [00:24<00:00, 24.93it/s]\n"
     ]
    },
    {
     "name": "stdout",
     "output_type": "stream",
     "text": [
      "Filtered video saved: filtered_videos\\FaceShifter\\039_058.mp4\n"
     ]
    },
    {
     "name": "stderr",
     "output_type": "stream",
     "text": [
      "Processing 040_997.mp4: 100%|██████████| 548/548 [00:37<00:00, 14.52it/s]\n"
     ]
    },
    {
     "name": "stdout",
     "output_type": "stream",
     "text": [
      "Filtered video saved: filtered_videos\\FaceShifter\\040_997.mp4\n"
     ]
    },
    {
     "name": "stderr",
     "output_type": "stream",
     "text": [
      "Processing 041_063.mp4: 100%|██████████| 349/349 [00:11<00:00, 30.13it/s]\n"
     ]
    },
    {
     "name": "stdout",
     "output_type": "stream",
     "text": [
      "Filtered video saved: filtered_videos\\FaceShifter\\041_063.mp4\n"
     ]
    },
    {
     "name": "stderr",
     "output_type": "stream",
     "text": [
      "Processing 042_084.mp4: 100%|██████████| 338/338 [00:11<00:00, 29.04it/s]\n"
     ]
    },
    {
     "name": "stdout",
     "output_type": "stream",
     "text": [
      "Filtered video saved: filtered_videos\\FaceShifter\\042_084.mp4\n"
     ]
    },
    {
     "name": "stderr",
     "output_type": "stream",
     "text": [
      "Processing 043_110.mp4: 100%|██████████| 495/495 [00:37<00:00, 13.18it/s]\n"
     ]
    },
    {
     "name": "stdout",
     "output_type": "stream",
     "text": [
      "Filtered video saved: filtered_videos\\FaceShifter\\043_110.mp4\n"
     ]
    },
    {
     "name": "stderr",
     "output_type": "stream",
     "text": [
      "Processing 044_945.mp4: 100%|██████████| 335/335 [00:23<00:00, 14.09it/s]\n"
     ]
    },
    {
     "name": "stdout",
     "output_type": "stream",
     "text": [
      "Filtered video saved: filtered_videos\\FaceShifter\\044_945.mp4\n"
     ]
    },
    {
     "name": "stderr",
     "output_type": "stream",
     "text": [
      "Processing 045_889.mp4: 100%|██████████| 350/350 [01:00<00:00,  5.78it/s]\n"
     ]
    },
    {
     "name": "stdout",
     "output_type": "stream",
     "text": [
      "Filtered video saved: filtered_videos\\FaceShifter\\045_889.mp4\n"
     ]
    },
    {
     "name": "stderr",
     "output_type": "stream",
     "text": [
      "Processing 046_904.mp4: 100%|██████████| 504/504 [00:38<00:00, 13.03it/s]\n"
     ]
    },
    {
     "name": "stdout",
     "output_type": "stream",
     "text": [
      "Filtered video saved: filtered_videos\\FaceShifter\\046_904.mp4\n"
     ]
    },
    {
     "name": "stderr",
     "output_type": "stream",
     "text": [
      "Processing 047_862.mp4: 100%|██████████| 319/319 [00:13<00:00, 24.29it/s]\n"
     ]
    },
    {
     "name": "stdout",
     "output_type": "stream",
     "text": [
      "Filtered video saved: filtered_videos\\FaceShifter\\047_862.mp4\n"
     ]
    },
    {
     "name": "stderr",
     "output_type": "stream",
     "text": [
      "Processing 048_029.mp4: 100%|██████████| 485/485 [00:16<00:00, 29.99it/s]\n"
     ]
    },
    {
     "name": "stdout",
     "output_type": "stream",
     "text": [
      "Filtered video saved: filtered_videos\\FaceShifter\\048_029.mp4\n"
     ]
    },
    {
     "name": "stderr",
     "output_type": "stream",
     "text": [
      "Processing 049_946.mp4: 100%|██████████| 360/360 [00:10<00:00, 35.67it/s]\n"
     ]
    },
    {
     "name": "stdout",
     "output_type": "stream",
     "text": [
      "Filtered video saved: filtered_videos\\FaceShifter\\049_946.mp4\n"
     ]
    },
    {
     "name": "stderr",
     "output_type": "stream",
     "text": [
      "Processing 050_059.mp4: 100%|██████████| 530/530 [00:15<00:00, 34.16it/s]\n"
     ]
    },
    {
     "name": "stdout",
     "output_type": "stream",
     "text": [
      "Filtered video saved: filtered_videos\\FaceShifter\\050_059.mp4\n"
     ]
    },
    {
     "name": "stderr",
     "output_type": "stream",
     "text": [
      "Processing 051_332.mp4: 100%|██████████| 717/717 [00:47<00:00, 15.17it/s]\n"
     ]
    },
    {
     "name": "stdout",
     "output_type": "stream",
     "text": [
      "Filtered video saved: filtered_videos\\FaceShifter\\051_332.mp4\n"
     ]
    },
    {
     "name": "stderr",
     "output_type": "stream",
     "text": [
      "Processing 052_108.mp4: 100%|██████████| 323/323 [00:48<00:00,  6.62it/s]\n"
     ]
    },
    {
     "name": "stdout",
     "output_type": "stream",
     "text": [
      "Filtered video saved: filtered_videos\\FaceShifter\\052_108.mp4\n"
     ]
    },
    {
     "name": "stderr",
     "output_type": "stream",
     "text": [
      "Processing 053_095.mp4: 100%|██████████| 417/417 [00:13<00:00, 30.61it/s]\n"
     ]
    },
    {
     "name": "stdout",
     "output_type": "stream",
     "text": [
      "Filtered video saved: filtered_videos\\FaceShifter\\053_095.mp4\n"
     ]
    },
    {
     "name": "stderr",
     "output_type": "stream",
     "text": [
      "Processing 054_071.mp4: 100%|██████████| 368/368 [00:11<00:00, 31.55it/s]\n"
     ]
    },
    {
     "name": "stdout",
     "output_type": "stream",
     "text": [
      "Filtered video saved: filtered_videos\\FaceShifter\\054_071.mp4\n"
     ]
    },
    {
     "name": "stderr",
     "output_type": "stream",
     "text": [
      "Processing 055_147.mp4: 100%|██████████| 394/394 [00:12<00:00, 32.10it/s]\n"
     ]
    },
    {
     "name": "stdout",
     "output_type": "stream",
     "text": [
      "Filtered video saved: filtered_videos\\FaceShifter\\055_147.mp4\n"
     ]
    },
    {
     "name": "stderr",
     "output_type": "stream",
     "text": [
      "Processing 056_996.mp4: 100%|██████████| 373/373 [00:27<00:00, 13.48it/s]\n"
     ]
    },
    {
     "name": "stdout",
     "output_type": "stream",
     "text": [
      "Filtered video saved: filtered_videos\\FaceShifter\\056_996.mp4\n"
     ]
    },
    {
     "name": "stderr",
     "output_type": "stream",
     "text": [
      "Processing 057_070.mp4: 100%|██████████| 431/431 [00:14<00:00, 29.72it/s]\n"
     ]
    },
    {
     "name": "stdout",
     "output_type": "stream",
     "text": [
      "Filtered video saved: filtered_videos\\FaceShifter\\057_070.mp4\n"
     ]
    },
    {
     "name": "stderr",
     "output_type": "stream",
     "text": [
      "Processing 058_039.mp4: 100%|██████████| 669/669 [00:23<00:00, 28.02it/s]\n"
     ]
    },
    {
     "name": "stdout",
     "output_type": "stream",
     "text": [
      "Filtered video saved: filtered_videos\\FaceShifter\\058_039.mp4\n"
     ]
    },
    {
     "name": "stderr",
     "output_type": "stream",
     "text": [
      "Processing 059_050.mp4: 100%|██████████| 721/721 [00:23<00:00, 30.29it/s]\n"
     ]
    },
    {
     "name": "stdout",
     "output_type": "stream",
     "text": [
      "Filtered video saved: filtered_videos\\FaceShifter\\059_050.mp4\n"
     ]
    },
    {
     "name": "stderr",
     "output_type": "stream",
     "text": [
      "Processing 060_088.mp4: 100%|██████████| 844/844 [00:26<00:00, 32.03it/s]\n"
     ]
    },
    {
     "name": "stdout",
     "output_type": "stream",
     "text": [
      "Filtered video saved: filtered_videos\\FaceShifter\\060_088.mp4\n"
     ]
    },
    {
     "name": "stderr",
     "output_type": "stream",
     "text": [
      "Processing 061_080.mp4: 100%|██████████| 337/337 [00:13<00:00, 25.27it/s]\n"
     ]
    },
    {
     "name": "stdout",
     "output_type": "stream",
     "text": [
      "Filtered video saved: filtered_videos\\FaceShifter\\061_080.mp4\n"
     ]
    },
    {
     "name": "stderr",
     "output_type": "stream",
     "text": [
      "Processing 062_066.mp4: 100%|██████████| 423/423 [00:12<00:00, 32.65it/s]\n"
     ]
    },
    {
     "name": "stdout",
     "output_type": "stream",
     "text": [
      "Filtered video saved: filtered_videos\\FaceShifter\\062_066.mp4\n"
     ]
    },
    {
     "name": "stderr",
     "output_type": "stream",
     "text": [
      "Processing 063_041.mp4: 100%|██████████| 930/930 [00:28<00:00, 32.47it/s]\n"
     ]
    },
    {
     "name": "stdout",
     "output_type": "stream",
     "text": [
      "Filtered video saved: filtered_videos\\FaceShifter\\063_041.mp4\n"
     ]
    },
    {
     "name": "stderr",
     "output_type": "stream",
     "text": [
      "Processing 064_991.mp4: 100%|██████████| 402/402 [00:12<00:00, 33.04it/s]\n"
     ]
    },
    {
     "name": "stdout",
     "output_type": "stream",
     "text": [
      "Filtered video saved: filtered_videos\\FaceShifter\\064_991.mp4\n"
     ]
    },
    {
     "name": "stderr",
     "output_type": "stream",
     "text": [
      "Processing 065_089.mp4: 100%|██████████| 442/442 [00:38<00:00, 11.39it/s]\n"
     ]
    },
    {
     "name": "stdout",
     "output_type": "stream",
     "text": [
      "Filtered video saved: filtered_videos\\FaceShifter\\065_089.mp4\n"
     ]
    },
    {
     "name": "stderr",
     "output_type": "stream",
     "text": [
      "Processing 066_062.mp4: 100%|██████████| 435/435 [00:15<00:00, 27.37it/s]\n"
     ]
    },
    {
     "name": "stdout",
     "output_type": "stream",
     "text": [
      "Filtered video saved: filtered_videos\\FaceShifter\\066_062.mp4\n"
     ]
    },
    {
     "name": "stderr",
     "output_type": "stream",
     "text": [
      "Processing 067_025.mp4: 100%|██████████| 538/538 [00:36<00:00, 14.71it/s]\n"
     ]
    },
    {
     "name": "stdout",
     "output_type": "stream",
     "text": [
      "Filtered video saved: filtered_videos\\FaceShifter\\067_025.mp4\n"
     ]
    },
    {
     "name": "stderr",
     "output_type": "stream",
     "text": [
      "Processing 068_028.mp4: 100%|██████████| 401/401 [00:12<00:00, 31.70it/s]\n"
     ]
    },
    {
     "name": "stdout",
     "output_type": "stream",
     "text": [
      "Filtered video saved: filtered_videos\\FaceShifter\\068_028.mp4\n"
     ]
    },
    {
     "name": "stderr",
     "output_type": "stream",
     "text": [
      "Processing 069_961.mp4: 100%|██████████| 774/774 [00:56<00:00, 13.75it/s]\n"
     ]
    },
    {
     "name": "stdout",
     "output_type": "stream",
     "text": [
      "Filtered video saved: filtered_videos\\FaceShifter\\069_961.mp4\n"
     ]
    },
    {
     "name": "stderr",
     "output_type": "stream",
     "text": [
      "Processing 070_057.mp4: 100%|██████████| 367/367 [00:11<00:00, 33.22it/s]\n"
     ]
    },
    {
     "name": "stdout",
     "output_type": "stream",
     "text": [
      "Filtered video saved: filtered_videos\\FaceShifter\\070_057.mp4\n"
     ]
    },
    {
     "name": "stderr",
     "output_type": "stream",
     "text": [
      "Processing 071_054.mp4: 100%|██████████| 453/453 [00:18<00:00, 24.06it/s]\n"
     ]
    },
    {
     "name": "stdout",
     "output_type": "stream",
     "text": [
      "Filtered video saved: filtered_videos\\FaceShifter\\071_054.mp4\n"
     ]
    },
    {
     "name": "stderr",
     "output_type": "stream",
     "text": [
      "Processing 072_037.mp4: 100%|██████████| 311/311 [00:10<00:00, 30.90it/s]\n"
     ]
    },
    {
     "name": "stdout",
     "output_type": "stream",
     "text": [
      "Filtered video saved: filtered_videos\\FaceShifter\\072_037.mp4\n"
     ]
    },
    {
     "name": "stderr",
     "output_type": "stream",
     "text": [
      "Processing 073_024.mp4: 100%|██████████| 703/703 [00:50<00:00, 14.02it/s]\n"
     ]
    },
    {
     "name": "stdout",
     "output_type": "stream",
     "text": [
      "Filtered video saved: filtered_videos\\FaceShifter\\073_024.mp4\n"
     ]
    },
    {
     "name": "stderr",
     "output_type": "stream",
     "text": [
      "Processing 074_825.mp4: 100%|██████████| 345/345 [00:51<00:00,  6.73it/s]\n"
     ]
    },
    {
     "name": "stdout",
     "output_type": "stream",
     "text": [
      "Filtered video saved: filtered_videos\\FaceShifter\\074_825.mp4\n"
     ]
    },
    {
     "name": "stderr",
     "output_type": "stream",
     "text": [
      "Processing 075_977.mp4: 100%|██████████| 613/613 [00:46<00:00, 13.16it/s]\n"
     ]
    },
    {
     "name": "stdout",
     "output_type": "stream",
     "text": [
      "Filtered video saved: filtered_videos\\FaceShifter\\075_977.mp4\n"
     ]
    },
    {
     "name": "stderr",
     "output_type": "stream",
     "text": [
      "Processing 076_079.mp4: 100%|██████████| 329/329 [00:24<00:00, 13.67it/s]\n"
     ]
    },
    {
     "name": "stdout",
     "output_type": "stream",
     "text": [
      "Filtered video saved: filtered_videos\\FaceShifter\\076_079.mp4\n"
     ]
    },
    {
     "name": "stderr",
     "output_type": "stream",
     "text": [
      "Processing 077_100.mp4: 100%|██████████| 611/611 [00:20<00:00, 29.62it/s]\n"
     ]
    },
    {
     "name": "stdout",
     "output_type": "stream",
     "text": [
      "Filtered video saved: filtered_videos\\FaceShifter\\077_100.mp4\n"
     ]
    },
    {
     "name": "stderr",
     "output_type": "stream",
     "text": [
      "Processing 078_955.mp4: 100%|██████████| 523/523 [00:34<00:00, 15.34it/s]\n"
     ]
    },
    {
     "name": "stdout",
     "output_type": "stream",
     "text": [
      "Filtered video saved: filtered_videos\\FaceShifter\\078_955.mp4\n"
     ]
    },
    {
     "name": "stderr",
     "output_type": "stream",
     "text": [
      "Processing 079_076.mp4: 100%|██████████| 424/424 [00:31<00:00, 13.46it/s]\n"
     ]
    },
    {
     "name": "stdout",
     "output_type": "stream",
     "text": [
      "Filtered video saved: filtered_videos\\FaceShifter\\079_076.mp4\n"
     ]
    },
    {
     "name": "stderr",
     "output_type": "stream",
     "text": [
      "Processing 080_061.mp4: 100%|██████████| 483/483 [00:17<00:00, 27.22it/s]\n"
     ]
    },
    {
     "name": "stdout",
     "output_type": "stream",
     "text": [
      "Filtered video saved: filtered_videos\\FaceShifter\\080_061.mp4\n"
     ]
    },
    {
     "name": "stderr",
     "output_type": "stream",
     "text": [
      "Processing 081_087.mp4: 100%|██████████| 1170/1170 [00:42<00:00, 27.85it/s]\n"
     ]
    },
    {
     "name": "stdout",
     "output_type": "stream",
     "text": [
      "Filtered video saved: filtered_videos\\FaceShifter\\081_087.mp4\n"
     ]
    },
    {
     "name": "stderr",
     "output_type": "stream",
     "text": [
      "Processing 082_103.mp4: 100%|██████████| 316/316 [00:08<00:00, 35.82it/s]\n"
     ]
    },
    {
     "name": "stdout",
     "output_type": "stream",
     "text": [
      "Filtered video saved: filtered_videos\\FaceShifter\\082_103.mp4\n"
     ]
    },
    {
     "name": "stderr",
     "output_type": "stream",
     "text": [
      "Processing 083_213.mp4: 100%|██████████| 545/545 [01:14<00:00,  7.27it/s]\n"
     ]
    },
    {
     "name": "stdout",
     "output_type": "stream",
     "text": [
      "Filtered video saved: filtered_videos\\FaceShifter\\083_213.mp4\n"
     ]
    },
    {
     "name": "stderr",
     "output_type": "stream",
     "text": [
      "Processing 084_042.mp4: 100%|██████████| 375/375 [00:51<00:00,  7.24it/s]\n"
     ]
    },
    {
     "name": "stdout",
     "output_type": "stream",
     "text": [
      "Filtered video saved: filtered_videos\\FaceShifter\\084_042.mp4\n"
     ]
    },
    {
     "name": "stderr",
     "output_type": "stream",
     "text": [
      "Processing 085_124.mp4: 100%|██████████| 329/329 [00:09<00:00, 35.08it/s]\n"
     ]
    },
    {
     "name": "stdout",
     "output_type": "stream",
     "text": [
      "Filtered video saved: filtered_videos\\FaceShifter\\085_124.mp4\n"
     ]
    },
    {
     "name": "stderr",
     "output_type": "stream",
     "text": [
      "Processing 086_090.mp4: 100%|██████████| 935/935 [01:05<00:00, 14.37it/s]\n"
     ]
    },
    {
     "name": "stdout",
     "output_type": "stream",
     "text": [
      "Filtered video saved: filtered_videos\\FaceShifter\\086_090.mp4\n"
     ]
    },
    {
     "name": "stderr",
     "output_type": "stream",
     "text": [
      "Processing 087_081.mp4: 100%|██████████| 309/309 [00:11<00:00, 27.27it/s]\n"
     ]
    },
    {
     "name": "stdout",
     "output_type": "stream",
     "text": [
      "Filtered video saved: filtered_videos\\FaceShifter\\087_081.mp4\n"
     ]
    },
    {
     "name": "stderr",
     "output_type": "stream",
     "text": [
      "Processing 088_060.mp4: 100%|██████████| 665/665 [00:22<00:00, 30.10it/s]\n"
     ]
    },
    {
     "name": "stdout",
     "output_type": "stream",
     "text": [
      "Filtered video saved: filtered_videos\\FaceShifter\\088_060.mp4\n"
     ]
    },
    {
     "name": "stderr",
     "output_type": "stream",
     "text": [
      "Processing 089_065.mp4: 100%|██████████| 751/751 [00:57<00:00, 13.13it/s]\n"
     ]
    },
    {
     "name": "stdout",
     "output_type": "stream",
     "text": [
      "Filtered video saved: filtered_videos\\FaceShifter\\089_065.mp4\n"
     ]
    },
    {
     "name": "stderr",
     "output_type": "stream",
     "text": [
      "Processing 090_086.mp4: 100%|██████████| 687/687 [00:57<00:00, 11.85it/s]\n"
     ]
    },
    {
     "name": "stdout",
     "output_type": "stream",
     "text": [
      "Filtered video saved: filtered_videos\\FaceShifter\\090_086.mp4\n"
     ]
    },
    {
     "name": "stderr",
     "output_type": "stream",
     "text": [
      "Processing 091_116.mp4: 100%|██████████| 639/639 [00:23<00:00, 27.61it/s]\n"
     ]
    },
    {
     "name": "stdout",
     "output_type": "stream",
     "text": [
      "Filtered video saved: filtered_videos\\FaceShifter\\091_116.mp4\n"
     ]
    },
    {
     "name": "stderr",
     "output_type": "stream",
     "text": [
      "Processing 092_098.mp4: 100%|██████████| 460/460 [00:14<00:00, 31.83it/s]\n"
     ]
    },
    {
     "name": "stdout",
     "output_type": "stream",
     "text": [
      "Filtered video saved: filtered_videos\\FaceShifter\\092_098.mp4\n"
     ]
    },
    {
     "name": "stderr",
     "output_type": "stream",
     "text": [
      "Processing 093_121.mp4: 100%|██████████| 308/308 [00:22<00:00, 13.92it/s]\n"
     ]
    },
    {
     "name": "stdout",
     "output_type": "stream",
     "text": [
      "Filtered video saved: filtered_videos\\FaceShifter\\093_121.mp4\n"
     ]
    },
    {
     "name": "stderr",
     "output_type": "stream",
     "text": [
      "Processing 094_111.mp4: 100%|██████████| 559/559 [00:38<00:00, 14.35it/s]\n"
     ]
    },
    {
     "name": "stdout",
     "output_type": "stream",
     "text": [
      "Filtered video saved: filtered_videos\\FaceShifter\\094_111.mp4\n"
     ]
    },
    {
     "name": "stderr",
     "output_type": "stream",
     "text": [
      "Processing 095_053.mp4: 100%|██████████| 1006/1006 [00:31<00:00, 32.04it/s]\n"
     ]
    },
    {
     "name": "stdout",
     "output_type": "stream",
     "text": [
      "Filtered video saved: filtered_videos\\FaceShifter\\095_053.mp4\n"
     ]
    },
    {
     "name": "stderr",
     "output_type": "stream",
     "text": [
      "Processing 096_101.mp4: 100%|██████████| 504/504 [01:15<00:00,  6.64it/s]\n"
     ]
    },
    {
     "name": "stdout",
     "output_type": "stream",
     "text": [
      "Filtered video saved: filtered_videos\\FaceShifter\\096_101.mp4\n"
     ]
    },
    {
     "name": "stderr",
     "output_type": "stream",
     "text": [
      "Processing 097_033.mp4: 100%|██████████| 478/478 [00:15<00:00, 31.16it/s]\n"
     ]
    },
    {
     "name": "stdout",
     "output_type": "stream",
     "text": [
      "Filtered video saved: filtered_videos\\FaceShifter\\097_033.mp4\n"
     ]
    },
    {
     "name": "stderr",
     "output_type": "stream",
     "text": [
      "Processing 098_092.mp4: 100%|██████████| 299/299 [00:10<00:00, 28.18it/s]\n"
     ]
    },
    {
     "name": "stdout",
     "output_type": "stream",
     "text": [
      "Filtered video saved: filtered_videos\\FaceShifter\\098_092.mp4\n"
     ]
    },
    {
     "name": "stderr",
     "output_type": "stream",
     "text": [
      "Processing 099_295.mp4: 100%|██████████| 613/613 [01:51<00:00,  5.52it/s]\n"
     ]
    },
    {
     "name": "stdout",
     "output_type": "stream",
     "text": [
      "Filtered video saved: filtered_videos\\FaceShifter\\099_295.mp4\n"
     ]
    },
    {
     "name": "stderr",
     "output_type": "stream",
     "text": [
      "Processing 100_077.mp4: 100%|██████████| 423/423 [00:18<00:00, 23.33it/s]\n"
     ]
    },
    {
     "name": "stdout",
     "output_type": "stream",
     "text": [
      "Filtered video saved: filtered_videos\\FaceShifter\\100_077.mp4\n"
     ]
    },
    {
     "name": "stderr",
     "output_type": "stream",
     "text": [
      "Processing 101_096.mp4: 100%|██████████| 1148/1148 [00:56<00:00, 20.32it/s]\n"
     ]
    },
    {
     "name": "stdout",
     "output_type": "stream",
     "text": [
      "Filtered video saved: filtered_videos\\FaceShifter\\101_096.mp4\n"
     ]
    },
    {
     "name": "stderr",
     "output_type": "stream",
     "text": [
      "Processing 102_114.mp4: 100%|██████████| 389/389 [00:12<00:00, 30.24it/s]\n"
     ]
    },
    {
     "name": "stdout",
     "output_type": "stream",
     "text": [
      "Filtered video saved: filtered_videos\\FaceShifter\\102_114.mp4\n"
     ]
    },
    {
     "name": "stderr",
     "output_type": "stream",
     "text": [
      "Processing 103_082.mp4: 100%|██████████| 595/595 [00:18<00:00, 32.25it/s]\n"
     ]
    },
    {
     "name": "stdout",
     "output_type": "stream",
     "text": [
      "Filtered video saved: filtered_videos\\FaceShifter\\103_082.mp4\n"
     ]
    },
    {
     "name": "stderr",
     "output_type": "stream",
     "text": [
      "Processing 104_126.mp4: 100%|██████████| 462/462 [00:14<00:00, 32.60it/s]\n"
     ]
    },
    {
     "name": "stdout",
     "output_type": "stream",
     "text": [
      "Filtered video saved: filtered_videos\\FaceShifter\\104_126.mp4\n"
     ]
    },
    {
     "name": "stderr",
     "output_type": "stream",
     "text": [
      "Processing 105_180.mp4: 100%|██████████| 300/300 [00:08<00:00, 34.94it/s]\n"
     ]
    },
    {
     "name": "stdout",
     "output_type": "stream",
     "text": [
      "Filtered video saved: filtered_videos\\FaceShifter\\105_180.mp4\n"
     ]
    },
    {
     "name": "stderr",
     "output_type": "stream",
     "text": [
      "Processing 106_198.mp4: 100%|██████████| 356/356 [00:14<00:00, 24.34it/s]\n"
     ]
    },
    {
     "name": "stdout",
     "output_type": "stream",
     "text": [
      "Filtered video saved: filtered_videos\\FaceShifter\\106_198.mp4\n"
     ]
    },
    {
     "name": "stderr",
     "output_type": "stream",
     "text": [
      "Processing 107_109.mp4: 100%|██████████| 556/556 [00:17<00:00, 32.58it/s]\n"
     ]
    },
    {
     "name": "stdout",
     "output_type": "stream",
     "text": [
      "Filtered video saved: filtered_videos\\FaceShifter\\107_109.mp4\n"
     ]
    },
    {
     "name": "stderr",
     "output_type": "stream",
     "text": [
      "Processing 108_052.mp4: 100%|██████████| 300/300 [00:34<00:00,  8.73it/s]\n"
     ]
    },
    {
     "name": "stdout",
     "output_type": "stream",
     "text": [
      "Filtered video saved: filtered_videos\\FaceShifter\\108_052.mp4\n"
     ]
    },
    {
     "name": "stderr",
     "output_type": "stream",
     "text": [
      "Processing 109_107.mp4: 100%|██████████| 298/298 [00:08<00:00, 34.57it/s]\n"
     ]
    },
    {
     "name": "stdout",
     "output_type": "stream",
     "text": [
      "Filtered video saved: filtered_videos\\FaceShifter\\109_107.mp4\n"
     ]
    },
    {
     "name": "stderr",
     "output_type": "stream",
     "text": [
      "Processing 110_043.mp4: 100%|██████████| 565/565 [00:29<00:00, 19.26it/s]\n"
     ]
    },
    {
     "name": "stdout",
     "output_type": "stream",
     "text": [
      "Filtered video saved: filtered_videos\\FaceShifter\\110_043.mp4\n"
     ]
    },
    {
     "name": "stderr",
     "output_type": "stream",
     "text": [
      "Processing 111_094.mp4: 100%|██████████| 433/433 [00:12<00:00, 33.85it/s]\n"
     ]
    },
    {
     "name": "stdout",
     "output_type": "stream",
     "text": [
      "Filtered video saved: filtered_videos\\FaceShifter\\111_094.mp4\n"
     ]
    },
    {
     "name": "stderr",
     "output_type": "stream",
     "text": [
      "Processing 112_892.mp4: 100%|██████████| 418/418 [01:01<00:00,  6.82it/s]\n"
     ]
    },
    {
     "name": "stdout",
     "output_type": "stream",
     "text": [
      "Filtered video saved: filtered_videos\\FaceShifter\\112_892.mp4\n"
     ]
    },
    {
     "name": "stderr",
     "output_type": "stream",
     "text": [
      "Processing 113_983.mp4: 100%|██████████| 841/841 [00:54<00:00, 15.31it/s]\n"
     ]
    },
    {
     "name": "stdout",
     "output_type": "stream",
     "text": [
      "Filtered video saved: filtered_videos\\FaceShifter\\113_983.mp4\n"
     ]
    },
    {
     "name": "stderr",
     "output_type": "stream",
     "text": [
      "Processing 114_102.mp4: 100%|██████████| 1269/1269 [00:38<00:00, 32.80it/s]\n"
     ]
    },
    {
     "name": "stdout",
     "output_type": "stream",
     "text": [
      "Filtered video saved: filtered_videos\\FaceShifter\\114_102.mp4\n"
     ]
    },
    {
     "name": "stderr",
     "output_type": "stream",
     "text": [
      "Processing 115_939.mp4: 100%|██████████| 320/320 [00:20<00:00, 15.42it/s]\n"
     ]
    },
    {
     "name": "stdout",
     "output_type": "stream",
     "text": [
      "Filtered video saved: filtered_videos\\FaceShifter\\115_939.mp4\n"
     ]
    },
    {
     "name": "stderr",
     "output_type": "stream",
     "text": [
      "Processing 116_091.mp4: 100%|██████████| 327/327 [00:09<00:00, 32.98it/s]\n"
     ]
    },
    {
     "name": "stdout",
     "output_type": "stream",
     "text": [
      "Filtered video saved: filtered_videos\\FaceShifter\\116_091.mp4\n"
     ]
    },
    {
     "name": "stderr",
     "output_type": "stream",
     "text": [
      "Processing 117_217.mp4: 100%|██████████| 548/548 [00:52<00:00, 10.43it/s]\n"
     ]
    },
    {
     "name": "stdout",
     "output_type": "stream",
     "text": [
      "Filtered video saved: filtered_videos\\FaceShifter\\117_217.mp4\n"
     ]
    },
    {
     "name": "stderr",
     "output_type": "stream",
     "text": [
      "Processing 118_120.mp4: 100%|██████████| 352/352 [00:16<00:00, 21.67it/s]\n"
     ]
    },
    {
     "name": "stdout",
     "output_type": "stream",
     "text": [
      "Filtered video saved: filtered_videos\\FaceShifter\\118_120.mp4\n"
     ]
    },
    {
     "name": "stderr",
     "output_type": "stream",
     "text": [
      "Processing 119_123.mp4: 100%|██████████| 502/502 [00:15<00:00, 31.46it/s]\n"
     ]
    },
    {
     "name": "stdout",
     "output_type": "stream",
     "text": [
      "Filtered video saved: filtered_videos\\FaceShifter\\119_123.mp4\n"
     ]
    },
    {
     "name": "stderr",
     "output_type": "stream",
     "text": [
      "Processing 120_118.mp4: 100%|██████████| 405/405 [00:16<00:00, 24.05it/s]\n"
     ]
    },
    {
     "name": "stdout",
     "output_type": "stream",
     "text": [
      "Filtered video saved: filtered_videos\\FaceShifter\\120_118.mp4\n"
     ]
    },
    {
     "name": "stderr",
     "output_type": "stream",
     "text": [
      "Processing 121_093.mp4: 100%|██████████| 553/553 [01:33<00:00,  5.90it/s]\n"
     ]
    },
    {
     "name": "stdout",
     "output_type": "stream",
     "text": [
      "Filtered video saved: filtered_videos\\FaceShifter\\121_093.mp4\n"
     ]
    },
    {
     "name": "stderr",
     "output_type": "stream",
     "text": [
      "Processing 122_144.mp4: 100%|██████████| 309/309 [00:22<00:00, 13.65it/s]\n"
     ]
    },
    {
     "name": "stdout",
     "output_type": "stream",
     "text": [
      "Filtered video saved: filtered_videos\\FaceShifter\\122_144.mp4\n"
     ]
    },
    {
     "name": "stderr",
     "output_type": "stream",
     "text": [
      "Processing 123_119.mp4: 100%|██████████| 514/514 [00:16<00:00, 31.80it/s]\n"
     ]
    },
    {
     "name": "stdout",
     "output_type": "stream",
     "text": [
      "Filtered video saved: filtered_videos\\FaceShifter\\123_119.mp4\n"
     ]
    },
    {
     "name": "stderr",
     "output_type": "stream",
     "text": [
      "Processing 124_085.mp4: 100%|██████████| 318/318 [00:09<00:00, 33.32it/s]\n"
     ]
    },
    {
     "name": "stdout",
     "output_type": "stream",
     "text": [
      "Filtered video saved: filtered_videos\\FaceShifter\\124_085.mp4\n"
     ]
    },
    {
     "name": "stderr",
     "output_type": "stream",
     "text": [
      "Processing 125_038.mp4: 100%|██████████| 500/500 [00:34<00:00, 14.57it/s]\n"
     ]
    },
    {
     "name": "stdout",
     "output_type": "stream",
     "text": [
      "Filtered video saved: filtered_videos\\FaceShifter\\125_038.mp4\n"
     ]
    },
    {
     "name": "stderr",
     "output_type": "stream",
     "text": [
      "Processing 126_104.mp4: 100%|██████████| 328/328 [00:10<00:00, 32.34it/s]\n"
     ]
    },
    {
     "name": "stdout",
     "output_type": "stream",
     "text": [
      "Filtered video saved: filtered_videos\\FaceShifter\\126_104.mp4\n"
     ]
    },
    {
     "name": "stderr",
     "output_type": "stream",
     "text": [
      "Processing 127_129.mp4: 100%|██████████| 864/864 [01:00<00:00, 14.28it/s]\n"
     ]
    },
    {
     "name": "stdout",
     "output_type": "stream",
     "text": [
      "Filtered video saved: filtered_videos\\FaceShifter\\127_129.mp4\n"
     ]
    },
    {
     "name": "stderr",
     "output_type": "stream",
     "text": [
      "Processing 128_896.mp4: 100%|██████████| 735/735 [00:22<00:00, 32.41it/s]\n"
     ]
    },
    {
     "name": "stdout",
     "output_type": "stream",
     "text": [
      "Filtered video saved: filtered_videos\\FaceShifter\\128_896.mp4\n"
     ]
    },
    {
     "name": "stderr",
     "output_type": "stream",
     "text": [
      "Processing 129_127.mp4: 100%|██████████| 330/330 [00:23<00:00, 13.94it/s]\n"
     ]
    },
    {
     "name": "stdout",
     "output_type": "stream",
     "text": [
      "Filtered video saved: filtered_videos\\FaceShifter\\129_127.mp4\n"
     ]
    },
    {
     "name": "stderr",
     "output_type": "stream",
     "text": [
      "Processing 130_139.mp4: 100%|██████████| 662/662 [00:25<00:00, 26.42it/s]\n"
     ]
    },
    {
     "name": "stdout",
     "output_type": "stream",
     "text": [
      "Filtered video saved: filtered_videos\\FaceShifter\\130_139.mp4\n"
     ]
    },
    {
     "name": "stderr",
     "output_type": "stream",
     "text": [
      "Processing 131_518.mp4: 100%|██████████| 306/306 [00:18<00:00, 16.80it/s]\n"
     ]
    },
    {
     "name": "stdout",
     "output_type": "stream",
     "text": [
      "Filtered video saved: filtered_videos\\FaceShifter\\131_518.mp4\n"
     ]
    },
    {
     "name": "stderr",
     "output_type": "stream",
     "text": [
      "Processing 132_007.mp4: 100%|██████████| 413/413 [00:16<00:00, 25.16it/s]\n"
     ]
    },
    {
     "name": "stdout",
     "output_type": "stream",
     "text": [
      "Filtered video saved: filtered_videos\\FaceShifter\\132_007.mp4\n"
     ]
    },
    {
     "name": "stderr",
     "output_type": "stream",
     "text": [
      "Processing 133_148.mp4: 100%|██████████| 767/767 [00:28<00:00, 27.26it/s]\n"
     ]
    },
    {
     "name": "stdout",
     "output_type": "stream",
     "text": [
      "Filtered video saved: filtered_videos\\FaceShifter\\133_148.mp4\n"
     ]
    },
    {
     "name": "stderr",
     "output_type": "stream",
     "text": [
      "Processing 134_192.mp4: 100%|██████████| 346/346 [00:26<00:00, 13.07it/s]\n"
     ]
    },
    {
     "name": "stdout",
     "output_type": "stream",
     "text": [
      "Filtered video saved: filtered_videos\\FaceShifter\\134_192.mp4\n"
     ]
    },
    {
     "name": "stderr",
     "output_type": "stream",
     "text": [
      "Processing 135_880.mp4: 100%|██████████| 327/327 [00:27<00:00, 12.00it/s]\n"
     ]
    },
    {
     "name": "stdout",
     "output_type": "stream",
     "text": [
      "Filtered video saved: filtered_videos\\FaceShifter\\135_880.mp4\n"
     ]
    },
    {
     "name": "stderr",
     "output_type": "stream",
     "text": [
      "Processing 136_285.mp4: 100%|██████████| 611/611 [00:54<00:00, 11.17it/s]\n"
     ]
    },
    {
     "name": "stdout",
     "output_type": "stream",
     "text": [
      "Filtered video saved: filtered_videos\\FaceShifter\\136_285.mp4\n"
     ]
    },
    {
     "name": "stderr",
     "output_type": "stream",
     "text": [
      "Processing 137_165.mp4: 100%|██████████| 606/606 [00:25<00:00, 24.12it/s]\n"
     ]
    },
    {
     "name": "stdout",
     "output_type": "stream",
     "text": [
      "Filtered video saved: filtered_videos\\FaceShifter\\137_165.mp4\n"
     ]
    },
    {
     "name": "stderr",
     "output_type": "stream",
     "text": [
      "Processing 138_142.mp4: 100%|██████████| 410/410 [00:12<00:00, 32.07it/s]\n"
     ]
    },
    {
     "name": "stdout",
     "output_type": "stream",
     "text": [
      "Filtered video saved: filtered_videos\\FaceShifter\\138_142.mp4\n"
     ]
    },
    {
     "name": "stderr",
     "output_type": "stream",
     "text": [
      "Processing 139_130.mp4: 100%|██████████| 378/378 [00:11<00:00, 31.71it/s]\n"
     ]
    },
    {
     "name": "stdout",
     "output_type": "stream",
     "text": [
      "Filtered video saved: filtered_videos\\FaceShifter\\139_130.mp4\n"
     ]
    },
    {
     "name": "stderr",
     "output_type": "stream",
     "text": [
      "Processing 140_143.mp4: 100%|██████████| 485/485 [00:16<00:00, 28.73it/s]\n"
     ]
    },
    {
     "name": "stdout",
     "output_type": "stream",
     "text": [
      "Filtered video saved: filtered_videos\\FaceShifter\\140_143.mp4\n"
     ]
    },
    {
     "name": "stderr",
     "output_type": "stream",
     "text": [
      "Processing 141_161.mp4: 100%|██████████| 508/508 [00:20<00:00, 24.29it/s]\n"
     ]
    },
    {
     "name": "stdout",
     "output_type": "stream",
     "text": [
      "Filtered video saved: filtered_videos\\FaceShifter\\141_161.mp4\n"
     ]
    },
    {
     "name": "stderr",
     "output_type": "stream",
     "text": [
      "Processing 142_138.mp4: 100%|██████████| 962/962 [00:30<00:00, 31.26it/s]\n"
     ]
    },
    {
     "name": "stdout",
     "output_type": "stream",
     "text": [
      "Filtered video saved: filtered_videos\\FaceShifter\\142_138.mp4\n"
     ]
    },
    {
     "name": "stderr",
     "output_type": "stream",
     "text": [
      "Processing 143_140.mp4: 100%|██████████| 414/414 [00:12<00:00, 33.35it/s]\n"
     ]
    },
    {
     "name": "stdout",
     "output_type": "stream",
     "text": [
      "Filtered video saved: filtered_videos\\FaceShifter\\143_140.mp4\n"
     ]
    },
    {
     "name": "stderr",
     "output_type": "stream",
     "text": [
      "Processing 144_122.mp4: 100%|██████████| 344/344 [00:23<00:00, 14.53it/s]\n"
     ]
    },
    {
     "name": "stdout",
     "output_type": "stream",
     "text": [
      "Filtered video saved: filtered_videos\\FaceShifter\\144_122.mp4\n"
     ]
    },
    {
     "name": "stderr",
     "output_type": "stream",
     "text": [
      "Processing 145_299.mp4: 100%|██████████| 475/475 [00:13<00:00, 35.81it/s]\n"
     ]
    },
    {
     "name": "stdout",
     "output_type": "stream",
     "text": [
      "Filtered video saved: filtered_videos\\FaceShifter\\145_299.mp4\n"
     ]
    },
    {
     "name": "stderr",
     "output_type": "stream",
     "text": [
      "Processing 146_256.mp4: 100%|██████████| 1003/1003 [01:10<00:00, 14.22it/s]\n"
     ]
    },
    {
     "name": "stdout",
     "output_type": "stream",
     "text": [
      "Filtered video saved: filtered_videos\\FaceShifter\\146_256.mp4\n"
     ]
    },
    {
     "name": "stderr",
     "output_type": "stream",
     "text": [
      "Processing 147_055.mp4: 100%|██████████| 667/667 [00:21<00:00, 31.47it/s]\n"
     ]
    },
    {
     "name": "stdout",
     "output_type": "stream",
     "text": [
      "Filtered video saved: filtered_videos\\FaceShifter\\147_055.mp4\n"
     ]
    },
    {
     "name": "stderr",
     "output_type": "stream",
     "text": [
      "Processing 148_133.mp4: 100%|██████████| 475/475 [00:14<00:00, 33.64it/s]\n"
     ]
    },
    {
     "name": "stdout",
     "output_type": "stream",
     "text": [
      "Filtered video saved: filtered_videos\\FaceShifter\\148_133.mp4\n"
     ]
    },
    {
     "name": "stderr",
     "output_type": "stream",
     "text": [
      "Processing 149_152.mp4: 100%|██████████| 363/363 [00:14<00:00, 24.53it/s]\n"
     ]
    },
    {
     "name": "stdout",
     "output_type": "stream",
     "text": [
      "Filtered video saved: filtered_videos\\FaceShifter\\149_152.mp4\n"
     ]
    },
    {
     "name": "stderr",
     "output_type": "stream",
     "text": [
      "Processing 150_153.mp4: 100%|██████████| 456/456 [00:18<00:00, 24.41it/s]\n"
     ]
    },
    {
     "name": "stdout",
     "output_type": "stream",
     "text": [
      "Filtered video saved: filtered_videos\\FaceShifter\\150_153.mp4\n"
     ]
    },
    {
     "name": "stderr",
     "output_type": "stream",
     "text": [
      "Processing 151_225.mp4: 100%|██████████| 347/347 [00:24<00:00, 14.45it/s]\n"
     ]
    },
    {
     "name": "stdout",
     "output_type": "stream",
     "text": [
      "Filtered video saved: filtered_videos\\FaceShifter\\151_225.mp4\n"
     ]
    },
    {
     "name": "stderr",
     "output_type": "stream",
     "text": [
      "Processing 152_149.mp4: 100%|██████████| 313/313 [00:08<00:00, 34.93it/s]\n"
     ]
    },
    {
     "name": "stdout",
     "output_type": "stream",
     "text": [
      "Filtered video saved: filtered_videos\\FaceShifter\\152_149.mp4\n"
     ]
    },
    {
     "name": "stderr",
     "output_type": "stream",
     "text": [
      "Processing 153_150.mp4: 100%|██████████| 732/732 [00:23<00:00, 31.63it/s]\n"
     ]
    },
    {
     "name": "stdout",
     "output_type": "stream",
     "text": [
      "Filtered video saved: filtered_videos\\FaceShifter\\153_150.mp4\n"
     ]
    },
    {
     "name": "stderr",
     "output_type": "stream",
     "text": [
      "Processing 154_386.mp4: 100%|██████████| 594/594 [00:39<00:00, 15.12it/s]\n"
     ]
    },
    {
     "name": "stdout",
     "output_type": "stream",
     "text": [
      "Filtered video saved: filtered_videos\\FaceShifter\\154_386.mp4\n"
     ]
    },
    {
     "name": "stderr",
     "output_type": "stream",
     "text": [
      "Processing 155_576.mp4: 100%|██████████| 829/829 [00:39<00:00, 21.23it/s]\n"
     ]
    },
    {
     "name": "stdout",
     "output_type": "stream",
     "text": [
      "Filtered video saved: filtered_videos\\FaceShifter\\155_576.mp4\n"
     ]
    },
    {
     "name": "stderr",
     "output_type": "stream",
     "text": [
      "Processing 156_243.mp4: 100%|██████████| 518/518 [00:15<00:00, 33.01it/s]\n"
     ]
    },
    {
     "name": "stdout",
     "output_type": "stream",
     "text": [
      "Filtered video saved: filtered_videos\\FaceShifter\\156_243.mp4\n"
     ]
    },
    {
     "name": "stderr",
     "output_type": "stream",
     "text": [
      "Processing 157_245.mp4: 100%|██████████| 486/486 [00:15<00:00, 32.16it/s]\n"
     ]
    },
    {
     "name": "stdout",
     "output_type": "stream",
     "text": [
      "Filtered video saved: filtered_videos\\FaceShifter\\157_245.mp4\n"
     ]
    },
    {
     "name": "stderr",
     "output_type": "stream",
     "text": [
      "Processing 158_379.mp4: 100%|██████████| 444/444 [00:12<00:00, 34.27it/s]\n"
     ]
    },
    {
     "name": "stdout",
     "output_type": "stream",
     "text": [
      "Filtered video saved: filtered_videos\\FaceShifter\\158_379.mp4\n"
     ]
    },
    {
     "name": "stderr",
     "output_type": "stream",
     "text": [
      "Processing 159_175.mp4: 100%|██████████| 325/325 [00:09<00:00, 33.00it/s]\n"
     ]
    },
    {
     "name": "stdout",
     "output_type": "stream",
     "text": [
      "Filtered video saved: filtered_videos\\FaceShifter\\159_175.mp4\n"
     ]
    },
    {
     "name": "stderr",
     "output_type": "stream",
     "text": [
      "Processing 160_928.mp4: 100%|██████████| 534/534 [00:36<00:00, 14.79it/s]\n"
     ]
    },
    {
     "name": "stdout",
     "output_type": "stream",
     "text": [
      "Filtered video saved: filtered_videos\\FaceShifter\\160_928.mp4\n"
     ]
    },
    {
     "name": "stderr",
     "output_type": "stream",
     "text": [
      "Processing 161_141.mp4: 100%|██████████| 369/369 [00:12<00:00, 29.15it/s]\n"
     ]
    },
    {
     "name": "stdout",
     "output_type": "stream",
     "text": [
      "Filtered video saved: filtered_videos\\FaceShifter\\161_141.mp4\n"
     ]
    },
    {
     "name": "stderr",
     "output_type": "stream",
     "text": [
      "Processing 162_330.mp4: 100%|██████████| 685/685 [00:50<00:00, 13.62it/s]\n"
     ]
    },
    {
     "name": "stdout",
     "output_type": "stream",
     "text": [
      "Filtered video saved: filtered_videos\\FaceShifter\\162_330.mp4\n"
     ]
    },
    {
     "name": "stderr",
     "output_type": "stream",
     "text": [
      "Processing 163_031.mp4: 100%|██████████| 304/304 [00:19<00:00, 15.41it/s]\n"
     ]
    },
    {
     "name": "stdout",
     "output_type": "stream",
     "text": [
      "Filtered video saved: filtered_videos\\FaceShifter\\163_031.mp4\n"
     ]
    },
    {
     "name": "stderr",
     "output_type": "stream",
     "text": [
      "Processing 164_216.mp4: 100%|██████████| 1021/1021 [00:40<00:00, 25.24it/s]\n"
     ]
    },
    {
     "name": "stdout",
     "output_type": "stream",
     "text": [
      "Filtered video saved: filtered_videos\\FaceShifter\\164_216.mp4\n"
     ]
    },
    {
     "name": "stderr",
     "output_type": "stream",
     "text": [
      "Processing 165_137.mp4: 100%|██████████| 387/387 [00:10<00:00, 36.92it/s]\n"
     ]
    },
    {
     "name": "stdout",
     "output_type": "stream",
     "text": [
      "Filtered video saved: filtered_videos\\FaceShifter\\165_137.mp4\n"
     ]
    },
    {
     "name": "stderr",
     "output_type": "stream",
     "text": [
      "Processing 166_167.mp4: 100%|██████████| 756/756 [00:20<00:00, 36.03it/s]\n"
     ]
    },
    {
     "name": "stdout",
     "output_type": "stream",
     "text": [
      "Filtered video saved: filtered_videos\\FaceShifter\\166_167.mp4\n"
     ]
    },
    {
     "name": "stderr",
     "output_type": "stream",
     "text": [
      "Processing 167_166.mp4: 100%|██████████| 341/341 [00:13<00:00, 24.62it/s]\n"
     ]
    },
    {
     "name": "stdout",
     "output_type": "stream",
     "text": [
      "Filtered video saved: filtered_videos\\FaceShifter\\167_166.mp4\n"
     ]
    },
    {
     "name": "stderr",
     "output_type": "stream",
     "text": [
      "Processing 168_222.mp4: 100%|██████████| 1228/1228 [00:35<00:00, 34.45it/s]\n"
     ]
    },
    {
     "name": "stdout",
     "output_type": "stream",
     "text": [
      "Filtered video saved: filtered_videos\\FaceShifter\\168_222.mp4\n"
     ]
    },
    {
     "name": "stderr",
     "output_type": "stream",
     "text": [
      "Processing 169_227.mp4: 100%|██████████| 649/649 [00:18<00:00, 35.38it/s]\n"
     ]
    },
    {
     "name": "stdout",
     "output_type": "stream",
     "text": [
      "Filtered video saved: filtered_videos\\FaceShifter\\169_227.mp4\n"
     ]
    },
    {
     "name": "stderr",
     "output_type": "stream",
     "text": [
      "Processing 170_186.mp4: 100%|██████████| 504/504 [01:24<00:00,  5.94it/s]\n"
     ]
    },
    {
     "name": "stdout",
     "output_type": "stream",
     "text": [
      "Filtered video saved: filtered_videos\\FaceShifter\\170_186.mp4\n"
     ]
    },
    {
     "name": "stderr",
     "output_type": "stream",
     "text": [
      "Processing 171_173.mp4: 100%|██████████| 541/541 [00:35<00:00, 15.11it/s]\n"
     ]
    },
    {
     "name": "stdout",
     "output_type": "stream",
     "text": [
      "Filtered video saved: filtered_videos\\FaceShifter\\171_173.mp4\n"
     ]
    },
    {
     "name": "stderr",
     "output_type": "stream",
     "text": [
      "Processing 172_582.mp4: 100%|██████████| 752/752 [00:23<00:00, 31.81it/s]\n"
     ]
    },
    {
     "name": "stdout",
     "output_type": "stream",
     "text": [
      "Filtered video saved: filtered_videos\\FaceShifter\\172_582.mp4\n"
     ]
    },
    {
     "name": "stderr",
     "output_type": "stream",
     "text": [
      "Processing 173_171.mp4: 100%|██████████| 721/721 [00:53<00:00, 13.56it/s]\n"
     ]
    },
    {
     "name": "stdout",
     "output_type": "stream",
     "text": [
      "Filtered video saved: filtered_videos\\FaceShifter\\173_171.mp4\n"
     ]
    },
    {
     "name": "stderr",
     "output_type": "stream",
     "text": [
      "Processing 174_964.mp4: 100%|██████████| 414/414 [00:26<00:00, 15.89it/s]\n"
     ]
    },
    {
     "name": "stdout",
     "output_type": "stream",
     "text": [
      "Filtered video saved: filtered_videos\\FaceShifter\\174_964.mp4\n"
     ]
    },
    {
     "name": "stderr",
     "output_type": "stream",
     "text": [
      "Processing 175_159.mp4: 100%|██████████| 504/504 [00:14<00:00, 33.88it/s]\n"
     ]
    },
    {
     "name": "stdout",
     "output_type": "stream",
     "text": [
      "Filtered video saved: filtered_videos\\FaceShifter\\175_159.mp4\n"
     ]
    },
    {
     "name": "stderr",
     "output_type": "stream",
     "text": [
      "Processing 176_190.mp4: 100%|██████████| 376/376 [00:56<00:00,  6.71it/s]\n"
     ]
    },
    {
     "name": "stdout",
     "output_type": "stream",
     "text": [
      "Filtered video saved: filtered_videos\\FaceShifter\\176_190.mp4\n"
     ]
    },
    {
     "name": "stderr",
     "output_type": "stream",
     "text": [
      "Processing 177_211.mp4: 100%|██████████| 410/410 [00:16<00:00, 24.20it/s]\n"
     ]
    },
    {
     "name": "stdout",
     "output_type": "stream",
     "text": [
      "Filtered video saved: filtered_videos\\FaceShifter\\177_211.mp4\n"
     ]
    },
    {
     "name": "stderr",
     "output_type": "stream",
     "text": [
      "Processing 178_598.mp4: 100%|██████████| 521/521 [00:15<00:00, 34.04it/s]\n"
     ]
    },
    {
     "name": "stdout",
     "output_type": "stream",
     "text": [
      "Filtered video saved: filtered_videos\\FaceShifter\\178_598.mp4\n"
     ]
    },
    {
     "name": "stderr",
     "output_type": "stream",
     "text": [
      "Processing 179_212.mp4: 100%|██████████| 1260/1260 [00:38<00:00, 32.90it/s]\n"
     ]
    },
    {
     "name": "stdout",
     "output_type": "stream",
     "text": [
      "Filtered video saved: filtered_videos\\FaceShifter\\179_212.mp4\n"
     ]
    },
    {
     "name": "stderr",
     "output_type": "stream",
     "text": [
      "Processing 180_105.mp4: 100%|██████████| 569/569 [00:16<00:00, 34.04it/s]\n"
     ]
    },
    {
     "name": "stdout",
     "output_type": "stream",
     "text": [
      "Filtered video saved: filtered_videos\\FaceShifter\\180_105.mp4\n"
     ]
    },
    {
     "name": "stderr",
     "output_type": "stream",
     "text": [
      "Processing 181_199.mp4: 100%|██████████| 478/478 [00:13<00:00, 36.06it/s]\n"
     ]
    },
    {
     "name": "stdout",
     "output_type": "stream",
     "text": [
      "Filtered video saved: filtered_videos\\FaceShifter\\181_199.mp4\n"
     ]
    },
    {
     "name": "stderr",
     "output_type": "stream",
     "text": [
      "Processing 182_242.mp4: 100%|██████████| 620/620 [00:38<00:00, 16.07it/s]\n"
     ]
    },
    {
     "name": "stdout",
     "output_type": "stream",
     "text": [
      "Filtered video saved: filtered_videos\\FaceShifter\\182_242.mp4\n"
     ]
    },
    {
     "name": "stderr",
     "output_type": "stream",
     "text": [
      "Processing 183_253.mp4: 100%|██████████| 390/390 [00:24<00:00, 15.62it/s]\n"
     ]
    },
    {
     "name": "stdout",
     "output_type": "stream",
     "text": [
      "Filtered video saved: filtered_videos\\FaceShifter\\183_253.mp4\n"
     ]
    },
    {
     "name": "stderr",
     "output_type": "stream",
     "text": [
      "Processing 184_205.mp4: 100%|██████████| 1254/1254 [01:18<00:00, 15.97it/s]\n"
     ]
    },
    {
     "name": "stdout",
     "output_type": "stream",
     "text": [
      "Filtered video saved: filtered_videos\\FaceShifter\\184_205.mp4\n"
     ]
    },
    {
     "name": "stderr",
     "output_type": "stream",
     "text": [
      "Processing 185_276.mp4: 100%|██████████| 875/875 [00:36<00:00, 24.20it/s]\n"
     ]
    },
    {
     "name": "stdout",
     "output_type": "stream",
     "text": [
      "Filtered video saved: filtered_videos\\FaceShifter\\185_276.mp4\n"
     ]
    },
    {
     "name": "stderr",
     "output_type": "stream",
     "text": [
      "Processing 186_170.mp4: 100%|██████████| 334/334 [00:44<00:00,  7.48it/s]\n"
     ]
    },
    {
     "name": "stdout",
     "output_type": "stream",
     "text": [
      "Filtered video saved: filtered_videos\\FaceShifter\\186_170.mp4\n"
     ]
    },
    {
     "name": "stderr",
     "output_type": "stream",
     "text": [
      "Processing 187_234.mp4: 100%|██████████| 986/986 [01:05<00:00, 14.99it/s]\n"
     ]
    },
    {
     "name": "stdout",
     "output_type": "stream",
     "text": [
      "Filtered video saved: filtered_videos\\FaceShifter\\187_234.mp4\n"
     ]
    },
    {
     "name": "stderr",
     "output_type": "stream",
     "text": [
      "Processing 188_191.mp4: 100%|██████████| 310/310 [00:20<00:00, 15.21it/s]\n"
     ]
    },
    {
     "name": "stdout",
     "output_type": "stream",
     "text": [
      "Filtered video saved: filtered_videos\\FaceShifter\\188_191.mp4\n"
     ]
    },
    {
     "name": "stderr",
     "output_type": "stream",
     "text": [
      "Processing 189_200.mp4: 100%|██████████| 512/512 [00:16<00:00, 31.68it/s]\n"
     ]
    },
    {
     "name": "stdout",
     "output_type": "stream",
     "text": [
      "Filtered video saved: filtered_videos\\FaceShifter\\189_200.mp4\n"
     ]
    },
    {
     "name": "stderr",
     "output_type": "stream",
     "text": [
      "Processing 190_176.mp4: 100%|██████████| 331/331 [00:44<00:00,  7.50it/s]\n"
     ]
    },
    {
     "name": "stdout",
     "output_type": "stream",
     "text": [
      "Filtered video saved: filtered_videos\\FaceShifter\\190_176.mp4\n"
     ]
    },
    {
     "name": "stderr",
     "output_type": "stream",
     "text": [
      "Processing 191_188.mp4: 100%|██████████| 372/372 [00:49<00:00,  7.49it/s]\n"
     ]
    },
    {
     "name": "stdout",
     "output_type": "stream",
     "text": [
      "Filtered video saved: filtered_videos\\FaceShifter\\191_188.mp4\n"
     ]
    },
    {
     "name": "stderr",
     "output_type": "stream",
     "text": [
      "Processing 192_134.mp4: 100%|██████████| 287/287 [00:17<00:00, 16.50it/s]\n"
     ]
    },
    {
     "name": "stdout",
     "output_type": "stream",
     "text": [
      "Filtered video saved: filtered_videos\\FaceShifter\\192_134.mp4\n"
     ]
    },
    {
     "name": "stderr",
     "output_type": "stream",
     "text": [
      "Processing 193_030.mp4: 100%|██████████| 372/372 [00:50<00:00,  7.41it/s]\n"
     ]
    },
    {
     "name": "stdout",
     "output_type": "stream",
     "text": [
      "Filtered video saved: filtered_videos\\FaceShifter\\193_030.mp4\n"
     ]
    },
    {
     "name": "stderr",
     "output_type": "stream",
     "text": [
      "Processing 194_235.mp4: 100%|██████████| 567/567 [00:17<00:00, 32.94it/s]\n"
     ]
    },
    {
     "name": "stdout",
     "output_type": "stream",
     "text": [
      "Filtered video saved: filtered_videos\\FaceShifter\\194_235.mp4\n"
     ]
    },
    {
     "name": "stderr",
     "output_type": "stream",
     "text": [
      "Processing 195_442.mp4: 100%|██████████| 333/333 [00:20<00:00, 16.24it/s]\n"
     ]
    },
    {
     "name": "stdout",
     "output_type": "stream",
     "text": [
      "Filtered video saved: filtered_videos\\FaceShifter\\195_442.mp4\n"
     ]
    },
    {
     "name": "stderr",
     "output_type": "stream",
     "text": [
      "Processing 196_310.mp4: 100%|██████████| 426/426 [00:12<00:00, 33.03it/s]\n"
     ]
    },
    {
     "name": "stdout",
     "output_type": "stream",
     "text": [
      "Filtered video saved: filtered_videos\\FaceShifter\\196_310.mp4\n"
     ]
    },
    {
     "name": "stderr",
     "output_type": "stream",
     "text": [
      "Processing 197_224.mp4: 100%|██████████| 880/880 [00:27<00:00, 32.38it/s]\n"
     ]
    },
    {
     "name": "stdout",
     "output_type": "stream",
     "text": [
      "Filtered video saved: filtered_videos\\FaceShifter\\197_224.mp4\n"
     ]
    },
    {
     "name": "stderr",
     "output_type": "stream",
     "text": [
      "Processing 198_106.mp4: 100%|██████████| 392/392 [00:11<00:00, 33.25it/s]\n"
     ]
    },
    {
     "name": "stdout",
     "output_type": "stream",
     "text": [
      "Filtered video saved: filtered_videos\\FaceShifter\\198_106.mp4\n"
     ]
    },
    {
     "name": "stderr",
     "output_type": "stream",
     "text": [
      "Processing 199_181.mp4: 100%|██████████| 368/368 [00:23<00:00, 15.92it/s]\n"
     ]
    },
    {
     "name": "stdout",
     "output_type": "stream",
     "text": [
      "Filtered video saved: filtered_videos\\FaceShifter\\199_181.mp4\n"
     ]
    },
    {
     "name": "stderr",
     "output_type": "stream",
     "text": [
      "Processing 200_189.mp4: 100%|██████████| 719/719 [00:29<00:00, 24.34it/s]\n"
     ]
    },
    {
     "name": "stdout",
     "output_type": "stream",
     "text": [
      "Filtered video saved: filtered_videos\\FaceShifter\\200_189.mp4\n"
     ]
    },
    {
     "name": "stderr",
     "output_type": "stream",
     "text": [
      "Processing 201_203.mp4: 100%|██████████| 863/863 [00:25<00:00, 33.95it/s]\n"
     ]
    },
    {
     "name": "stdout",
     "output_type": "stream",
     "text": [
      "Filtered video saved: filtered_videos\\FaceShifter\\201_203.mp4\n"
     ]
    },
    {
     "name": "stderr",
     "output_type": "stream",
     "text": [
      "Processing 202_348.mp4: 100%|██████████| 323/323 [00:13<00:00, 24.25it/s]\n"
     ]
    },
    {
     "name": "stdout",
     "output_type": "stream",
     "text": [
      "Filtered video saved: filtered_videos\\FaceShifter\\202_348.mp4\n"
     ]
    },
    {
     "name": "stderr",
     "output_type": "stream",
     "text": [
      "Processing 203_201.mp4: 100%|██████████| 446/446 [00:13<00:00, 32.83it/s]\n"
     ]
    },
    {
     "name": "stdout",
     "output_type": "stream",
     "text": [
      "Filtered video saved: filtered_videos\\FaceShifter\\203_201.mp4\n"
     ]
    },
    {
     "name": "stderr",
     "output_type": "stream",
     "text": [
      "Processing 204_230.mp4: 100%|██████████| 515/515 [00:26<00:00, 19.23it/s]\n"
     ]
    },
    {
     "name": "stdout",
     "output_type": "stream",
     "text": [
      "Filtered video saved: filtered_videos\\FaceShifter\\204_230.mp4\n"
     ]
    },
    {
     "name": "stderr",
     "output_type": "stream",
     "text": [
      "Processing 205_184.mp4: 100%|██████████| 307/307 [00:12<00:00, 24.30it/s]\n"
     ]
    },
    {
     "name": "stdout",
     "output_type": "stream",
     "text": [
      "Filtered video saved: filtered_videos\\FaceShifter\\205_184.mp4\n"
     ]
    },
    {
     "name": "stderr",
     "output_type": "stream",
     "text": [
      "Processing 206_221.mp4: 100%|██████████| 714/714 [00:21<00:00, 33.21it/s]\n"
     ]
    },
    {
     "name": "stdout",
     "output_type": "stream",
     "text": [
      "Filtered video saved: filtered_videos\\FaceShifter\\206_221.mp4\n"
     ]
    },
    {
     "name": "stderr",
     "output_type": "stream",
     "text": [
      "Processing 207_908.mp4: 100%|██████████| 346/346 [00:48<00:00,  7.16it/s]\n"
     ]
    },
    {
     "name": "stdout",
     "output_type": "stream",
     "text": [
      "Filtered video saved: filtered_videos\\FaceShifter\\207_908.mp4\n"
     ]
    },
    {
     "name": "stderr",
     "output_type": "stream",
     "text": [
      "Processing 208_215.mp4: 100%|██████████| 465/465 [00:14<00:00, 32.26it/s]\n"
     ]
    },
    {
     "name": "stdout",
     "output_type": "stream",
     "text": [
      "Filtered video saved: filtered_videos\\FaceShifter\\208_215.mp4\n"
     ]
    },
    {
     "name": "stderr",
     "output_type": "stream",
     "text": [
      "Processing 209_016.mp4: 100%|██████████| 337/337 [00:14<00:00, 23.92it/s]\n"
     ]
    },
    {
     "name": "stdout",
     "output_type": "stream",
     "text": [
      "Filtered video saved: filtered_videos\\FaceShifter\\209_016.mp4\n"
     ]
    },
    {
     "name": "stderr",
     "output_type": "stream",
     "text": [
      "Processing 210_241.mp4: 100%|██████████| 839/839 [00:26<00:00, 31.97it/s]\n"
     ]
    },
    {
     "name": "stdout",
     "output_type": "stream",
     "text": [
      "Filtered video saved: filtered_videos\\FaceShifter\\210_241.mp4\n"
     ]
    },
    {
     "name": "stderr",
     "output_type": "stream",
     "text": [
      "Processing 211_177.mp4: 100%|██████████| 527/527 [00:32<00:00, 16.25it/s]\n"
     ]
    },
    {
     "name": "stdout",
     "output_type": "stream",
     "text": [
      "Filtered video saved: filtered_videos\\FaceShifter\\211_177.mp4\n"
     ]
    },
    {
     "name": "stderr",
     "output_type": "stream",
     "text": [
      "Processing 212_179.mp4: 100%|██████████| 415/415 [00:16<00:00, 24.69it/s]\n"
     ]
    },
    {
     "name": "stdout",
     "output_type": "stream",
     "text": [
      "Filtered video saved: filtered_videos\\FaceShifter\\212_179.mp4\n"
     ]
    },
    {
     "name": "stderr",
     "output_type": "stream",
     "text": [
      "Processing 213_083.mp4: 100%|██████████| 378/378 [00:23<00:00, 15.94it/s]\n"
     ]
    },
    {
     "name": "stdout",
     "output_type": "stream",
     "text": [
      "Filtered video saved: filtered_videos\\FaceShifter\\213_083.mp4\n"
     ]
    },
    {
     "name": "stderr",
     "output_type": "stream",
     "text": [
      "Processing 214_255.mp4: 100%|██████████| 462/462 [00:18<00:00, 24.65it/s]\n"
     ]
    },
    {
     "name": "stdout",
     "output_type": "stream",
     "text": [
      "Filtered video saved: filtered_videos\\FaceShifter\\214_255.mp4\n"
     ]
    },
    {
     "name": "stderr",
     "output_type": "stream",
     "text": [
      "Processing 215_208.mp4: 100%|██████████| 588/588 [00:18<00:00, 32.22it/s]\n"
     ]
    },
    {
     "name": "stdout",
     "output_type": "stream",
     "text": [
      "Filtered video saved: filtered_videos\\FaceShifter\\215_208.mp4\n"
     ]
    },
    {
     "name": "stderr",
     "output_type": "stream",
     "text": [
      "Processing 216_164.mp4: 100%|██████████| 476/476 [00:14<00:00, 32.51it/s]\n"
     ]
    },
    {
     "name": "stdout",
     "output_type": "stream",
     "text": [
      "Filtered video saved: filtered_videos\\FaceShifter\\216_164.mp4\n"
     ]
    },
    {
     "name": "stderr",
     "output_type": "stream",
     "text": [
      "Processing 217_117.mp4: 100%|██████████| 702/702 [01:36<00:00,  7.24it/s]\n"
     ]
    },
    {
     "name": "stdout",
     "output_type": "stream",
     "text": [
      "Filtered video saved: filtered_videos\\FaceShifter\\217_117.mp4\n"
     ]
    },
    {
     "name": "stderr",
     "output_type": "stream",
     "text": [
      "Processing 218_239.mp4: 100%|██████████| 353/353 [00:10<00:00, 32.68it/s]\n"
     ]
    },
    {
     "name": "stdout",
     "output_type": "stream",
     "text": [
      "Filtered video saved: filtered_videos\\FaceShifter\\218_239.mp4\n"
     ]
    },
    {
     "name": "stderr",
     "output_type": "stream",
     "text": [
      "Processing 219_220.mp4: 100%|██████████| 350/350 [00:38<00:00,  9.19it/s]\n"
     ]
    },
    {
     "name": "stdout",
     "output_type": "stream",
     "text": [
      "Filtered video saved: filtered_videos\\FaceShifter\\219_220.mp4\n"
     ]
    },
    {
     "name": "stderr",
     "output_type": "stream",
     "text": [
      "Processing 220_219.mp4: 100%|██████████| 357/357 [00:12<00:00, 27.67it/s]\n"
     ]
    },
    {
     "name": "stdout",
     "output_type": "stream",
     "text": [
      "Filtered video saved: filtered_videos\\FaceShifter\\220_219.mp4\n"
     ]
    },
    {
     "name": "stderr",
     "output_type": "stream",
     "text": [
      "Processing 221_206.mp4: 100%|██████████| 718/718 [00:44<00:00, 16.03it/s]\n"
     ]
    },
    {
     "name": "stdout",
     "output_type": "stream",
     "text": [
      "Filtered video saved: filtered_videos\\FaceShifter\\221_206.mp4\n"
     ]
    },
    {
     "name": "stderr",
     "output_type": "stream",
     "text": [
      "Processing 222_168.mp4: 100%|██████████| 407/407 [00:11<00:00, 35.91it/s]\n"
     ]
    },
    {
     "name": "stdout",
     "output_type": "stream",
     "text": [
      "Filtered video saved: filtered_videos\\FaceShifter\\222_168.mp4\n"
     ]
    },
    {
     "name": "stderr",
     "output_type": "stream",
     "text": [
      "Processing 223_586.mp4: 100%|██████████| 336/336 [00:44<00:00,  7.62it/s]\n"
     ]
    },
    {
     "name": "stdout",
     "output_type": "stream",
     "text": [
      "Filtered video saved: filtered_videos\\FaceShifter\\223_586.mp4\n"
     ]
    },
    {
     "name": "stderr",
     "output_type": "stream",
     "text": [
      "Processing 224_197.mp4: 100%|██████████| 488/488 [00:16<00:00, 30.04it/s]\n"
     ]
    },
    {
     "name": "stdout",
     "output_type": "stream",
     "text": [
      "Filtered video saved: filtered_videos\\FaceShifter\\224_197.mp4\n"
     ]
    },
    {
     "name": "stderr",
     "output_type": "stream",
     "text": [
      "Processing 225_151.mp4: 100%|██████████| 304/304 [00:20<00:00, 14.79it/s]\n"
     ]
    },
    {
     "name": "stdout",
     "output_type": "stream",
     "text": [
      "Filtered video saved: filtered_videos\\FaceShifter\\225_151.mp4\n"
     ]
    },
    {
     "name": "stderr",
     "output_type": "stream",
     "text": [
      "Processing 226_491.mp4: 100%|██████████| 328/328 [00:20<00:00, 15.84it/s]\n"
     ]
    },
    {
     "name": "stdout",
     "output_type": "stream",
     "text": [
      "Filtered video saved: filtered_videos\\FaceShifter\\226_491.mp4\n"
     ]
    },
    {
     "name": "stderr",
     "output_type": "stream",
     "text": [
      "Processing 227_169.mp4: 100%|██████████| 441/441 [00:27<00:00, 15.96it/s]\n"
     ]
    },
    {
     "name": "stdout",
     "output_type": "stream",
     "text": [
      "Filtered video saved: filtered_videos\\FaceShifter\\227_169.mp4\n"
     ]
    },
    {
     "name": "stderr",
     "output_type": "stream",
     "text": [
      "Processing 228_289.mp4: 100%|██████████| 556/556 [00:21<00:00, 25.56it/s]\n"
     ]
    },
    {
     "name": "stdout",
     "output_type": "stream",
     "text": [
      "Filtered video saved: filtered_videos\\FaceShifter\\228_289.mp4\n"
     ]
    },
    {
     "name": "stderr",
     "output_type": "stream",
     "text": [
      "Processing 229_247.mp4: 100%|██████████| 392/392 [00:15<00:00, 25.01it/s]\n"
     ]
    },
    {
     "name": "stdout",
     "output_type": "stream",
     "text": [
      "Filtered video saved: filtered_videos\\FaceShifter\\229_247.mp4\n"
     ]
    },
    {
     "name": "stderr",
     "output_type": "stream",
     "text": [
      "Processing 230_204.mp4: 100%|██████████| 372/372 [00:26<00:00, 14.27it/s]\n"
     ]
    },
    {
     "name": "stdout",
     "output_type": "stream",
     "text": [
      "Filtered video saved: filtered_videos\\FaceShifter\\230_204.mp4\n"
     ]
    },
    {
     "name": "stderr",
     "output_type": "stream",
     "text": [
      "Processing 231_663.mp4: 100%|██████████| 573/573 [00:17<00:00, 31.86it/s]\n"
     ]
    },
    {
     "name": "stdout",
     "output_type": "stream",
     "text": [
      "Filtered video saved: filtered_videos\\FaceShifter\\231_663.mp4\n"
     ]
    },
    {
     "name": "stderr",
     "output_type": "stream",
     "text": [
      "Processing 232_248.mp4: 100%|██████████| 574/574 [00:17<00:00, 32.49it/s]\n"
     ]
    },
    {
     "name": "stdout",
     "output_type": "stream",
     "text": [
      "Filtered video saved: filtered_videos\\FaceShifter\\232_248.mp4\n"
     ]
    },
    {
     "name": "stderr",
     "output_type": "stream",
     "text": [
      "Processing 233_995.mp4: 100%|██████████| 675/675 [00:57<00:00, 11.64it/s]\n"
     ]
    },
    {
     "name": "stdout",
     "output_type": "stream",
     "text": [
      "Filtered video saved: filtered_videos\\FaceShifter\\233_995.mp4\n"
     ]
    },
    {
     "name": "stderr",
     "output_type": "stream",
     "text": [
      "Processing 234_187.mp4: 100%|██████████| 528/528 [00:43<00:00, 12.09it/s]\n"
     ]
    },
    {
     "name": "stdout",
     "output_type": "stream",
     "text": [
      "Filtered video saved: filtered_videos\\FaceShifter\\234_187.mp4\n"
     ]
    },
    {
     "name": "stderr",
     "output_type": "stream",
     "text": [
      "Processing 235_194.mp4: 100%|██████████| 312/312 [00:13<00:00, 23.63it/s]\n"
     ]
    },
    {
     "name": "stdout",
     "output_type": "stream",
     "text": [
      "Filtered video saved: filtered_videos\\FaceShifter\\235_194.mp4\n"
     ]
    },
    {
     "name": "stderr",
     "output_type": "stream",
     "text": [
      "Processing 236_237.mp4: 100%|██████████| 651/651 [00:19<00:00, 32.81it/s]\n"
     ]
    },
    {
     "name": "stdout",
     "output_type": "stream",
     "text": [
      "Filtered video saved: filtered_videos\\FaceShifter\\236_237.mp4\n"
     ]
    },
    {
     "name": "stderr",
     "output_type": "stream",
     "text": [
      "Processing 237_236.mp4: 100%|██████████| 757/757 [00:51<00:00, 14.83it/s]\n"
     ]
    },
    {
     "name": "stdout",
     "output_type": "stream",
     "text": [
      "Filtered video saved: filtered_videos\\FaceShifter\\237_236.mp4\n"
     ]
    },
    {
     "name": "stderr",
     "output_type": "stream",
     "text": [
      "Processing 238_282.mp4: 100%|██████████| 622/622 [00:17<00:00, 35.62it/s]\n"
     ]
    },
    {
     "name": "stdout",
     "output_type": "stream",
     "text": [
      "Filtered video saved: filtered_videos\\FaceShifter\\238_282.mp4\n"
     ]
    },
    {
     "name": "stderr",
     "output_type": "stream",
     "text": [
      "Processing 239_218.mp4: 100%|██████████| 588/588 [00:17<00:00, 34.33it/s]\n"
     ]
    },
    {
     "name": "stdout",
     "output_type": "stream",
     "text": [
      "Filtered video saved: filtered_videos\\FaceShifter\\239_218.mp4\n"
     ]
    },
    {
     "name": "stderr",
     "output_type": "stream",
     "text": [
      "Processing 240_290.mp4: 100%|██████████| 1274/1274 [00:41<00:00, 30.44it/s]\n"
     ]
    },
    {
     "name": "stdout",
     "output_type": "stream",
     "text": [
      "Filtered video saved: filtered_videos\\FaceShifter\\240_290.mp4\n"
     ]
    },
    {
     "name": "stderr",
     "output_type": "stream",
     "text": [
      "Processing 241_210.mp4: 100%|██████████| 292/292 [00:12<00:00, 23.17it/s]\n"
     ]
    },
    {
     "name": "stdout",
     "output_type": "stream",
     "text": [
      "Filtered video saved: filtered_videos\\FaceShifter\\241_210.mp4\n"
     ]
    },
    {
     "name": "stderr",
     "output_type": "stream",
     "text": [
      "Processing 242_182.mp4: 100%|██████████| 331/331 [00:10<00:00, 30.93it/s]\n"
     ]
    },
    {
     "name": "stdout",
     "output_type": "stream",
     "text": [
      "Filtered video saved: filtered_videos\\FaceShifter\\242_182.mp4\n"
     ]
    },
    {
     "name": "stderr",
     "output_type": "stream",
     "text": [
      "Processing 243_156.mp4: 100%|██████████| 387/387 [00:27<00:00, 14.24it/s]\n"
     ]
    },
    {
     "name": "stdout",
     "output_type": "stream",
     "text": [
      "Filtered video saved: filtered_videos\\FaceShifter\\243_156.mp4\n"
     ]
    },
    {
     "name": "stderr",
     "output_type": "stream",
     "text": [
      "Processing 244_822.mp4: 100%|██████████| 557/557 [01:17<00:00,  7.15it/s]\n"
     ]
    },
    {
     "name": "stdout",
     "output_type": "stream",
     "text": [
      "Filtered video saved: filtered_videos\\FaceShifter\\244_822.mp4\n"
     ]
    },
    {
     "name": "stderr",
     "output_type": "stream",
     "text": [
      "Processing 245_157.mp4: 100%|██████████| 334/334 [00:09<00:00, 34.76it/s]\n"
     ]
    },
    {
     "name": "stdout",
     "output_type": "stream",
     "text": [
      "Filtered video saved: filtered_videos\\FaceShifter\\245_157.mp4\n"
     ]
    },
    {
     "name": "stderr",
     "output_type": "stream",
     "text": [
      "Processing 246_258.mp4: 100%|██████████| 496/496 [00:32<00:00, 15.22it/s]\n"
     ]
    },
    {
     "name": "stdout",
     "output_type": "stream",
     "text": [
      "Filtered video saved: filtered_videos\\FaceShifter\\246_258.mp4\n"
     ]
    },
    {
     "name": "stderr",
     "output_type": "stream",
     "text": [
      "Processing 247_229.mp4: 100%|██████████| 399/399 [00:12<00:00, 32.34it/s]\n"
     ]
    },
    {
     "name": "stdout",
     "output_type": "stream",
     "text": [
      "Filtered video saved: filtered_videos\\FaceShifter\\247_229.mp4\n"
     ]
    },
    {
     "name": "stderr",
     "output_type": "stream",
     "text": [
      "Processing 248_232.mp4: 100%|██████████| 496/496 [00:33<00:00, 14.62it/s]\n"
     ]
    },
    {
     "name": "stdout",
     "output_type": "stream",
     "text": [
      "Filtered video saved: filtered_videos\\FaceShifter\\248_232.mp4\n"
     ]
    },
    {
     "name": "stderr",
     "output_type": "stream",
     "text": [
      "Processing 249_280.mp4: 100%|██████████| 632/632 [00:26<00:00, 23.81it/s]\n"
     ]
    },
    {
     "name": "stdout",
     "output_type": "stream",
     "text": [
      "Filtered video saved: filtered_videos\\FaceShifter\\249_280.mp4\n"
     ]
    },
    {
     "name": "stderr",
     "output_type": "stream",
     "text": [
      "Processing 250_461.mp4: 100%|██████████| 564/564 [00:37<00:00, 15.04it/s]\n"
     ]
    },
    {
     "name": "stdout",
     "output_type": "stream",
     "text": [
      "Filtered video saved: filtered_videos\\FaceShifter\\250_461.mp4\n"
     ]
    },
    {
     "name": "stderr",
     "output_type": "stream",
     "text": [
      "Processing 251_375.mp4: 100%|██████████| 346/346 [00:47<00:00,  7.24it/s]\n"
     ]
    },
    {
     "name": "stdout",
     "output_type": "stream",
     "text": [
      "Filtered video saved: filtered_videos\\FaceShifter\\251_375.mp4\n"
     ]
    },
    {
     "name": "stderr",
     "output_type": "stream",
     "text": [
      "Processing 252_266.mp4: 100%|██████████| 572/572 [00:18<00:00, 30.85it/s]\n"
     ]
    },
    {
     "name": "stdout",
     "output_type": "stream",
     "text": [
      "Filtered video saved: filtered_videos\\FaceShifter\\252_266.mp4\n"
     ]
    },
    {
     "name": "stderr",
     "output_type": "stream",
     "text": [
      "Processing 253_183.mp4: 100%|██████████| 501/501 [00:33<00:00, 14.79it/s]\n"
     ]
    },
    {
     "name": "stdout",
     "output_type": "stream",
     "text": [
      "Filtered video saved: filtered_videos\\FaceShifter\\253_183.mp4\n"
     ]
    },
    {
     "name": "stderr",
     "output_type": "stream",
     "text": [
      "Processing 254_261.mp4: 100%|██████████| 427/427 [00:28<00:00, 14.92it/s]\n"
     ]
    },
    {
     "name": "stdout",
     "output_type": "stream",
     "text": [
      "Filtered video saved: filtered_videos\\FaceShifter\\254_261.mp4\n"
     ]
    },
    {
     "name": "stderr",
     "output_type": "stream",
     "text": [
      "Processing 255_214.mp4: 100%|██████████| 470/470 [00:31<00:00, 14.73it/s]\n"
     ]
    },
    {
     "name": "stdout",
     "output_type": "stream",
     "text": [
      "Filtered video saved: filtered_videos\\FaceShifter\\255_214.mp4\n"
     ]
    },
    {
     "name": "stderr",
     "output_type": "stream",
     "text": [
      "Processing 256_146.mp4: 100%|██████████| 546/546 [00:45<00:00, 12.07it/s]\n"
     ]
    },
    {
     "name": "stdout",
     "output_type": "stream",
     "text": [
      "Filtered video saved: filtered_videos\\FaceShifter\\256_146.mp4\n"
     ]
    },
    {
     "name": "stderr",
     "output_type": "stream",
     "text": [
      "Processing 257_420.mp4: 100%|██████████| 763/763 [00:21<00:00, 36.09it/s]\n"
     ]
    },
    {
     "name": "stdout",
     "output_type": "stream",
     "text": [
      "Filtered video saved: filtered_videos\\FaceShifter\\257_420.mp4\n"
     ]
    },
    {
     "name": "stderr",
     "output_type": "stream",
     "text": [
      "Processing 258_246.mp4: 100%|██████████| 498/498 [00:38<00:00, 13.08it/s]\n"
     ]
    },
    {
     "name": "stdout",
     "output_type": "stream",
     "text": [
      "Filtered video saved: filtered_videos\\FaceShifter\\258_246.mp4\n"
     ]
    },
    {
     "name": "stderr",
     "output_type": "stream",
     "text": [
      "Processing 259_345.mp4: 100%|██████████| 444/444 [00:12<00:00, 34.33it/s]\n"
     ]
    },
    {
     "name": "stdout",
     "output_type": "stream",
     "text": [
      "Filtered video saved: filtered_videos\\FaceShifter\\259_345.mp4\n"
     ]
    },
    {
     "name": "stderr",
     "output_type": "stream",
     "text": [
      "Processing 260_331.mp4: 100%|██████████| 302/302 [00:08<00:00, 36.76it/s]\n"
     ]
    },
    {
     "name": "stdout",
     "output_type": "stream",
     "text": [
      "Filtered video saved: filtered_videos\\FaceShifter\\260_331.mp4\n"
     ]
    },
    {
     "name": "stderr",
     "output_type": "stream",
     "text": [
      "Processing 261_254.mp4: 100%|██████████| 677/677 [00:19<00:00, 35.11it/s]\n"
     ]
    },
    {
     "name": "stdout",
     "output_type": "stream",
     "text": [
      "Filtered video saved: filtered_videos\\FaceShifter\\261_254.mp4\n"
     ]
    },
    {
     "name": "stderr",
     "output_type": "stream",
     "text": [
      "Processing 262_301.mp4: 100%|██████████| 397/397 [00:11<00:00, 35.90it/s]\n"
     ]
    },
    {
     "name": "stdout",
     "output_type": "stream",
     "text": [
      "Filtered video saved: filtered_videos\\FaceShifter\\262_301.mp4\n"
     ]
    },
    {
     "name": "stderr",
     "output_type": "stream",
     "text": [
      "Processing 263_284.mp4: 100%|██████████| 300/300 [00:23<00:00, 12.76it/s]\n"
     ]
    },
    {
     "name": "stdout",
     "output_type": "stream",
     "text": [
      "Filtered video saved: filtered_videos\\FaceShifter\\263_284.mp4\n"
     ]
    },
    {
     "name": "stderr",
     "output_type": "stream",
     "text": [
      "Processing 264_271.mp4: 100%|██████████| 455/455 [00:20<00:00, 22.58it/s]\n"
     ]
    },
    {
     "name": "stdout",
     "output_type": "stream",
     "text": [
      "Filtered video saved: filtered_videos\\FaceShifter\\264_271.mp4\n"
     ]
    },
    {
     "name": "stderr",
     "output_type": "stream",
     "text": [
      "Processing 265_475.mp4: 100%|██████████| 552/552 [01:18<00:00,  7.06it/s]\n"
     ]
    },
    {
     "name": "stdout",
     "output_type": "stream",
     "text": [
      "Filtered video saved: filtered_videos\\FaceShifter\\265_475.mp4\n"
     ]
    },
    {
     "name": "stderr",
     "output_type": "stream",
     "text": [
      "Processing 266_252.mp4: 100%|██████████| 465/465 [00:14<00:00, 32.33it/s]\n"
     ]
    },
    {
     "name": "stdout",
     "output_type": "stream",
     "text": [
      "Filtered video saved: filtered_videos\\FaceShifter\\266_252.mp4\n"
     ]
    },
    {
     "name": "stderr",
     "output_type": "stream",
     "text": [
      "Processing 267_286.mp4: 100%|██████████| 306/306 [00:20<00:00, 14.91it/s]\n"
     ]
    },
    {
     "name": "stdout",
     "output_type": "stream",
     "text": [
      "Filtered video saved: filtered_videos\\FaceShifter\\267_286.mp4\n"
     ]
    },
    {
     "name": "stderr",
     "output_type": "stream",
     "text": [
      "Processing 268_269.mp4: 100%|██████████| 1465/1465 [00:52<00:00, 28.16it/s]\n"
     ]
    },
    {
     "name": "stdout",
     "output_type": "stream",
     "text": [
      "Filtered video saved: filtered_videos\\FaceShifter\\268_269.mp4\n"
     ]
    },
    {
     "name": "stderr",
     "output_type": "stream",
     "text": [
      "Processing 269_268.mp4: 100%|██████████| 387/387 [00:11<00:00, 32.92it/s]\n"
     ]
    },
    {
     "name": "stdout",
     "output_type": "stream",
     "text": [
      "Filtered video saved: filtered_videos\\FaceShifter\\269_268.mp4\n"
     ]
    },
    {
     "name": "stderr",
     "output_type": "stream",
     "text": [
      "Processing 270_297.mp4: 100%|██████████| 311/311 [00:09<00:00, 32.19it/s]\n"
     ]
    },
    {
     "name": "stdout",
     "output_type": "stream",
     "text": [
      "Filtered video saved: filtered_videos\\FaceShifter\\270_297.mp4\n"
     ]
    },
    {
     "name": "stderr",
     "output_type": "stream",
     "text": [
      "Processing 271_264.mp4: 100%|██████████| 490/490 [00:15<00:00, 31.17it/s]\n"
     ]
    },
    {
     "name": "stdout",
     "output_type": "stream",
     "text": [
      "Filtered video saved: filtered_videos\\FaceShifter\\271_264.mp4\n"
     ]
    },
    {
     "name": "stderr",
     "output_type": "stream",
     "text": [
      "Processing 272_396.mp4: 100%|██████████| 323/323 [00:23<00:00, 13.65it/s]\n"
     ]
    },
    {
     "name": "stdout",
     "output_type": "stream",
     "text": [
      "Filtered video saved: filtered_videos\\FaceShifter\\272_396.mp4\n"
     ]
    },
    {
     "name": "stderr",
     "output_type": "stream",
     "text": [
      "Processing 273_807.mp4: 100%|██████████| 322/322 [00:24<00:00, 13.22it/s]\n"
     ]
    },
    {
     "name": "stdout",
     "output_type": "stream",
     "text": [
      "Filtered video saved: filtered_videos\\FaceShifter\\273_807.mp4\n"
     ]
    },
    {
     "name": "stderr",
     "output_type": "stream",
     "text": [
      "Processing 274_412.mp4: 100%|██████████| 474/474 [00:30<00:00, 15.45it/s]\n"
     ]
    },
    {
     "name": "stdout",
     "output_type": "stream",
     "text": [
      "Filtered video saved: filtered_videos\\FaceShifter\\274_412.mp4\n"
     ]
    },
    {
     "name": "stderr",
     "output_type": "stream",
     "text": [
      "Processing 275_887.mp4: 100%|██████████| 424/424 [00:11<00:00, 36.27it/s]\n"
     ]
    },
    {
     "name": "stdout",
     "output_type": "stream",
     "text": [
      "Filtered video saved: filtered_videos\\FaceShifter\\275_887.mp4\n"
     ]
    },
    {
     "name": "stderr",
     "output_type": "stream",
     "text": [
      "Processing 276_185.mp4: 100%|██████████| 331/331 [00:08<00:00, 37.62it/s]\n"
     ]
    },
    {
     "name": "stdout",
     "output_type": "stream",
     "text": [
      "Filtered video saved: filtered_videos\\FaceShifter\\276_185.mp4\n"
     ]
    },
    {
     "name": "stderr",
     "output_type": "stream",
     "text": [
      "Processing 277_335.mp4: 100%|██████████| 966/966 [01:01<00:00, 15.63it/s]\n"
     ]
    },
    {
     "name": "stdout",
     "output_type": "stream",
     "text": [
      "Filtered video saved: filtered_videos\\FaceShifter\\277_335.mp4\n"
     ]
    },
    {
     "name": "stderr",
     "output_type": "stream",
     "text": [
      "Processing 278_306.mp4: 100%|██████████| 449/449 [00:11<00:00, 39.20it/s]\n"
     ]
    },
    {
     "name": "stdout",
     "output_type": "stream",
     "text": [
      "Filtered video saved: filtered_videos\\FaceShifter\\278_306.mp4\n"
     ]
    },
    {
     "name": "stderr",
     "output_type": "stream",
     "text": [
      "Processing 279_298.mp4: 100%|██████████| 906/906 [00:25<00:00, 35.74it/s]\n"
     ]
    },
    {
     "name": "stdout",
     "output_type": "stream",
     "text": [
      "Filtered video saved: filtered_videos\\FaceShifter\\279_298.mp4\n"
     ]
    },
    {
     "name": "stderr",
     "output_type": "stream",
     "text": [
      "Processing 280_249.mp4: 100%|██████████| 606/606 [00:24<00:00, 24.39it/s]\n"
     ]
    },
    {
     "name": "stdout",
     "output_type": "stream",
     "text": [
      "Filtered video saved: filtered_videos\\FaceShifter\\280_249.mp4\n"
     ]
    },
    {
     "name": "stderr",
     "output_type": "stream",
     "text": [
      "Processing 281_474.mp4: 100%|██████████| 309/309 [00:19<00:00, 16.12it/s]\n"
     ]
    },
    {
     "name": "stdout",
     "output_type": "stream",
     "text": [
      "Filtered video saved: filtered_videos\\FaceShifter\\281_474.mp4\n"
     ]
    },
    {
     "name": "stderr",
     "output_type": "stream",
     "text": [
      "Processing 282_238.mp4: 100%|██████████| 594/594 [00:24<00:00, 24.16it/s]\n"
     ]
    },
    {
     "name": "stdout",
     "output_type": "stream",
     "text": [
      "Filtered video saved: filtered_videos\\FaceShifter\\282_238.mp4\n"
     ]
    },
    {
     "name": "stderr",
     "output_type": "stream",
     "text": [
      "Processing 283_313.mp4: 100%|██████████| 966/966 [00:28<00:00, 33.44it/s]\n"
     ]
    },
    {
     "name": "stdout",
     "output_type": "stream",
     "text": [
      "Filtered video saved: filtered_videos\\FaceShifter\\283_313.mp4\n"
     ]
    },
    {
     "name": "stderr",
     "output_type": "stream",
     "text": [
      "Processing 284_263.mp4: 100%|██████████| 483/483 [01:12<00:00,  6.69it/s]\n"
     ]
    },
    {
     "name": "stdout",
     "output_type": "stream",
     "text": [
      "Filtered video saved: filtered_videos\\FaceShifter\\284_263.mp4\n"
     ]
    },
    {
     "name": "stderr",
     "output_type": "stream",
     "text": [
      "Processing 285_136.mp4: 100%|██████████| 383/383 [00:28<00:00, 13.58it/s]\n"
     ]
    },
    {
     "name": "stdout",
     "output_type": "stream",
     "text": [
      "Filtered video saved: filtered_videos\\FaceShifter\\285_136.mp4\n"
     ]
    },
    {
     "name": "stderr",
     "output_type": "stream",
     "text": [
      "Processing 286_267.mp4: 100%|██████████| 668/668 [00:51<00:00, 12.94it/s]\n"
     ]
    },
    {
     "name": "stdout",
     "output_type": "stream",
     "text": [
      "Filtered video saved: filtered_videos\\FaceShifter\\286_267.mp4\n"
     ]
    },
    {
     "name": "stderr",
     "output_type": "stream",
     "text": [
      "Processing 287_426.mp4: 100%|██████████| 475/475 [00:30<00:00, 15.82it/s]\n"
     ]
    },
    {
     "name": "stdout",
     "output_type": "stream",
     "text": [
      "Filtered video saved: filtered_videos\\FaceShifter\\287_426.mp4\n"
     ]
    },
    {
     "name": "stderr",
     "output_type": "stream",
     "text": [
      "Processing 288_321.mp4: 100%|██████████| 543/543 [00:14<00:00, 37.56it/s]\n"
     ]
    },
    {
     "name": "stdout",
     "output_type": "stream",
     "text": [
      "Filtered video saved: filtered_videos\\FaceShifter\\288_321.mp4\n"
     ]
    },
    {
     "name": "stderr",
     "output_type": "stream",
     "text": [
      "Processing 289_228.mp4: 100%|██████████| 597/597 [00:17<00:00, 35.06it/s]\n"
     ]
    },
    {
     "name": "stdout",
     "output_type": "stream",
     "text": [
      "Filtered video saved: filtered_videos\\FaceShifter\\289_228.mp4\n"
     ]
    },
    {
     "name": "stderr",
     "output_type": "stream",
     "text": [
      "Processing 290_240.mp4: 100%|██████████| 422/422 [00:11<00:00, 36.63it/s]\n"
     ]
    },
    {
     "name": "stdout",
     "output_type": "stream",
     "text": [
      "Filtered video saved: filtered_videos\\FaceShifter\\290_240.mp4\n"
     ]
    },
    {
     "name": "stderr",
     "output_type": "stream",
     "text": [
      "Processing 291_874.mp4: 100%|██████████| 330/330 [00:43<00:00,  7.59it/s]\n"
     ]
    },
    {
     "name": "stdout",
     "output_type": "stream",
     "text": [
      "Filtered video saved: filtered_videos\\FaceShifter\\291_874.mp4\n"
     ]
    },
    {
     "name": "stderr",
     "output_type": "stream",
     "text": [
      "Processing 292_294.mp4: 100%|██████████| 425/425 [00:27<00:00, 15.63it/s]\n"
     ]
    },
    {
     "name": "stdout",
     "output_type": "stream",
     "text": [
      "Filtered video saved: filtered_videos\\FaceShifter\\292_294.mp4\n"
     ]
    },
    {
     "name": "stderr",
     "output_type": "stream",
     "text": [
      "Processing 293_296.mp4: 100%|██████████| 758/758 [00:21<00:00, 35.55it/s]\n"
     ]
    },
    {
     "name": "stdout",
     "output_type": "stream",
     "text": [
      "Filtered video saved: filtered_videos\\FaceShifter\\293_296.mp4\n"
     ]
    },
    {
     "name": "stderr",
     "output_type": "stream",
     "text": [
      "Processing 294_292.mp4: 100%|██████████| 604/604 [00:37<00:00, 15.94it/s]\n"
     ]
    },
    {
     "name": "stdout",
     "output_type": "stream",
     "text": [
      "Filtered video saved: filtered_videos\\FaceShifter\\294_292.mp4\n"
     ]
    },
    {
     "name": "stderr",
     "output_type": "stream",
     "text": [
      "Processing 295_099.mp4: 100%|██████████| 411/411 [00:57<00:00,  7.10it/s]\n"
     ]
    },
    {
     "name": "stdout",
     "output_type": "stream",
     "text": [
      "Filtered video saved: filtered_videos\\FaceShifter\\295_099.mp4\n"
     ]
    },
    {
     "name": "stderr",
     "output_type": "stream",
     "text": [
      "Processing 296_293.mp4: 100%|██████████| 336/336 [00:09<00:00, 34.29it/s]\n"
     ]
    },
    {
     "name": "stdout",
     "output_type": "stream",
     "text": [
      "Filtered video saved: filtered_videos\\FaceShifter\\296_293.mp4\n"
     ]
    },
    {
     "name": "stderr",
     "output_type": "stream",
     "text": [
      "Processing 297_270.mp4: 100%|██████████| 390/390 [00:12<00:00, 31.93it/s]\n"
     ]
    },
    {
     "name": "stdout",
     "output_type": "stream",
     "text": [
      "Filtered video saved: filtered_videos\\FaceShifter\\297_270.mp4\n"
     ]
    },
    {
     "name": "stderr",
     "output_type": "stream",
     "text": [
      "Processing 298_279.mp4: 100%|██████████| 569/569 [00:19<00:00, 29.16it/s]\n"
     ]
    },
    {
     "name": "stdout",
     "output_type": "stream",
     "text": [
      "Filtered video saved: filtered_videos\\FaceShifter\\298_279.mp4\n"
     ]
    },
    {
     "name": "stderr",
     "output_type": "stream",
     "text": [
      "Processing 299_145.mp4: 100%|██████████| 314/314 [00:09<00:00, 32.44it/s]\n"
     ]
    },
    {
     "name": "stdout",
     "output_type": "stream",
     "text": [
      "Filtered video saved: filtered_videos\\FaceShifter\\299_145.mp4\n"
     ]
    },
    {
     "name": "stderr",
     "output_type": "stream",
     "text": [
      "Processing 300_304.mp4: 100%|██████████| 598/598 [00:17<00:00, 33.24it/s]\n"
     ]
    },
    {
     "name": "stdout",
     "output_type": "stream",
     "text": [
      "Filtered video saved: filtered_videos\\FaceShifter\\300_304.mp4\n"
     ]
    },
    {
     "name": "stderr",
     "output_type": "stream",
     "text": [
      "Processing 301_262.mp4: 100%|██████████| 763/763 [00:21<00:00, 35.46it/s]\n"
     ]
    },
    {
     "name": "stdout",
     "output_type": "stream",
     "text": [
      "Filtered video saved: filtered_videos\\FaceShifter\\301_262.mp4\n"
     ]
    },
    {
     "name": "stderr",
     "output_type": "stream",
     "text": [
      "Processing 302_323.mp4: 100%|██████████| 875/875 [00:35<00:00, 24.60it/s]\n"
     ]
    },
    {
     "name": "stdout",
     "output_type": "stream",
     "text": [
      "Filtered video saved: filtered_videos\\FaceShifter\\302_323.mp4\n"
     ]
    },
    {
     "name": "stderr",
     "output_type": "stream",
     "text": [
      "Processing 303_309.mp4: 100%|██████████| 571/571 [00:17<00:00, 33.39it/s]\n"
     ]
    },
    {
     "name": "stdout",
     "output_type": "stream",
     "text": [
      "Filtered video saved: filtered_videos\\FaceShifter\\303_309.mp4\n"
     ]
    },
    {
     "name": "stderr",
     "output_type": "stream",
     "text": [
      "Processing 304_300.mp4: 100%|██████████| 610/610 [00:16<00:00, 37.09it/s]\n"
     ]
    },
    {
     "name": "stdout",
     "output_type": "stream",
     "text": [
      "Filtered video saved: filtered_videos\\FaceShifter\\304_300.mp4\n"
     ]
    },
    {
     "name": "stderr",
     "output_type": "stream",
     "text": [
      "Processing 305_513.mp4: 100%|██████████| 843/843 [00:54<00:00, 15.37it/s]\n"
     ]
    },
    {
     "name": "stdout",
     "output_type": "stream",
     "text": [
      "Filtered video saved: filtered_videos\\FaceShifter\\305_513.mp4\n"
     ]
    },
    {
     "name": "stderr",
     "output_type": "stream",
     "text": [
      "Processing 306_278.mp4: 100%|██████████| 728/728 [00:20<00:00, 36.09it/s]\n"
     ]
    },
    {
     "name": "stdout",
     "output_type": "stream",
     "text": [
      "Filtered video saved: filtered_videos\\FaceShifter\\306_278.mp4\n"
     ]
    },
    {
     "name": "stderr",
     "output_type": "stream",
     "text": [
      "Processing 307_365.mp4: 100%|██████████| 378/378 [00:09<00:00, 38.27it/s]\n"
     ]
    },
    {
     "name": "stdout",
     "output_type": "stream",
     "text": [
      "Filtered video saved: filtered_videos\\FaceShifter\\307_365.mp4\n"
     ]
    },
    {
     "name": "stderr",
     "output_type": "stream",
     "text": [
      "Processing 308_388.mp4: 100%|██████████| 502/502 [00:32<00:00, 15.47it/s]\n"
     ]
    },
    {
     "name": "stdout",
     "output_type": "stream",
     "text": [
      "Filtered video saved: filtered_videos\\FaceShifter\\308_388.mp4\n"
     ]
    },
    {
     "name": "stderr",
     "output_type": "stream",
     "text": [
      "Processing 309_303.mp4: 100%|██████████| 850/850 [00:22<00:00, 37.12it/s]\n"
     ]
    },
    {
     "name": "stdout",
     "output_type": "stream",
     "text": [
      "Filtered video saved: filtered_videos\\FaceShifter\\309_303.mp4\n"
     ]
    },
    {
     "name": "stderr",
     "output_type": "stream",
     "text": [
      "Processing 310_196.mp4: 100%|██████████| 375/375 [00:23<00:00, 15.79it/s]\n"
     ]
    },
    {
     "name": "stdout",
     "output_type": "stream",
     "text": [
      "Filtered video saved: filtered_videos\\FaceShifter\\310_196.mp4\n"
     ]
    },
    {
     "name": "stderr",
     "output_type": "stream",
     "text": [
      "Processing 311_387.mp4: 100%|██████████| 368/368 [00:19<00:00, 19.06it/s]\n"
     ]
    },
    {
     "name": "stdout",
     "output_type": "stream",
     "text": [
      "Filtered video saved: filtered_videos\\FaceShifter\\311_387.mp4\n"
     ]
    },
    {
     "name": "stderr",
     "output_type": "stream",
     "text": [
      "Processing 312_021.mp4: 100%|██████████| 428/428 [00:13<00:00, 31.42it/s]\n"
     ]
    },
    {
     "name": "stdout",
     "output_type": "stream",
     "text": [
      "Filtered video saved: filtered_videos\\FaceShifter\\312_021.mp4\n"
     ]
    },
    {
     "name": "stderr",
     "output_type": "stream",
     "text": [
      "Processing 313_283.mp4: 100%|██████████| 481/481 [00:16<00:00, 28.59it/s]\n"
     ]
    },
    {
     "name": "stdout",
     "output_type": "stream",
     "text": [
      "Filtered video saved: filtered_videos\\FaceShifter\\313_283.mp4\n"
     ]
    },
    {
     "name": "stderr",
     "output_type": "stream",
     "text": [
      "Processing 314_347.mp4: 100%|██████████| 413/413 [00:29<00:00, 13.98it/s]\n"
     ]
    },
    {
     "name": "stdout",
     "output_type": "stream",
     "text": [
      "Filtered video saved: filtered_videos\\FaceShifter\\314_347.mp4\n"
     ]
    },
    {
     "name": "stderr",
     "output_type": "stream",
     "text": [
      "Processing 315_322.mp4: 100%|██████████| 304/304 [00:14<00:00, 20.41it/s]\n"
     ]
    },
    {
     "name": "stdout",
     "output_type": "stream",
     "text": [
      "Filtered video saved: filtered_videos\\FaceShifter\\315_322.mp4\n"
     ]
    },
    {
     "name": "stderr",
     "output_type": "stream",
     "text": [
      "Processing 316_369.mp4: 100%|██████████| 566/566 [00:17<00:00, 31.90it/s]\n"
     ]
    },
    {
     "name": "stdout",
     "output_type": "stream",
     "text": [
      "Filtered video saved: filtered_videos\\FaceShifter\\316_369.mp4\n"
     ]
    },
    {
     "name": "stderr",
     "output_type": "stream",
     "text": [
      "Processing 317_359.mp4: 100%|██████████| 682/682 [00:21<00:00, 31.73it/s]\n"
     ]
    },
    {
     "name": "stdout",
     "output_type": "stream",
     "text": [
      "Filtered video saved: filtered_videos\\FaceShifter\\317_359.mp4\n"
     ]
    },
    {
     "name": "stderr",
     "output_type": "stream",
     "text": [
      "Processing 318_334.mp4: 100%|██████████| 475/475 [00:15<00:00, 30.61it/s]\n"
     ]
    },
    {
     "name": "stdout",
     "output_type": "stream",
     "text": [
      "Filtered video saved: filtered_videos\\FaceShifter\\318_334.mp4\n"
     ]
    },
    {
     "name": "stderr",
     "output_type": "stream",
     "text": [
      "Processing 319_352.mp4: 100%|██████████| 717/717 [00:29<00:00, 24.28it/s]\n"
     ]
    },
    {
     "name": "stdout",
     "output_type": "stream",
     "text": [
      "Filtered video saved: filtered_videos\\FaceShifter\\319_352.mp4\n"
     ]
    },
    {
     "name": "stderr",
     "output_type": "stream",
     "text": [
      "Processing 320_328.mp4: 100%|██████████| 504/504 [00:33<00:00, 14.92it/s]\n"
     ]
    },
    {
     "name": "stdout",
     "output_type": "stream",
     "text": [
      "Filtered video saved: filtered_videos\\FaceShifter\\320_328.mp4\n"
     ]
    },
    {
     "name": "stderr",
     "output_type": "stream",
     "text": [
      "Processing 321_288.mp4: 100%|██████████| 567/567 [00:16<00:00, 34.15it/s]\n"
     ]
    },
    {
     "name": "stdout",
     "output_type": "stream",
     "text": [
      "Filtered video saved: filtered_videos\\FaceShifter\\321_288.mp4\n"
     ]
    },
    {
     "name": "stderr",
     "output_type": "stream",
     "text": [
      "Processing 322_315.mp4: 100%|██████████| 313/313 [00:27<00:00, 11.33it/s]\n"
     ]
    },
    {
     "name": "stdout",
     "output_type": "stream",
     "text": [
      "Filtered video saved: filtered_videos\\FaceShifter\\322_315.mp4\n"
     ]
    },
    {
     "name": "stderr",
     "output_type": "stream",
     "text": [
      "Processing 323_302.mp4: 100%|██████████| 456/456 [00:17<00:00, 25.55it/s]\n"
     ]
    },
    {
     "name": "stdout",
     "output_type": "stream",
     "text": [
      "Filtered video saved: filtered_videos\\FaceShifter\\323_302.mp4\n"
     ]
    },
    {
     "name": "stderr",
     "output_type": "stream",
     "text": [
      "Processing 324_356.mp4: 100%|██████████| 1249/1249 [00:50<00:00, 24.74it/s]\n"
     ]
    },
    {
     "name": "stdout",
     "output_type": "stream",
     "text": [
      "Filtered video saved: filtered_videos\\FaceShifter\\324_356.mp4\n"
     ]
    },
    {
     "name": "stderr",
     "output_type": "stream",
     "text": [
      "Processing 325_492.mp4: 100%|██████████| 1421/1421 [01:52<00:00, 12.68it/s]\n"
     ]
    },
    {
     "name": "stdout",
     "output_type": "stream",
     "text": [
      "Filtered video saved: filtered_videos\\FaceShifter\\325_492.mp4\n"
     ]
    },
    {
     "name": "stderr",
     "output_type": "stream",
     "text": [
      "Processing 326_501.mp4: 100%|██████████| 914/914 [00:36<00:00, 24.85it/s]\n"
     ]
    },
    {
     "name": "stdout",
     "output_type": "stream",
     "text": [
      "Filtered video saved: filtered_videos\\FaceShifter\\326_501.mp4\n"
     ]
    },
    {
     "name": "stderr",
     "output_type": "stream",
     "text": [
      "Processing 327_329.mp4: 100%|██████████| 495/495 [00:17<00:00, 27.51it/s]\n"
     ]
    },
    {
     "name": "stdout",
     "output_type": "stream",
     "text": [
      "Filtered video saved: filtered_videos\\FaceShifter\\327_329.mp4\n"
     ]
    },
    {
     "name": "stderr",
     "output_type": "stream",
     "text": [
      "Processing 328_320.mp4: 100%|██████████| 319/319 [00:26<00:00, 12.10it/s]\n"
     ]
    },
    {
     "name": "stdout",
     "output_type": "stream",
     "text": [
      "Filtered video saved: filtered_videos\\FaceShifter\\328_320.mp4\n"
     ]
    },
    {
     "name": "stderr",
     "output_type": "stream",
     "text": [
      "Processing 329_327.mp4: 100%|██████████| 415/415 [00:17<00:00, 23.41it/s]\n"
     ]
    },
    {
     "name": "stdout",
     "output_type": "stream",
     "text": [
      "Filtered video saved: filtered_videos\\FaceShifter\\329_327.mp4\n"
     ]
    },
    {
     "name": "stderr",
     "output_type": "stream",
     "text": [
      "Processing 330_162.mp4: 100%|██████████| 407/407 [00:33<00:00, 12.17it/s]\n"
     ]
    },
    {
     "name": "stdout",
     "output_type": "stream",
     "text": [
      "Filtered video saved: filtered_videos\\FaceShifter\\330_162.mp4\n"
     ]
    },
    {
     "name": "stderr",
     "output_type": "stream",
     "text": [
      "Processing 331_260.mp4: 100%|██████████| 469/469 [00:43<00:00, 10.90it/s]\n"
     ]
    },
    {
     "name": "stdout",
     "output_type": "stream",
     "text": [
      "Filtered video saved: filtered_videos\\FaceShifter\\331_260.mp4\n"
     ]
    },
    {
     "name": "stderr",
     "output_type": "stream",
     "text": [
      "Processing 332_051.mp4: 100%|██████████| 695/695 [01:05<00:00, 10.67it/s]\n"
     ]
    },
    {
     "name": "stdout",
     "output_type": "stream",
     "text": [
      "Filtered video saved: filtered_videos\\FaceShifter\\332_051.mp4\n"
     ]
    },
    {
     "name": "stderr",
     "output_type": "stream",
     "text": [
      "Processing 333_377.mp4: 100%|██████████| 429/429 [00:13<00:00, 32.53it/s]\n"
     ]
    },
    {
     "name": "stdout",
     "output_type": "stream",
     "text": [
      "Filtered video saved: filtered_videos\\FaceShifter\\333_377.mp4\n"
     ]
    },
    {
     "name": "stderr",
     "output_type": "stream",
     "text": [
      "Processing 334_318.mp4: 100%|██████████| 1339/1339 [00:43<00:00, 30.54it/s]\n"
     ]
    },
    {
     "name": "stdout",
     "output_type": "stream",
     "text": [
      "Filtered video saved: filtered_videos\\FaceShifter\\334_318.mp4\n"
     ]
    },
    {
     "name": "stderr",
     "output_type": "stream",
     "text": [
      "Processing 335_277.mp4: 100%|██████████| 384/384 [00:29<00:00, 13.01it/s]\n"
     ]
    },
    {
     "name": "stdout",
     "output_type": "stream",
     "text": [
      "Filtered video saved: filtered_videos\\FaceShifter\\335_277.mp4\n"
     ]
    },
    {
     "name": "stderr",
     "output_type": "stream",
     "text": [
      "Processing 336_338.mp4: 100%|██████████| 507/507 [00:19<00:00, 25.58it/s]\n"
     ]
    },
    {
     "name": "stdout",
     "output_type": "stream",
     "text": [
      "Filtered video saved: filtered_videos\\FaceShifter\\336_338.mp4\n"
     ]
    },
    {
     "name": "stderr",
     "output_type": "stream",
     "text": [
      "Processing 337_522.mp4: 100%|██████████| 331/331 [00:12<00:00, 27.34it/s]\n"
     ]
    },
    {
     "name": "stdout",
     "output_type": "stream",
     "text": [
      "Filtered video saved: filtered_videos\\FaceShifter\\337_522.mp4\n"
     ]
    },
    {
     "name": "stderr",
     "output_type": "stream",
     "text": [
      "Processing 338_336.mp4: 100%|██████████| 889/889 [00:32<00:00, 27.33it/s]\n"
     ]
    },
    {
     "name": "stdout",
     "output_type": "stream",
     "text": [
      "Filtered video saved: filtered_videos\\FaceShifter\\338_336.mp4\n"
     ]
    },
    {
     "name": "stderr",
     "output_type": "stream",
     "text": [
      "Processing 339_392.mp4: 100%|██████████| 457/457 [00:14<00:00, 30.58it/s]\n"
     ]
    },
    {
     "name": "stdout",
     "output_type": "stream",
     "text": [
      "Filtered video saved: filtered_videos\\FaceShifter\\339_392.mp4\n"
     ]
    },
    {
     "name": "stderr",
     "output_type": "stream",
     "text": [
      "Processing 340_341.mp4: 100%|██████████| 293/293 [00:46<00:00,  6.35it/s]\n"
     ]
    },
    {
     "name": "stdout",
     "output_type": "stream",
     "text": [
      "Filtered video saved: filtered_videos\\FaceShifter\\340_341.mp4\n"
     ]
    },
    {
     "name": "stderr",
     "output_type": "stream",
     "text": [
      "Processing 341_340.mp4: 100%|██████████| 827/827 [00:53<00:00, 15.51it/s]\n"
     ]
    },
    {
     "name": "stdout",
     "output_type": "stream",
     "text": [
      "Filtered video saved: filtered_videos\\FaceShifter\\341_340.mp4\n"
     ]
    },
    {
     "name": "stderr",
     "output_type": "stream",
     "text": [
      "Processing 342_416.mp4: 100%|██████████| 302/302 [00:24<00:00, 12.38it/s]\n"
     ]
    },
    {
     "name": "stdout",
     "output_type": "stream",
     "text": [
      "Filtered video saved: filtered_videos\\FaceShifter\\342_416.mp4\n"
     ]
    },
    {
     "name": "stderr",
     "output_type": "stream",
     "text": [
      "Processing 343_363.mp4: 100%|██████████| 299/299 [00:15<00:00, 19.38it/s]\n"
     ]
    },
    {
     "name": "stdout",
     "output_type": "stream",
     "text": [
      "Filtered video saved: filtered_videos\\FaceShifter\\343_363.mp4\n"
     ]
    },
    {
     "name": "stderr",
     "output_type": "stream",
     "text": [
      "Processing 344_020.mp4: 100%|██████████| 631/631 [00:51<00:00, 12.33it/s]\n"
     ]
    },
    {
     "name": "stdout",
     "output_type": "stream",
     "text": [
      "Filtered video saved: filtered_videos\\FaceShifter\\344_020.mp4\n"
     ]
    },
    {
     "name": "stderr",
     "output_type": "stream",
     "text": [
      "Processing 345_259.mp4: 100%|██████████| 423/423 [00:18<00:00, 22.41it/s]\n"
     ]
    },
    {
     "name": "stdout",
     "output_type": "stream",
     "text": [
      "Filtered video saved: filtered_videos\\FaceShifter\\345_259.mp4\n"
     ]
    },
    {
     "name": "stderr",
     "output_type": "stream",
     "text": [
      "Processing 346_351.mp4: 100%|██████████| 615/615 [00:19<00:00, 31.00it/s]\n"
     ]
    },
    {
     "name": "stdout",
     "output_type": "stream",
     "text": [
      "Filtered video saved: filtered_videos\\FaceShifter\\346_351.mp4\n"
     ]
    },
    {
     "name": "stderr",
     "output_type": "stream",
     "text": [
      "Processing 347_314.mp4: 100%|██████████| 458/458 [00:24<00:00, 19.07it/s]\n"
     ]
    },
    {
     "name": "stdout",
     "output_type": "stream",
     "text": [
      "Filtered video saved: filtered_videos\\FaceShifter\\347_314.mp4\n"
     ]
    },
    {
     "name": "stderr",
     "output_type": "stream",
     "text": [
      "Processing 348_202.mp4: 100%|██████████| 414/414 [00:17<00:00, 23.17it/s]\n"
     ]
    },
    {
     "name": "stdout",
     "output_type": "stream",
     "text": [
      "Filtered video saved: filtered_videos\\FaceShifter\\348_202.mp4\n"
     ]
    },
    {
     "name": "stderr",
     "output_type": "stream",
     "text": [
      "Processing 349_350.mp4: 100%|██████████| 471/471 [00:38<00:00, 12.15it/s]\n"
     ]
    },
    {
     "name": "stdout",
     "output_type": "stream",
     "text": [
      "Filtered video saved: filtered_videos\\FaceShifter\\349_350.mp4\n"
     ]
    },
    {
     "name": "stderr",
     "output_type": "stream",
     "text": [
      "Processing 350_349.mp4: 100%|██████████| 405/405 [00:19<00:00, 20.94it/s]\n"
     ]
    },
    {
     "name": "stdout",
     "output_type": "stream",
     "text": [
      "Filtered video saved: filtered_videos\\FaceShifter\\350_349.mp4\n"
     ]
    },
    {
     "name": "stderr",
     "output_type": "stream",
     "text": [
      "Processing 351_346.mp4: 100%|██████████| 684/684 [00:23<00:00, 28.74it/s]\n"
     ]
    },
    {
     "name": "stdout",
     "output_type": "stream",
     "text": [
      "Filtered video saved: filtered_videos\\FaceShifter\\351_346.mp4\n"
     ]
    },
    {
     "name": "stderr",
     "output_type": "stream",
     "text": [
      "Processing 352_319.mp4: 100%|██████████| 421/421 [00:17<00:00, 24.51it/s]\n"
     ]
    },
    {
     "name": "stdout",
     "output_type": "stream",
     "text": [
      "Filtered video saved: filtered_videos\\FaceShifter\\352_319.mp4\n"
     ]
    },
    {
     "name": "stderr",
     "output_type": "stream",
     "text": [
      "Processing 353_383.mp4: 100%|██████████| 358/358 [00:32<00:00, 11.17it/s]\n"
     ]
    },
    {
     "name": "stdout",
     "output_type": "stream",
     "text": [
      "Filtered video saved: filtered_videos\\FaceShifter\\353_383.mp4\n"
     ]
    },
    {
     "name": "stderr",
     "output_type": "stream",
     "text": [
      "Processing 354_362.mp4: 100%|██████████| 460/460 [00:41<00:00, 11.13it/s]\n"
     ]
    },
    {
     "name": "stdout",
     "output_type": "stream",
     "text": [
      "Filtered video saved: filtered_videos\\FaceShifter\\354_362.mp4\n"
     ]
    },
    {
     "name": "stderr",
     "output_type": "stream",
     "text": [
      "Processing 355_748.mp4: 100%|██████████| 499/499 [01:33<00:00,  5.33it/s]\n"
     ]
    },
    {
     "name": "stdout",
     "output_type": "stream",
     "text": [
      "Filtered video saved: filtered_videos\\FaceShifter\\355_748.mp4\n"
     ]
    },
    {
     "name": "stderr",
     "output_type": "stream",
     "text": [
      "Processing 356_324.mp4: 100%|██████████| 558/558 [00:43<00:00, 12.76it/s]\n"
     ]
    },
    {
     "name": "stdout",
     "output_type": "stream",
     "text": [
      "Filtered video saved: filtered_videos\\FaceShifter\\356_324.mp4\n"
     ]
    },
    {
     "name": "stderr",
     "output_type": "stream",
     "text": [
      "Processing 357_432.mp4: 100%|██████████| 346/346 [00:14<00:00, 23.10it/s]\n"
     ]
    },
    {
     "name": "stdout",
     "output_type": "stream",
     "text": [
      "Filtered video saved: filtered_videos\\FaceShifter\\357_432.mp4\n"
     ]
    },
    {
     "name": "stderr",
     "output_type": "stream",
     "text": [
      "Processing 358_380.mp4: 100%|██████████| 534/534 [00:17<00:00, 30.70it/s]\n"
     ]
    },
    {
     "name": "stdout",
     "output_type": "stream",
     "text": [
      "Filtered video saved: filtered_videos\\FaceShifter\\358_380.mp4\n"
     ]
    },
    {
     "name": "stderr",
     "output_type": "stream",
     "text": [
      "Processing 359_317.mp4: 100%|██████████| 456/456 [00:14<00:00, 30.48it/s]\n"
     ]
    },
    {
     "name": "stdout",
     "output_type": "stream",
     "text": [
      "Filtered video saved: filtered_videos\\FaceShifter\\359_317.mp4\n"
     ]
    },
    {
     "name": "stderr",
     "output_type": "stream",
     "text": [
      "Processing 360_437.mp4: 100%|██████████| 385/385 [00:35<00:00, 10.90it/s]\n"
     ]
    },
    {
     "name": "stdout",
     "output_type": "stream",
     "text": [
      "Filtered video saved: filtered_videos\\FaceShifter\\360_437.mp4\n"
     ]
    },
    {
     "name": "stderr",
     "output_type": "stream",
     "text": [
      "Processing 361_448.mp4: 100%|██████████| 455/455 [00:38<00:00, 11.79it/s]\n"
     ]
    },
    {
     "name": "stdout",
     "output_type": "stream",
     "text": [
      "Filtered video saved: filtered_videos\\FaceShifter\\361_448.mp4\n"
     ]
    },
    {
     "name": "stderr",
     "output_type": "stream",
     "text": [
      "Processing 362_354.mp4: 100%|██████████| 455/455 [00:40<00:00, 11.23it/s]\n"
     ]
    },
    {
     "name": "stdout",
     "output_type": "stream",
     "text": [
      "Filtered video saved: filtered_videos\\FaceShifter\\362_354.mp4\n"
     ]
    },
    {
     "name": "stderr",
     "output_type": "stream",
     "text": [
      "Processing 363_343.mp4: 100%|██████████| 473/473 [00:17<00:00, 27.09it/s]\n"
     ]
    },
    {
     "name": "stdout",
     "output_type": "stream",
     "text": [
      "Filtered video saved: filtered_videos\\FaceShifter\\363_343.mp4\n"
     ]
    },
    {
     "name": "stderr",
     "output_type": "stream",
     "text": [
      "Processing 364_440.mp4: 100%|██████████| 648/648 [00:37<00:00, 17.48it/s]\n"
     ]
    },
    {
     "name": "stdout",
     "output_type": "stream",
     "text": [
      "Filtered video saved: filtered_videos\\FaceShifter\\364_440.mp4\n"
     ]
    },
    {
     "name": "stderr",
     "output_type": "stream",
     "text": [
      "Processing 365_307.mp4: 100%|██████████| 369/369 [00:11<00:00, 31.27it/s]\n"
     ]
    },
    {
     "name": "stdout",
     "output_type": "stream",
     "text": [
      "Filtered video saved: filtered_videos\\FaceShifter\\365_307.mp4\n"
     ]
    },
    {
     "name": "stderr",
     "output_type": "stream",
     "text": [
      "Processing 366_473.mp4: 100%|██████████| 404/404 [00:13<00:00, 29.35it/s]\n"
     ]
    },
    {
     "name": "stdout",
     "output_type": "stream",
     "text": [
      "Filtered video saved: filtered_videos\\FaceShifter\\366_473.mp4\n"
     ]
    },
    {
     "name": "stderr",
     "output_type": "stream",
     "text": [
      "Processing 367_371.mp4: 100%|██████████| 649/649 [00:20<00:00, 31.94it/s]\n"
     ]
    },
    {
     "name": "stdout",
     "output_type": "stream",
     "text": [
      "Filtered video saved: filtered_videos\\FaceShifter\\367_371.mp4\n"
     ]
    },
    {
     "name": "stderr",
     "output_type": "stream",
     "text": [
      "Processing 368_378.mp4: 100%|██████████| 761/761 [00:23<00:00, 32.40it/s]\n"
     ]
    },
    {
     "name": "stdout",
     "output_type": "stream",
     "text": [
      "Filtered video saved: filtered_videos\\FaceShifter\\368_378.mp4\n"
     ]
    },
    {
     "name": "stderr",
     "output_type": "stream",
     "text": [
      "Processing 369_316.mp4: 100%|██████████| 320/320 [00:13<00:00, 23.78it/s]\n"
     ]
    },
    {
     "name": "stdout",
     "output_type": "stream",
     "text": [
      "Filtered video saved: filtered_videos\\FaceShifter\\369_316.mp4\n"
     ]
    },
    {
     "name": "stderr",
     "output_type": "stream",
     "text": [
      "Processing 370_483.mp4: 100%|██████████| 396/396 [01:01<00:00,  6.41it/s]\n"
     ]
    },
    {
     "name": "stdout",
     "output_type": "stream",
     "text": [
      "Filtered video saved: filtered_videos\\FaceShifter\\370_483.mp4\n"
     ]
    },
    {
     "name": "stderr",
     "output_type": "stream",
     "text": [
      "Processing 371_367.mp4: 100%|██████████| 718/718 [00:22<00:00, 32.01it/s]\n"
     ]
    },
    {
     "name": "stdout",
     "output_type": "stream",
     "text": [
      "Filtered video saved: filtered_videos\\FaceShifter\\371_367.mp4\n"
     ]
    },
    {
     "name": "stderr",
     "output_type": "stream",
     "text": [
      "Processing 372_413.mp4: 100%|██████████| 486/486 [00:21<00:00, 22.97it/s]\n"
     ]
    },
    {
     "name": "stdout",
     "output_type": "stream",
     "text": [
      "Filtered video saved: filtered_videos\\FaceShifter\\372_413.mp4\n"
     ]
    },
    {
     "name": "stderr",
     "output_type": "stream",
     "text": [
      "Processing 373_394.mp4: 100%|██████████| 602/602 [00:46<00:00, 12.85it/s]\n"
     ]
    },
    {
     "name": "stdout",
     "output_type": "stream",
     "text": [
      "Filtered video saved: filtered_videos\\FaceShifter\\373_394.mp4\n"
     ]
    },
    {
     "name": "stderr",
     "output_type": "stream",
     "text": [
      "Processing 374_407.mp4: 100%|██████████| 586/586 [00:46<00:00, 12.68it/s]\n"
     ]
    },
    {
     "name": "stdout",
     "output_type": "stream",
     "text": [
      "Filtered video saved: filtered_videos\\FaceShifter\\374_407.mp4\n"
     ]
    },
    {
     "name": "stderr",
     "output_type": "stream",
     "text": [
      "Processing 375_251.mp4: 100%|██████████| 353/353 [00:26<00:00, 13.44it/s]\n"
     ]
    },
    {
     "name": "stdout",
     "output_type": "stream",
     "text": [
      "Filtered video saved: filtered_videos\\FaceShifter\\375_251.mp4\n"
     ]
    },
    {
     "name": "stderr",
     "output_type": "stream",
     "text": [
      "Processing 376_381.mp4: 100%|██████████| 515/515 [00:37<00:00, 13.73it/s]\n"
     ]
    },
    {
     "name": "stdout",
     "output_type": "stream",
     "text": [
      "Filtered video saved: filtered_videos\\FaceShifter\\376_381.mp4\n"
     ]
    },
    {
     "name": "stderr",
     "output_type": "stream",
     "text": [
      "Processing 377_333.mp4: 100%|██████████| 398/398 [00:12<00:00, 33.02it/s]\n"
     ]
    },
    {
     "name": "stdout",
     "output_type": "stream",
     "text": [
      "Filtered video saved: filtered_videos\\FaceShifter\\377_333.mp4\n"
     ]
    },
    {
     "name": "stderr",
     "output_type": "stream",
     "text": [
      "Processing 378_368.mp4: 100%|██████████| 761/761 [00:54<00:00, 13.92it/s]\n"
     ]
    },
    {
     "name": "stdout",
     "output_type": "stream",
     "text": [
      "Filtered video saved: filtered_videos\\FaceShifter\\378_368.mp4\n"
     ]
    },
    {
     "name": "stderr",
     "output_type": "stream",
     "text": [
      "Processing 379_158.mp4: 100%|██████████| 341/341 [00:10<00:00, 31.82it/s]\n"
     ]
    },
    {
     "name": "stdout",
     "output_type": "stream",
     "text": [
      "Filtered video saved: filtered_videos\\FaceShifter\\379_158.mp4\n"
     ]
    },
    {
     "name": "stderr",
     "output_type": "stream",
     "text": [
      "Processing 380_358.mp4: 100%|██████████| 455/455 [00:13<00:00, 33.47it/s]\n"
     ]
    },
    {
     "name": "stdout",
     "output_type": "stream",
     "text": [
      "Filtered video saved: filtered_videos\\FaceShifter\\380_358.mp4\n"
     ]
    },
    {
     "name": "stderr",
     "output_type": "stream",
     "text": [
      "Processing 381_376.mp4: 100%|██████████| 578/578 [00:18<00:00, 31.79it/s]\n"
     ]
    },
    {
     "name": "stdout",
     "output_type": "stream",
     "text": [
      "Filtered video saved: filtered_videos\\FaceShifter\\381_376.mp4\n"
     ]
    },
    {
     "name": "stderr",
     "output_type": "stream",
     "text": [
      "Processing 382_409.mp4: 100%|██████████| 313/313 [00:09<00:00, 34.09it/s]\n"
     ]
    },
    {
     "name": "stdout",
     "output_type": "stream",
     "text": [
      "Filtered video saved: filtered_videos\\FaceShifter\\382_409.mp4\n"
     ]
    },
    {
     "name": "stderr",
     "output_type": "stream",
     "text": [
      "Processing 383_353.mp4: 100%|██████████| 465/465 [01:14<00:00,  6.28it/s]\n"
     ]
    },
    {
     "name": "stdout",
     "output_type": "stream",
     "text": [
      "Filtered video saved: filtered_videos\\FaceShifter\\383_353.mp4\n"
     ]
    },
    {
     "name": "stderr",
     "output_type": "stream",
     "text": [
      "Processing 384_932.mp4: 100%|██████████| 462/462 [01:19<00:00,  5.84it/s]\n"
     ]
    },
    {
     "name": "stdout",
     "output_type": "stream",
     "text": [
      "Filtered video saved: filtered_videos\\FaceShifter\\384_932.mp4\n"
     ]
    },
    {
     "name": "stderr",
     "output_type": "stream",
     "text": [
      "Processing 385_414.mp4: 100%|██████████| 349/349 [00:23<00:00, 14.76it/s]\n"
     ]
    },
    {
     "name": "stdout",
     "output_type": "stream",
     "text": [
      "Filtered video saved: filtered_videos\\FaceShifter\\385_414.mp4\n"
     ]
    },
    {
     "name": "stderr",
     "output_type": "stream",
     "text": [
      "Processing 386_154.mp4: 100%|██████████| 449/449 [01:12<00:00,  6.15it/s]\n"
     ]
    },
    {
     "name": "stdout",
     "output_type": "stream",
     "text": [
      "Filtered video saved: filtered_videos\\FaceShifter\\386_154.mp4\n"
     ]
    },
    {
     "name": "stderr",
     "output_type": "stream",
     "text": [
      "Processing 387_311.mp4: 100%|██████████| 528/528 [00:45<00:00, 11.57it/s]\n"
     ]
    },
    {
     "name": "stdout",
     "output_type": "stream",
     "text": [
      "Filtered video saved: filtered_videos\\FaceShifter\\387_311.mp4\n"
     ]
    },
    {
     "name": "stderr",
     "output_type": "stream",
     "text": [
      "Processing 388_308.mp4: 100%|██████████| 636/636 [00:20<00:00, 31.66it/s]\n"
     ]
    },
    {
     "name": "stdout",
     "output_type": "stream",
     "text": [
      "Filtered video saved: filtered_videos\\FaceShifter\\388_308.mp4\n"
     ]
    },
    {
     "name": "stderr",
     "output_type": "stream",
     "text": [
      "Processing 389_480.mp4: 100%|██████████| 314/314 [00:42<00:00,  7.32it/s]\n"
     ]
    },
    {
     "name": "stdout",
     "output_type": "stream",
     "text": [
      "Filtered video saved: filtered_videos\\FaceShifter\\389_480.mp4\n"
     ]
    },
    {
     "name": "stderr",
     "output_type": "stream",
     "text": [
      "Processing 390_709.mp4: 100%|██████████| 809/809 [00:56<00:00, 14.39it/s]\n"
     ]
    },
    {
     "name": "stdout",
     "output_type": "stream",
     "text": [
      "Filtered video saved: filtered_videos\\FaceShifter\\390_709.mp4\n"
     ]
    },
    {
     "name": "stderr",
     "output_type": "stream",
     "text": [
      "Processing 391_406.mp4: 100%|██████████| 547/547 [00:17<00:00, 31.18it/s]\n"
     ]
    },
    {
     "name": "stdout",
     "output_type": "stream",
     "text": [
      "Filtered video saved: filtered_videos\\FaceShifter\\391_406.mp4\n"
     ]
    },
    {
     "name": "stderr",
     "output_type": "stream",
     "text": [
      "Processing 392_339.mp4: 100%|██████████| 1496/1496 [01:44<00:00, 14.37it/s]\n"
     ]
    },
    {
     "name": "stdout",
     "output_type": "stream",
     "text": [
      "Filtered video saved: filtered_videos\\FaceShifter\\392_339.mp4\n"
     ]
    },
    {
     "name": "stderr",
     "output_type": "stream",
     "text": [
      "Processing 393_405.mp4: 100%|██████████| 579/579 [00:18<00:00, 31.70it/s]\n"
     ]
    },
    {
     "name": "stdout",
     "output_type": "stream",
     "text": [
      "Filtered video saved: filtered_videos\\FaceShifter\\393_405.mp4\n"
     ]
    },
    {
     "name": "stderr",
     "output_type": "stream",
     "text": [
      "Processing 394_373.mp4: 100%|██████████| 420/420 [00:29<00:00, 14.04it/s]\n"
     ]
    },
    {
     "name": "stdout",
     "output_type": "stream",
     "text": [
      "Filtered video saved: filtered_videos\\FaceShifter\\394_373.mp4\n"
     ]
    },
    {
     "name": "stderr",
     "output_type": "stream",
     "text": [
      "Processing 395_401.mp4: 100%|██████████| 448/448 [00:32<00:00, 13.75it/s]\n"
     ]
    },
    {
     "name": "stdout",
     "output_type": "stream",
     "text": [
      "Filtered video saved: filtered_videos\\FaceShifter\\395_401.mp4\n"
     ]
    },
    {
     "name": "stderr",
     "output_type": "stream",
     "text": [
      "Processing 396_272.mp4: 100%|██████████| 525/525 [00:37<00:00, 13.99it/s]\n"
     ]
    },
    {
     "name": "stdout",
     "output_type": "stream",
     "text": [
      "Filtered video saved: filtered_videos\\FaceShifter\\396_272.mp4\n"
     ]
    },
    {
     "name": "stderr",
     "output_type": "stream",
     "text": [
      "Processing 397_602.mp4: 100%|██████████| 355/355 [01:02<00:00,  5.68it/s]\n"
     ]
    },
    {
     "name": "stdout",
     "output_type": "stream",
     "text": [
      "Filtered video saved: filtered_videos\\FaceShifter\\397_602.mp4\n"
     ]
    },
    {
     "name": "stderr",
     "output_type": "stream",
     "text": [
      "Processing 398_457.mp4: 100%|██████████| 582/582 [00:18<00:00, 31.33it/s]\n"
     ]
    },
    {
     "name": "stdout",
     "output_type": "stream",
     "text": [
      "Filtered video saved: filtered_videos\\FaceShifter\\398_457.mp4\n"
     ]
    },
    {
     "name": "stderr",
     "output_type": "stream",
     "text": [
      "Processing 399_488.mp4: 100%|██████████| 862/862 [01:05<00:00, 13.16it/s]\n"
     ]
    },
    {
     "name": "stdout",
     "output_type": "stream",
     "text": [
      "Filtered video saved: filtered_videos\\FaceShifter\\399_488.mp4\n"
     ]
    },
    {
     "name": "stderr",
     "output_type": "stream",
     "text": [
      "Processing 400_476.mp4: 100%|██████████| 357/357 [00:26<00:00, 13.32it/s]\n"
     ]
    },
    {
     "name": "stdout",
     "output_type": "stream",
     "text": [
      "Filtered video saved: filtered_videos\\FaceShifter\\400_476.mp4\n"
     ]
    },
    {
     "name": "stderr",
     "output_type": "stream",
     "text": [
      "Processing 401_395.mp4: 100%|██████████| 492/492 [00:31<00:00, 15.83it/s]\n"
     ]
    },
    {
     "name": "stdout",
     "output_type": "stream",
     "text": [
      "Filtered video saved: filtered_videos\\FaceShifter\\401_395.mp4\n"
     ]
    },
    {
     "name": "stderr",
     "output_type": "stream",
     "text": [
      "Processing 402_453.mp4: 100%|██████████| 423/423 [00:57<00:00,  7.38it/s]\n"
     ]
    },
    {
     "name": "stdout",
     "output_type": "stream",
     "text": [
      "Filtered video saved: filtered_videos\\FaceShifter\\402_453.mp4\n"
     ]
    },
    {
     "name": "stderr",
     "output_type": "stream",
     "text": [
      "Processing 403_497.mp4: 100%|██████████| 707/707 [00:08<00:00, 87.83it/s] \n"
     ]
    },
    {
     "name": "stdout",
     "output_type": "stream",
     "text": [
      "Filtered video saved: filtered_videos\\FaceShifter\\403_497.mp4\n"
     ]
    },
    {
     "name": "stderr",
     "output_type": "stream",
     "text": [
      "Processing 404_429.mp4: 100%|██████████| 798/798 [01:05<00:00, 12.15it/s]\n"
     ]
    },
    {
     "name": "stdout",
     "output_type": "stream",
     "text": [
      "Filtered video saved: filtered_videos\\FaceShifter\\404_429.mp4\n"
     ]
    },
    {
     "name": "stderr",
     "output_type": "stream",
     "text": [
      "Processing 405_393.mp4: 100%|██████████| 531/531 [00:17<00:00, 31.22it/s]\n"
     ]
    },
    {
     "name": "stdout",
     "output_type": "stream",
     "text": [
      "Filtered video saved: filtered_videos\\FaceShifter\\405_393.mp4\n"
     ]
    },
    {
     "name": "stderr",
     "output_type": "stream",
     "text": [
      "Processing 406_391.mp4: 100%|██████████| 512/512 [00:15<00:00, 33.84it/s]\n"
     ]
    },
    {
     "name": "stdout",
     "output_type": "stream",
     "text": [
      "Filtered video saved: filtered_videos\\FaceShifter\\406_391.mp4\n"
     ]
    },
    {
     "name": "stderr",
     "output_type": "stream",
     "text": [
      "Processing 407_374.mp4: 100%|██████████| 504/504 [00:15<00:00, 33.40it/s]\n"
     ]
    },
    {
     "name": "stdout",
     "output_type": "stream",
     "text": [
      "Filtered video saved: filtered_videos\\FaceShifter\\407_374.mp4\n"
     ]
    },
    {
     "name": "stderr",
     "output_type": "stream",
     "text": [
      "Processing 408_424.mp4: 100%|██████████| 306/306 [00:09<00:00, 31.83it/s]\n"
     ]
    },
    {
     "name": "stdout",
     "output_type": "stream",
     "text": [
      "Filtered video saved: filtered_videos\\FaceShifter\\408_424.mp4\n"
     ]
    },
    {
     "name": "stderr",
     "output_type": "stream",
     "text": [
      "Processing 409_382.mp4: 100%|██████████| 361/361 [00:10<00:00, 35.56it/s]\n"
     ]
    },
    {
     "name": "stdout",
     "output_type": "stream",
     "text": [
      "Filtered video saved: filtered_videos\\FaceShifter\\409_382.mp4\n"
     ]
    },
    {
     "name": "stderr",
     "output_type": "stream",
     "text": [
      "Processing 410_411.mp4: 100%|██████████| 459/459 [01:00<00:00,  7.55it/s]\n"
     ]
    },
    {
     "name": "stdout",
     "output_type": "stream",
     "text": [
      "Filtered video saved: filtered_videos\\FaceShifter\\410_411.mp4\n"
     ]
    },
    {
     "name": "stderr",
     "output_type": "stream",
     "text": [
      "Processing 411_410.mp4: 100%|██████████| 529/529 [01:29<00:00,  5.91it/s]\n"
     ]
    },
    {
     "name": "stdout",
     "output_type": "stream",
     "text": [
      "Filtered video saved: filtered_videos\\FaceShifter\\411_410.mp4\n"
     ]
    },
    {
     "name": "stderr",
     "output_type": "stream",
     "text": [
      "Processing 412_274.mp4: 100%|██████████| 572/572 [00:54<00:00, 10.44it/s]\n"
     ]
    },
    {
     "name": "stdout",
     "output_type": "stream",
     "text": [
      "Filtered video saved: filtered_videos\\FaceShifter\\412_274.mp4\n"
     ]
    },
    {
     "name": "stderr",
     "output_type": "stream",
     "text": [
      "Processing 413_372.mp4: 100%|██████████| 379/379 [00:13<00:00, 28.19it/s]\n"
     ]
    },
    {
     "name": "stdout",
     "output_type": "stream",
     "text": [
      "Filtered video saved: filtered_videos\\FaceShifter\\413_372.mp4\n"
     ]
    },
    {
     "name": "stderr",
     "output_type": "stream",
     "text": [
      "Processing 414_385.mp4: 100%|██████████| 587/587 [01:27<00:00,  6.70it/s]\n"
     ]
    },
    {
     "name": "stdout",
     "output_type": "stream",
     "text": [
      "Filtered video saved: filtered_videos\\FaceShifter\\414_385.mp4\n"
     ]
    },
    {
     "name": "stderr",
     "output_type": "stream",
     "text": [
      "Processing 415_484.mp4: 100%|██████████| 563/563 [00:18<00:00, 30.36it/s]\n"
     ]
    },
    {
     "name": "stdout",
     "output_type": "stream",
     "text": [
      "Filtered video saved: filtered_videos\\FaceShifter\\415_484.mp4\n"
     ]
    },
    {
     "name": "stderr",
     "output_type": "stream",
     "text": [
      "Processing 416_342.mp4: 100%|██████████| 313/313 [00:23<00:00, 13.15it/s]\n"
     ]
    },
    {
     "name": "stdout",
     "output_type": "stream",
     "text": [
      "Filtered video saved: filtered_videos\\FaceShifter\\416_342.mp4\n"
     ]
    },
    {
     "name": "stderr",
     "output_type": "stream",
     "text": [
      "Processing 417_496.mp4: 100%|██████████| 861/861 [00:39<00:00, 21.73it/s]\n"
     ]
    },
    {
     "name": "stdout",
     "output_type": "stream",
     "text": [
      "Filtered video saved: filtered_videos\\FaceShifter\\417_496.mp4\n"
     ]
    },
    {
     "name": "stderr",
     "output_type": "stream",
     "text": [
      "Processing 418_507.mp4: 100%|██████████| 319/319 [00:25<00:00, 12.39it/s]\n"
     ]
    },
    {
     "name": "stdout",
     "output_type": "stream",
     "text": [
      "Filtered video saved: filtered_videos\\FaceShifter\\418_507.mp4\n"
     ]
    },
    {
     "name": "stderr",
     "output_type": "stream",
     "text": [
      "Processing 419_824.mp4: 100%|██████████| 487/487 [00:34<00:00, 14.07it/s]\n"
     ]
    },
    {
     "name": "stdout",
     "output_type": "stream",
     "text": [
      "Filtered video saved: filtered_videos\\FaceShifter\\419_824.mp4\n"
     ]
    },
    {
     "name": "stderr",
     "output_type": "stream",
     "text": [
      "Processing 420_257.mp4: 100%|██████████| 1126/1126 [00:36<00:00, 31.13it/s]\n"
     ]
    },
    {
     "name": "stdout",
     "output_type": "stream",
     "text": [
      "Filtered video saved: filtered_videos\\FaceShifter\\420_257.mp4\n"
     ]
    },
    {
     "name": "stderr",
     "output_type": "stream",
     "text": [
      "Processing 421_423.mp4: 100%|██████████| 1038/1038 [00:41<00:00, 25.21it/s]\n"
     ]
    },
    {
     "name": "stdout",
     "output_type": "stream",
     "text": [
      "Filtered video saved: filtered_videos\\FaceShifter\\421_423.mp4\n"
     ]
    },
    {
     "name": "stderr",
     "output_type": "stream",
     "text": [
      "Processing 422_695.mp4: 100%|██████████| 316/316 [00:48<00:00,  6.50it/s]\n"
     ]
    },
    {
     "name": "stdout",
     "output_type": "stream",
     "text": [
      "Filtered video saved: filtered_videos\\FaceShifter\\422_695.mp4\n"
     ]
    },
    {
     "name": "stderr",
     "output_type": "stream",
     "text": [
      "Processing 423_421.mp4: 100%|██████████| 1814/1814 [00:53<00:00, 33.85it/s]\n"
     ]
    },
    {
     "name": "stdout",
     "output_type": "stream",
     "text": [
      "Filtered video saved: filtered_videos\\FaceShifter\\423_421.mp4\n"
     ]
    },
    {
     "name": "stderr",
     "output_type": "stream",
     "text": [
      "Processing 424_408.mp4: 100%|██████████| 311/311 [00:08<00:00, 38.10it/s]\n"
     ]
    },
    {
     "name": "stdout",
     "output_type": "stream",
     "text": [
      "Filtered video saved: filtered_videos\\FaceShifter\\424_408.mp4\n"
     ]
    },
    {
     "name": "stderr",
     "output_type": "stream",
     "text": [
      "Processing 425_485.mp4: 100%|██████████| 336/336 [00:12<00:00, 25.87it/s]\n"
     ]
    },
    {
     "name": "stdout",
     "output_type": "stream",
     "text": [
      "Filtered video saved: filtered_videos\\FaceShifter\\425_485.mp4\n"
     ]
    },
    {
     "name": "stderr",
     "output_type": "stream",
     "text": [
      "Processing 426_287.mp4: 100%|██████████| 335/335 [00:46<00:00,  7.28it/s]\n"
     ]
    },
    {
     "name": "stdout",
     "output_type": "stream",
     "text": [
      "Filtered video saved: filtered_videos\\FaceShifter\\426_287.mp4\n"
     ]
    },
    {
     "name": "stderr",
     "output_type": "stream",
     "text": [
      "Processing 427_637.mp4: 100%|██████████| 468/468 [00:38<00:00, 12.25it/s]\n"
     ]
    },
    {
     "name": "stdout",
     "output_type": "stream",
     "text": [
      "Filtered video saved: filtered_videos\\FaceShifter\\427_637.mp4\n"
     ]
    },
    {
     "name": "stderr",
     "output_type": "stream",
     "text": [
      "Processing 428_466.mp4: 100%|██████████| 540/540 [00:33<00:00, 16.02it/s]\n"
     ]
    },
    {
     "name": "stdout",
     "output_type": "stream",
     "text": [
      "Filtered video saved: filtered_videos\\FaceShifter\\428_466.mp4\n"
     ]
    },
    {
     "name": "stderr",
     "output_type": "stream",
     "text": [
      "Processing 429_404.mp4: 100%|██████████| 457/457 [00:12<00:00, 36.12it/s]\n"
     ]
    },
    {
     "name": "stdout",
     "output_type": "stream",
     "text": [
      "Filtered video saved: filtered_videos\\FaceShifter\\429_404.mp4\n"
     ]
    },
    {
     "name": "stderr",
     "output_type": "stream",
     "text": [
      "Processing 430_459.mp4: 100%|██████████| 357/357 [00:51<00:00,  6.93it/s]\n"
     ]
    },
    {
     "name": "stdout",
     "output_type": "stream",
     "text": [
      "Filtered video saved: filtered_videos\\FaceShifter\\430_459.mp4\n"
     ]
    },
    {
     "name": "stderr",
     "output_type": "stream",
     "text": [
      "Processing 431_447.mp4: 100%|██████████| 616/616 [00:48<00:00, 12.72it/s]\n"
     ]
    },
    {
     "name": "stdout",
     "output_type": "stream",
     "text": [
      "Filtered video saved: filtered_videos\\FaceShifter\\431_447.mp4\n"
     ]
    },
    {
     "name": "stderr",
     "output_type": "stream",
     "text": [
      "Processing 432_357.mp4: 100%|██████████| 360/360 [00:12<00:00, 27.99it/s]\n"
     ]
    },
    {
     "name": "stdout",
     "output_type": "stream",
     "text": [
      "Filtered video saved: filtered_videos\\FaceShifter\\432_357.mp4\n"
     ]
    },
    {
     "name": "stderr",
     "output_type": "stream",
     "text": [
      "Processing 433_498.mp4: 100%|██████████| 532/532 [00:43<00:00, 12.18it/s]\n"
     ]
    },
    {
     "name": "stdout",
     "output_type": "stream",
     "text": [
      "Filtered video saved: filtered_videos\\FaceShifter\\433_498.mp4\n"
     ]
    },
    {
     "name": "stderr",
     "output_type": "stream",
     "text": [
      "Processing 434_438.mp4: 100%|██████████| 337/337 [00:14<00:00, 23.90it/s]\n"
     ]
    },
    {
     "name": "stdout",
     "output_type": "stream",
     "text": [
      "Filtered video saved: filtered_videos\\FaceShifter\\434_438.mp4\n"
     ]
    },
    {
     "name": "stderr",
     "output_type": "stream",
     "text": [
      "Processing 435_456.mp4: 100%|██████████| 476/476 [00:15<00:00, 31.38it/s]\n"
     ]
    },
    {
     "name": "stdout",
     "output_type": "stream",
     "text": [
      "Filtered video saved: filtered_videos\\FaceShifter\\435_456.mp4\n"
     ]
    },
    {
     "name": "stderr",
     "output_type": "stream",
     "text": [
      "Processing 436_526.mp4: 100%|██████████| 518/518 [00:37<00:00, 13.78it/s]\n"
     ]
    },
    {
     "name": "stdout",
     "output_type": "stream",
     "text": [
      "Filtered video saved: filtered_videos\\FaceShifter\\436_526.mp4\n"
     ]
    },
    {
     "name": "stderr",
     "output_type": "stream",
     "text": [
      "Processing 437_360.mp4: 100%|██████████| 593/593 [00:44<00:00, 13.29it/s]\n"
     ]
    },
    {
     "name": "stdout",
     "output_type": "stream",
     "text": [
      "Filtered video saved: filtered_videos\\FaceShifter\\437_360.mp4\n"
     ]
    },
    {
     "name": "stderr",
     "output_type": "stream",
     "text": [
      "Processing 438_434.mp4: 100%|██████████| 542/542 [00:16<00:00, 32.88it/s]\n"
     ]
    },
    {
     "name": "stdout",
     "output_type": "stream",
     "text": [
      "Filtered video saved: filtered_videos\\FaceShifter\\438_434.mp4\n"
     ]
    },
    {
     "name": "stderr",
     "output_type": "stream",
     "text": [
      "Processing 439_441.mp4: 100%|██████████| 462/462 [00:15<00:00, 29.65it/s]\n"
     ]
    },
    {
     "name": "stdout",
     "output_type": "stream",
     "text": [
      "Filtered video saved: filtered_videos\\FaceShifter\\439_441.mp4\n"
     ]
    },
    {
     "name": "stderr",
     "output_type": "stream",
     "text": [
      "Processing 440_364.mp4: 100%|██████████| 419/419 [00:15<00:00, 26.61it/s]\n"
     ]
    },
    {
     "name": "stdout",
     "output_type": "stream",
     "text": [
      "Filtered video saved: filtered_videos\\FaceShifter\\440_364.mp4\n"
     ]
    },
    {
     "name": "stderr",
     "output_type": "stream",
     "text": [
      "Processing 441_439.mp4: 100%|██████████| 305/305 [00:09<00:00, 31.17it/s]\n"
     ]
    },
    {
     "name": "stdout",
     "output_type": "stream",
     "text": [
      "Filtered video saved: filtered_videos\\FaceShifter\\441_439.mp4\n"
     ]
    },
    {
     "name": "stderr",
     "output_type": "stream",
     "text": [
      "Processing 442_195.mp4: 100%|██████████| 355/355 [00:55<00:00,  6.42it/s]\n"
     ]
    },
    {
     "name": "stdout",
     "output_type": "stream",
     "text": [
      "Filtered video saved: filtered_videos\\FaceShifter\\442_195.mp4\n"
     ]
    },
    {
     "name": "stderr",
     "output_type": "stream",
     "text": [
      "Processing 443_514.mp4: 100%|██████████| 1146/1146 [00:36<00:00, 31.65it/s]\n"
     ]
    },
    {
     "name": "stdout",
     "output_type": "stream",
     "text": [
      "Filtered video saved: filtered_videos\\FaceShifter\\443_514.mp4\n"
     ]
    },
    {
     "name": "stderr",
     "output_type": "stream",
     "text": [
      "Processing 444_655.mp4: 100%|██████████| 437/437 [00:18<00:00, 24.10it/s]\n"
     ]
    },
    {
     "name": "stdout",
     "output_type": "stream",
     "text": [
      "Filtered video saved: filtered_videos\\FaceShifter\\444_655.mp4\n"
     ]
    },
    {
     "name": "stderr",
     "output_type": "stream",
     "text": [
      "Processing 445_494.mp4: 100%|██████████| 1053/1053 [01:13<00:00, 14.23it/s]\n"
     ]
    },
    {
     "name": "stdout",
     "output_type": "stream",
     "text": [
      "Filtered video saved: filtered_videos\\FaceShifter\\445_494.mp4\n"
     ]
    },
    {
     "name": "stderr",
     "output_type": "stream",
     "text": [
      "Processing 446_667.mp4: 100%|██████████| 423/423 [01:05<00:00,  6.46it/s]\n"
     ]
    },
    {
     "name": "stdout",
     "output_type": "stream",
     "text": [
      "Filtered video saved: filtered_videos\\FaceShifter\\446_667.mp4\n"
     ]
    },
    {
     "name": "stderr",
     "output_type": "stream",
     "text": [
      "Processing 447_431.mp4: 100%|██████████| 326/326 [00:17<00:00, 18.43it/s]\n"
     ]
    },
    {
     "name": "stdout",
     "output_type": "stream",
     "text": [
      "Filtered video saved: filtered_videos\\FaceShifter\\447_431.mp4\n"
     ]
    },
    {
     "name": "stderr",
     "output_type": "stream",
     "text": [
      "Processing 448_361.mp4: 100%|██████████| 528/528 [00:37<00:00, 14.21it/s]\n"
     ]
    },
    {
     "name": "stdout",
     "output_type": "stream",
     "text": [
      "Filtered video saved: filtered_videos\\FaceShifter\\448_361.mp4\n"
     ]
    },
    {
     "name": "stderr",
     "output_type": "stream",
     "text": [
      "Processing 449_451.mp4: 100%|██████████| 306/306 [00:20<00:00, 14.78it/s]\n"
     ]
    },
    {
     "name": "stdout",
     "output_type": "stream",
     "text": [
      "Filtered video saved: filtered_videos\\FaceShifter\\449_451.mp4\n"
     ]
    },
    {
     "name": "stderr",
     "output_type": "stream",
     "text": [
      "Processing 450_533.mp4: 100%|██████████| 774/774 [01:52<00:00,  6.90it/s]\n"
     ]
    },
    {
     "name": "stdout",
     "output_type": "stream",
     "text": [
      "Filtered video saved: filtered_videos\\FaceShifter\\450_533.mp4\n"
     ]
    },
    {
     "name": "stderr",
     "output_type": "stream",
     "text": [
      "Processing 451_449.mp4: 100%|██████████| 383/383 [00:29<00:00, 12.93it/s]\n"
     ]
    },
    {
     "name": "stdout",
     "output_type": "stream",
     "text": [
      "Filtered video saved: filtered_videos\\FaceShifter\\451_449.mp4\n"
     ]
    },
    {
     "name": "stderr",
     "output_type": "stream",
     "text": [
      "Processing 452_550.mp4: 100%|██████████| 606/606 [00:23<00:00, 25.52it/s]\n"
     ]
    },
    {
     "name": "stdout",
     "output_type": "stream",
     "text": [
      "Filtered video saved: filtered_videos\\FaceShifter\\452_550.mp4\n"
     ]
    },
    {
     "name": "stderr",
     "output_type": "stream",
     "text": [
      "Processing 453_402.mp4: 100%|██████████| 645/645 [01:03<00:00, 10.15it/s]\n"
     ]
    },
    {
     "name": "stdout",
     "output_type": "stream",
     "text": [
      "Filtered video saved: filtered_videos\\FaceShifter\\453_402.mp4\n"
     ]
    },
    {
     "name": "stderr",
     "output_type": "stream",
     "text": [
      "Processing 454_527.mp4: 100%|██████████| 384/384 [00:16<00:00, 23.87it/s]\n"
     ]
    },
    {
     "name": "stdout",
     "output_type": "stream",
     "text": [
      "Filtered video saved: filtered_videos\\FaceShifter\\454_527.mp4\n"
     ]
    },
    {
     "name": "stderr",
     "output_type": "stream",
     "text": [
      "Processing 455_471.mp4: 100%|██████████| 370/370 [00:11<00:00, 30.98it/s]\n"
     ]
    },
    {
     "name": "stdout",
     "output_type": "stream",
     "text": [
      "Filtered video saved: filtered_videos\\FaceShifter\\455_471.mp4\n"
     ]
    },
    {
     "name": "stderr",
     "output_type": "stream",
     "text": [
      "Processing 456_435.mp4: 100%|██████████| 608/608 [00:42<00:00, 14.27it/s]\n"
     ]
    },
    {
     "name": "stdout",
     "output_type": "stream",
     "text": [
      "Filtered video saved: filtered_videos\\FaceShifter\\456_435.mp4\n"
     ]
    },
    {
     "name": "stderr",
     "output_type": "stream",
     "text": [
      "Processing 457_398.mp4: 100%|██████████| 528/528 [00:16<00:00, 31.64it/s]\n"
     ]
    },
    {
     "name": "stdout",
     "output_type": "stream",
     "text": [
      "Filtered video saved: filtered_videos\\FaceShifter\\457_398.mp4\n"
     ]
    },
    {
     "name": "stderr",
     "output_type": "stream",
     "text": [
      "Processing 458_722.mp4: 100%|██████████| 351/351 [00:14<00:00, 24.65it/s]\n"
     ]
    },
    {
     "name": "stdout",
     "output_type": "stream",
     "text": [
      "Filtered video saved: filtered_videos\\FaceShifter\\458_722.mp4\n"
     ]
    },
    {
     "name": "stderr",
     "output_type": "stream",
     "text": [
      "Processing 459_430.mp4: 100%|██████████| 526/526 [01:19<00:00,  6.65it/s]\n"
     ]
    },
    {
     "name": "stdout",
     "output_type": "stream",
     "text": [
      "Filtered video saved: filtered_videos\\FaceShifter\\459_430.mp4\n"
     ]
    },
    {
     "name": "stderr",
     "output_type": "stream",
     "text": [
      "Processing 460_678.mp4: 100%|██████████| 640/640 [00:44<00:00, 14.24it/s]\n"
     ]
    },
    {
     "name": "stdout",
     "output_type": "stream",
     "text": [
      "Filtered video saved: filtered_videos\\FaceShifter\\460_678.mp4\n"
     ]
    },
    {
     "name": "stderr",
     "output_type": "stream",
     "text": [
      "Processing 461_250.mp4: 100%|██████████| 612/612 [00:47<00:00, 12.92it/s]\n"
     ]
    },
    {
     "name": "stdout",
     "output_type": "stream",
     "text": [
      "Filtered video saved: filtered_videos\\FaceShifter\\461_250.mp4\n"
     ]
    },
    {
     "name": "stderr",
     "output_type": "stream",
     "text": [
      "Processing 462_467.mp4: 100%|██████████| 585/585 [00:17<00:00, 33.61it/s]\n"
     ]
    },
    {
     "name": "stdout",
     "output_type": "stream",
     "text": [
      "Filtered video saved: filtered_videos\\FaceShifter\\462_467.mp4\n"
     ]
    },
    {
     "name": "stderr",
     "output_type": "stream",
     "text": [
      "Processing 463_464.mp4: 100%|██████████| 315/315 [00:09<00:00, 34.55it/s]\n"
     ]
    },
    {
     "name": "stdout",
     "output_type": "stream",
     "text": [
      "Filtered video saved: filtered_videos\\FaceShifter\\463_464.mp4\n"
     ]
    },
    {
     "name": "stderr",
     "output_type": "stream",
     "text": [
      "Processing 464_463.mp4: 100%|██████████| 404/404 [00:12<00:00, 33.48it/s]\n"
     ]
    },
    {
     "name": "stdout",
     "output_type": "stream",
     "text": [
      "Filtered video saved: filtered_videos\\FaceShifter\\464_463.mp4\n"
     ]
    },
    {
     "name": "stderr",
     "output_type": "stream",
     "text": [
      "Processing 465_482.mp4: 100%|██████████| 329/329 [00:23<00:00, 14.05it/s]\n"
     ]
    },
    {
     "name": "stdout",
     "output_type": "stream",
     "text": [
      "Filtered video saved: filtered_videos\\FaceShifter\\465_482.mp4\n"
     ]
    },
    {
     "name": "stderr",
     "output_type": "stream",
     "text": [
      "Processing 466_428.mp4: 100%|██████████| 334/334 [00:28<00:00, 11.64it/s]\n"
     ]
    },
    {
     "name": "stdout",
     "output_type": "stream",
     "text": [
      "Filtered video saved: filtered_videos\\FaceShifter\\466_428.mp4\n"
     ]
    },
    {
     "name": "stderr",
     "output_type": "stream",
     "text": [
      "Processing 467_462.mp4: 100%|██████████| 423/423 [00:15<00:00, 27.77it/s]\n"
     ]
    },
    {
     "name": "stdout",
     "output_type": "stream",
     "text": [
      "Filtered video saved: filtered_videos\\FaceShifter\\467_462.mp4\n"
     ]
    },
    {
     "name": "stderr",
     "output_type": "stream",
     "text": [
      "Processing 468_470.mp4: 100%|██████████| 597/597 [00:19<00:00, 30.98it/s]\n"
     ]
    },
    {
     "name": "stdout",
     "output_type": "stream",
     "text": [
      "Filtered video saved: filtered_videos\\FaceShifter\\468_470.mp4\n"
     ]
    },
    {
     "name": "stderr",
     "output_type": "stream",
     "text": [
      "Processing 469_481.mp4: 100%|██████████| 414/414 [00:18<00:00, 22.25it/s]\n"
     ]
    },
    {
     "name": "stdout",
     "output_type": "stream",
     "text": [
      "Filtered video saved: filtered_videos\\FaceShifter\\469_481.mp4\n"
     ]
    },
    {
     "name": "stderr",
     "output_type": "stream",
     "text": [
      "Processing 470_468.mp4: 100%|██████████| 905/905 [00:38<00:00, 23.77it/s]\n"
     ]
    },
    {
     "name": "stdout",
     "output_type": "stream",
     "text": [
      "Filtered video saved: filtered_videos\\FaceShifter\\470_468.mp4\n"
     ]
    },
    {
     "name": "stderr",
     "output_type": "stream",
     "text": [
      "Processing 471_455.mp4: 100%|██████████| 540/540 [00:21<00:00, 25.43it/s]\n"
     ]
    },
    {
     "name": "stdout",
     "output_type": "stream",
     "text": [
      "Filtered video saved: filtered_videos\\FaceShifter\\471_455.mp4\n"
     ]
    },
    {
     "name": "stderr",
     "output_type": "stream",
     "text": [
      "Processing 472_511.mp4: 100%|██████████| 479/479 [00:17<00:00, 27.22it/s]\n"
     ]
    },
    {
     "name": "stdout",
     "output_type": "stream",
     "text": [
      "Filtered video saved: filtered_videos\\FaceShifter\\472_511.mp4\n"
     ]
    },
    {
     "name": "stderr",
     "output_type": "stream",
     "text": [
      "Processing 473_366.mp4: 100%|██████████| 574/574 [00:23<00:00, 24.85it/s]\n"
     ]
    },
    {
     "name": "stdout",
     "output_type": "stream",
     "text": [
      "Filtered video saved: filtered_videos\\FaceShifter\\473_366.mp4\n"
     ]
    },
    {
     "name": "stderr",
     "output_type": "stream",
     "text": [
      "Processing 474_281.mp4: 100%|██████████| 296/296 [00:11<00:00, 25.07it/s]\n"
     ]
    },
    {
     "name": "stdout",
     "output_type": "stream",
     "text": [
      "Filtered video saved: filtered_videos\\FaceShifter\\474_281.mp4\n"
     ]
    },
    {
     "name": "stderr",
     "output_type": "stream",
     "text": [
      "Processing 475_265.mp4: 100%|██████████| 337/337 [00:26<00:00, 12.95it/s]\n"
     ]
    },
    {
     "name": "stdout",
     "output_type": "stream",
     "text": [
      "Filtered video saved: filtered_videos\\FaceShifter\\475_265.mp4\n"
     ]
    },
    {
     "name": "stderr",
     "output_type": "stream",
     "text": [
      "Processing 476_400.mp4: 100%|██████████| 310/310 [00:11<00:00, 27.84it/s]\n"
     ]
    },
    {
     "name": "stdout",
     "output_type": "stream",
     "text": [
      "Filtered video saved: filtered_videos\\FaceShifter\\476_400.mp4\n"
     ]
    },
    {
     "name": "stderr",
     "output_type": "stream",
     "text": [
      "Processing 477_487.mp4: 100%|██████████| 365/365 [00:35<00:00, 10.29it/s]\n"
     ]
    },
    {
     "name": "stdout",
     "output_type": "stream",
     "text": [
      "Filtered video saved: filtered_videos\\FaceShifter\\477_487.mp4\n"
     ]
    },
    {
     "name": "stderr",
     "output_type": "stream",
     "text": [
      "Processing 478_506.mp4: 100%|██████████| 749/749 [00:24<00:00, 30.61it/s]\n"
     ]
    },
    {
     "name": "stdout",
     "output_type": "stream",
     "text": [
      "Filtered video saved: filtered_videos\\FaceShifter\\478_506.mp4\n"
     ]
    },
    {
     "name": "stderr",
     "output_type": "stream",
     "text": [
      "Processing 479_706.mp4: 100%|██████████| 488/488 [01:23<00:00,  5.82it/s]\n"
     ]
    },
    {
     "name": "stdout",
     "output_type": "stream",
     "text": [
      "Filtered video saved: filtered_videos\\FaceShifter\\479_706.mp4\n"
     ]
    },
    {
     "name": "stderr",
     "output_type": "stream",
     "text": [
      "Processing 480_389.mp4: 100%|██████████| 485/485 [00:43<00:00, 11.05it/s]\n"
     ]
    },
    {
     "name": "stdout",
     "output_type": "stream",
     "text": [
      "Filtered video saved: filtered_videos\\FaceShifter\\480_389.mp4\n"
     ]
    },
    {
     "name": "stderr",
     "output_type": "stream",
     "text": [
      "Processing 481_469.mp4: 100%|██████████| 414/414 [00:36<00:00, 11.36it/s]\n"
     ]
    },
    {
     "name": "stdout",
     "output_type": "stream",
     "text": [
      "Filtered video saved: filtered_videos\\FaceShifter\\481_469.mp4\n"
     ]
    },
    {
     "name": "stderr",
     "output_type": "stream",
     "text": [
      "Processing 482_465.mp4: 100%|██████████| 354/354 [00:13<00:00, 27.08it/s]\n"
     ]
    },
    {
     "name": "stdout",
     "output_type": "stream",
     "text": [
      "Filtered video saved: filtered_videos\\FaceShifter\\482_465.mp4\n"
     ]
    },
    {
     "name": "stderr",
     "output_type": "stream",
     "text": [
      "Processing 483_370.mp4: 100%|██████████| 375/375 [00:28<00:00, 13.37it/s]\n"
     ]
    },
    {
     "name": "stdout",
     "output_type": "stream",
     "text": [
      "Filtered video saved: filtered_videos\\FaceShifter\\483_370.mp4\n"
     ]
    },
    {
     "name": "stderr",
     "output_type": "stream",
     "text": [
      "Processing 484_415.mp4: 100%|██████████| 319/319 [00:12<00:00, 25.12it/s]\n"
     ]
    },
    {
     "name": "stdout",
     "output_type": "stream",
     "text": [
      "Filtered video saved: filtered_videos\\FaceShifter\\484_415.mp4\n"
     ]
    },
    {
     "name": "stderr",
     "output_type": "stream",
     "text": [
      "Processing 485_425.mp4: 100%|██████████| 803/803 [00:39<00:00, 20.48it/s]\n"
     ]
    },
    {
     "name": "stdout",
     "output_type": "stream",
     "text": [
      "Filtered video saved: filtered_videos\\FaceShifter\\485_425.mp4\n"
     ]
    },
    {
     "name": "stderr",
     "output_type": "stream",
     "text": [
      "Processing 486_680.mp4: 100%|██████████| 564/564 [00:19<00:00, 29.35it/s]\n"
     ]
    },
    {
     "name": "stdout",
     "output_type": "stream",
     "text": [
      "Filtered video saved: filtered_videos\\FaceShifter\\486_680.mp4\n"
     ]
    },
    {
     "name": "stderr",
     "output_type": "stream",
     "text": [
      "Processing 487_477.mp4: 100%|██████████| 319/319 [00:24<00:00, 13.07it/s]\n"
     ]
    },
    {
     "name": "stdout",
     "output_type": "stream",
     "text": [
      "Filtered video saved: filtered_videos\\FaceShifter\\487_477.mp4\n"
     ]
    },
    {
     "name": "stderr",
     "output_type": "stream",
     "text": [
      "Processing 488_399.mp4: 100%|██████████| 518/518 [00:26<00:00, 19.40it/s]\n"
     ]
    },
    {
     "name": "stdout",
     "output_type": "stream",
     "text": [
      "Filtered video saved: filtered_videos\\FaceShifter\\488_399.mp4\n"
     ]
    },
    {
     "name": "stderr",
     "output_type": "stream",
     "text": [
      "Processing 489_022.mp4: 100%|██████████| 566/566 [00:47<00:00, 11.84it/s]\n"
     ]
    },
    {
     "name": "stdout",
     "output_type": "stream",
     "text": [
      "Filtered video saved: filtered_videos\\FaceShifter\\489_022.mp4\n"
     ]
    },
    {
     "name": "stderr",
     "output_type": "stream",
     "text": [
      "Processing 490_534.mp4: 100%|██████████| 635/635 [01:53<00:00,  5.62it/s]\n"
     ]
    },
    {
     "name": "stdout",
     "output_type": "stream",
     "text": [
      "Filtered video saved: filtered_videos\\FaceShifter\\490_534.mp4\n"
     ]
    },
    {
     "name": "stderr",
     "output_type": "stream",
     "text": [
      "Processing 491_226.mp4: 100%|██████████| 427/427 [01:14<00:00,  5.75it/s]\n"
     ]
    },
    {
     "name": "stdout",
     "output_type": "stream",
     "text": [
      "Filtered video saved: filtered_videos\\FaceShifter\\491_226.mp4\n"
     ]
    },
    {
     "name": "stderr",
     "output_type": "stream",
     "text": [
      "Processing 492_325.mp4: 100%|██████████| 347/347 [00:31<00:00, 10.92it/s]\n"
     ]
    },
    {
     "name": "stdout",
     "output_type": "stream",
     "text": [
      "Filtered video saved: filtered_videos\\FaceShifter\\492_325.mp4\n"
     ]
    },
    {
     "name": "stderr",
     "output_type": "stream",
     "text": [
      "Processing 493_538.mp4: 100%|██████████| 395/395 [00:14<00:00, 28.11it/s]\n"
     ]
    },
    {
     "name": "stdout",
     "output_type": "stream",
     "text": [
      "Filtered video saved: filtered_videos\\FaceShifter\\493_538.mp4\n"
     ]
    },
    {
     "name": "stderr",
     "output_type": "stream",
     "text": [
      "Processing 494_445.mp4: 100%|██████████| 802/802 [01:10<00:00, 11.46it/s]\n"
     ]
    },
    {
     "name": "stdout",
     "output_type": "stream",
     "text": [
      "Filtered video saved: filtered_videos\\FaceShifter\\494_445.mp4\n"
     ]
    },
    {
     "name": "stderr",
     "output_type": "stream",
     "text": [
      "Processing 495_512.mp4: 100%|██████████| 573/573 [00:19<00:00, 28.66it/s]\n"
     ]
    },
    {
     "name": "stdout",
     "output_type": "stream",
     "text": [
      "Filtered video saved: filtered_videos\\FaceShifter\\495_512.mp4\n"
     ]
    },
    {
     "name": "stderr",
     "output_type": "stream",
     "text": [
      "Processing 496_417.mp4: 100%|██████████| 1496/1496 [00:50<00:00, 29.75it/s]\n"
     ]
    },
    {
     "name": "stdout",
     "output_type": "stream",
     "text": [
      "Filtered video saved: filtered_videos\\FaceShifter\\496_417.mp4\n"
     ]
    },
    {
     "name": "stderr",
     "output_type": "stream",
     "text": [
      "Processing 497_403.mp4: 100%|██████████| 621/621 [00:28<00:00, 21.84it/s]\n"
     ]
    },
    {
     "name": "stdout",
     "output_type": "stream",
     "text": [
      "Filtered video saved: filtered_videos\\FaceShifter\\497_403.mp4\n"
     ]
    },
    {
     "name": "stderr",
     "output_type": "stream",
     "text": [
      "Processing 498_433.mp4: 100%|██████████| 317/317 [00:13<00:00, 22.66it/s]\n"
     ]
    },
    {
     "name": "stdout",
     "output_type": "stream",
     "text": [
      "Filtered video saved: filtered_videos\\FaceShifter\\498_433.mp4\n"
     ]
    },
    {
     "name": "stderr",
     "output_type": "stream",
     "text": [
      "Processing 499_539.mp4: 100%|██████████| 514/514 [00:42<00:00, 12.12it/s]\n"
     ]
    },
    {
     "name": "stdout",
     "output_type": "stream",
     "text": [
      "Filtered video saved: filtered_videos\\FaceShifter\\499_539.mp4\n"
     ]
    },
    {
     "name": "stderr",
     "output_type": "stream",
     "text": [
      "Processing 500_592.mp4: 100%|██████████| 292/292 [00:48<00:00,  6.01it/s]\n"
     ]
    },
    {
     "name": "stdout",
     "output_type": "stream",
     "text": [
      "Filtered video saved: filtered_videos\\FaceShifter\\500_592.mp4\n"
     ]
    },
    {
     "name": "stderr",
     "output_type": "stream",
     "text": [
      "Processing 501_326.mp4: 100%|██████████| 522/522 [00:17<00:00, 29.71it/s]\n"
     ]
    },
    {
     "name": "stdout",
     "output_type": "stream",
     "text": [
      "Filtered video saved: filtered_videos\\FaceShifter\\501_326.mp4\n"
     ]
    },
    {
     "name": "stderr",
     "output_type": "stream",
     "text": [
      "Processing 502_504.mp4: 100%|██████████| 317/317 [00:27<00:00, 11.57it/s]\n"
     ]
    },
    {
     "name": "stdout",
     "output_type": "stream",
     "text": [
      "Filtered video saved: filtered_videos\\FaceShifter\\502_504.mp4\n"
     ]
    },
    {
     "name": "stderr",
     "output_type": "stream",
     "text": [
      "Processing 503_756.mp4: 100%|██████████| 674/674 [00:23<00:00, 29.30it/s]\n"
     ]
    },
    {
     "name": "stdout",
     "output_type": "stream",
     "text": [
      "Filtered video saved: filtered_videos\\FaceShifter\\503_756.mp4\n"
     ]
    },
    {
     "name": "stderr",
     "output_type": "stream",
     "text": [
      "Processing 504_502.mp4: 100%|██████████| 317/317 [00:25<00:00, 12.23it/s]\n"
     ]
    },
    {
     "name": "stdout",
     "output_type": "stream",
     "text": [
      "Filtered video saved: filtered_videos\\FaceShifter\\504_502.mp4\n"
     ]
    },
    {
     "name": "stderr",
     "output_type": "stream",
     "text": [
      "Processing 505_600.mp4: 100%|██████████| 543/543 [00:22<00:00, 23.84it/s]\n"
     ]
    },
    {
     "name": "stdout",
     "output_type": "stream",
     "text": [
      "Filtered video saved: filtered_videos\\FaceShifter\\505_600.mp4\n"
     ]
    },
    {
     "name": "stderr",
     "output_type": "stream",
     "text": [
      "Processing 506_478.mp4: 100%|██████████| 668/668 [00:28<00:00, 23.38it/s]\n"
     ]
    },
    {
     "name": "stdout",
     "output_type": "stream",
     "text": [
      "Filtered video saved: filtered_videos\\FaceShifter\\506_478.mp4\n"
     ]
    },
    {
     "name": "stderr",
     "output_type": "stream",
     "text": [
      "Processing 507_418.mp4: 100%|██████████| 469/469 [01:22<00:00,  5.67it/s]\n"
     ]
    },
    {
     "name": "stdout",
     "output_type": "stream",
     "text": [
      "Filtered video saved: filtered_videos\\FaceShifter\\507_418.mp4\n"
     ]
    },
    {
     "name": "stderr",
     "output_type": "stream",
     "text": [
      "Processing 508_831.mp4: 100%|██████████| 603/603 [01:44<00:00,  5.78it/s]\n"
     ]
    },
    {
     "name": "stdout",
     "output_type": "stream",
     "text": [
      "Filtered video saved: filtered_videos\\FaceShifter\\508_831.mp4\n"
     ]
    },
    {
     "name": "stderr",
     "output_type": "stream",
     "text": [
      "Processing 509_525.mp4: 100%|██████████| 563/563 [00:22<00:00, 25.33it/s]\n"
     ]
    },
    {
     "name": "stdout",
     "output_type": "stream",
     "text": [
      "Filtered video saved: filtered_videos\\FaceShifter\\509_525.mp4\n"
     ]
    },
    {
     "name": "stderr",
     "output_type": "stream",
     "text": [
      "Processing 510_528.mp4: 100%|██████████| 340/340 [00:14<00:00, 22.71it/s]\n"
     ]
    },
    {
     "name": "stdout",
     "output_type": "stream",
     "text": [
      "Filtered video saved: filtered_videos\\FaceShifter\\510_528.mp4\n"
     ]
    },
    {
     "name": "stderr",
     "output_type": "stream",
     "text": [
      "Processing 511_472.mp4: 100%|██████████| 809/809 [00:29<00:00, 27.51it/s]\n"
     ]
    },
    {
     "name": "stdout",
     "output_type": "stream",
     "text": [
      "Filtered video saved: filtered_videos\\FaceShifter\\511_472.mp4\n"
     ]
    },
    {
     "name": "stderr",
     "output_type": "stream",
     "text": [
      "Processing 512_495.mp4: 100%|██████████| 750/750 [00:26<00:00, 27.95it/s]\n"
     ]
    },
    {
     "name": "stdout",
     "output_type": "stream",
     "text": [
      "Filtered video saved: filtered_videos\\FaceShifter\\512_495.mp4\n"
     ]
    },
    {
     "name": "stderr",
     "output_type": "stream",
     "text": [
      "Processing 513_305.mp4: 100%|██████████| 494/494 [00:39<00:00, 12.43it/s]\n"
     ]
    },
    {
     "name": "stdout",
     "output_type": "stream",
     "text": [
      "Filtered video saved: filtered_videos\\FaceShifter\\513_305.mp4\n"
     ]
    },
    {
     "name": "stderr",
     "output_type": "stream",
     "text": [
      "Processing 514_443.mp4: 100%|██████████| 361/361 [00:13<00:00, 27.73it/s]\n"
     ]
    },
    {
     "name": "stdout",
     "output_type": "stream",
     "text": [
      "Filtered video saved: filtered_videos\\FaceShifter\\514_443.mp4\n"
     ]
    },
    {
     "name": "stderr",
     "output_type": "stream",
     "text": [
      "Processing 515_519.mp4: 100%|██████████| 766/766 [00:26<00:00, 28.57it/s]\n"
     ]
    },
    {
     "name": "stdout",
     "output_type": "stream",
     "text": [
      "Filtered video saved: filtered_videos\\FaceShifter\\515_519.mp4\n"
     ]
    },
    {
     "name": "stderr",
     "output_type": "stream",
     "text": [
      "Processing 516_555.mp4: 100%|██████████| 354/354 [01:13<00:00,  4.80it/s]\n"
     ]
    },
    {
     "name": "stdout",
     "output_type": "stream",
     "text": [
      "Filtered video saved: filtered_videos\\FaceShifter\\516_555.mp4\n"
     ]
    },
    {
     "name": "stderr",
     "output_type": "stream",
     "text": [
      "Processing 517_521.mp4: 100%|██████████| 373/373 [00:15<00:00, 23.81it/s]\n"
     ]
    },
    {
     "name": "stdout",
     "output_type": "stream",
     "text": [
      "Filtered video saved: filtered_videos\\FaceShifter\\517_521.mp4\n"
     ]
    },
    {
     "name": "stderr",
     "output_type": "stream",
     "text": [
      "Processing 518_131.mp4: 100%|██████████| 295/295 [00:13<00:00, 22.65it/s]\n"
     ]
    },
    {
     "name": "stdout",
     "output_type": "stream",
     "text": [
      "Filtered video saved: filtered_videos\\FaceShifter\\518_131.mp4\n"
     ]
    },
    {
     "name": "stderr",
     "output_type": "stream",
     "text": [
      "Processing 519_515.mp4: 100%|██████████| 751/751 [00:27<00:00, 27.39it/s]\n"
     ]
    },
    {
     "name": "stdout",
     "output_type": "stream",
     "text": [
      "Filtered video saved: filtered_videos\\FaceShifter\\519_515.mp4\n"
     ]
    },
    {
     "name": "stderr",
     "output_type": "stream",
     "text": [
      "Processing 520_542.mp4: 100%|██████████| 350/350 [00:28<00:00, 12.18it/s]\n"
     ]
    },
    {
     "name": "stdout",
     "output_type": "stream",
     "text": [
      "Filtered video saved: filtered_videos\\FaceShifter\\520_542.mp4\n"
     ]
    },
    {
     "name": "stderr",
     "output_type": "stream",
     "text": [
      "Processing 521_517.mp4: 100%|██████████| 304/304 [00:11<00:00, 27.05it/s]\n"
     ]
    },
    {
     "name": "stdout",
     "output_type": "stream",
     "text": [
      "Filtered video saved: filtered_videos\\FaceShifter\\521_517.mp4\n"
     ]
    },
    {
     "name": "stderr",
     "output_type": "stream",
     "text": [
      "Processing 522_337.mp4: 100%|██████████| 713/713 [00:25<00:00, 28.40it/s]\n"
     ]
    },
    {
     "name": "stdout",
     "output_type": "stream",
     "text": [
      "Filtered video saved: filtered_videos\\FaceShifter\\522_337.mp4\n"
     ]
    },
    {
     "name": "stderr",
     "output_type": "stream",
     "text": [
      "Processing 523_541.mp4: 100%|██████████| 375/375 [00:16<00:00, 22.37it/s]\n"
     ]
    },
    {
     "name": "stdout",
     "output_type": "stream",
     "text": [
      "Filtered video saved: filtered_videos\\FaceShifter\\523_541.mp4\n"
     ]
    },
    {
     "name": "stderr",
     "output_type": "stream",
     "text": [
      "Processing 524_580.mp4: 100%|██████████| 527/527 [00:21<00:00, 24.03it/s]\n"
     ]
    },
    {
     "name": "stdout",
     "output_type": "stream",
     "text": [
      "Filtered video saved: filtered_videos\\FaceShifter\\524_580.mp4\n"
     ]
    },
    {
     "name": "stderr",
     "output_type": "stream",
     "text": [
      "Processing 525_509.mp4: 100%|██████████| 517/517 [00:22<00:00, 23.39it/s]\n"
     ]
    },
    {
     "name": "stdout",
     "output_type": "stream",
     "text": [
      "Filtered video saved: filtered_videos\\FaceShifter\\525_509.mp4\n"
     ]
    },
    {
     "name": "stderr",
     "output_type": "stream",
     "text": [
      "Processing 526_436.mp4: 100%|██████████| 838/838 [01:14<00:00, 11.23it/s]\n"
     ]
    },
    {
     "name": "stdout",
     "output_type": "stream",
     "text": [
      "Filtered video saved: filtered_videos\\FaceShifter\\526_436.mp4\n"
     ]
    },
    {
     "name": "stderr",
     "output_type": "stream",
     "text": [
      "Processing 527_454.mp4: 100%|██████████| 342/342 [00:29<00:00, 11.64it/s]\n"
     ]
    },
    {
     "name": "stdout",
     "output_type": "stream",
     "text": [
      "Filtered video saved: filtered_videos\\FaceShifter\\527_454.mp4\n"
     ]
    },
    {
     "name": "stderr",
     "output_type": "stream",
     "text": [
      "Processing 528_510.mp4: 100%|██████████| 377/377 [00:15<00:00, 24.57it/s]\n"
     ]
    },
    {
     "name": "stdout",
     "output_type": "stream",
     "text": [
      "Filtered video saved: filtered_videos\\FaceShifter\\528_510.mp4\n"
     ]
    },
    {
     "name": "stderr",
     "output_type": "stream",
     "text": [
      "Processing 529_633.mp4: 100%|██████████| 335/335 [00:57<00:00,  5.78it/s]\n"
     ]
    },
    {
     "name": "stdout",
     "output_type": "stream",
     "text": [
      "Filtered video saved: filtered_videos\\FaceShifter\\529_633.mp4\n"
     ]
    },
    {
     "name": "stderr",
     "output_type": "stream",
     "text": [
      "Processing 530_594.mp4: 100%|██████████| 716/716 [00:57<00:00, 12.42it/s]\n"
     ]
    },
    {
     "name": "stdout",
     "output_type": "stream",
     "text": [
      "Filtered video saved: filtered_videos\\FaceShifter\\530_594.mp4\n"
     ]
    },
    {
     "name": "stderr",
     "output_type": "stream",
     "text": [
      "Processing 531_549.mp4: 100%|██████████| 319/319 [00:11<00:00, 28.56it/s]\n"
     ]
    },
    {
     "name": "stdout",
     "output_type": "stream",
     "text": [
      "Filtered video saved: filtered_videos\\FaceShifter\\531_549.mp4\n"
     ]
    },
    {
     "name": "stderr",
     "output_type": "stream",
     "text": [
      "Processing 532_544.mp4: 100%|██████████| 391/391 [00:33<00:00, 11.51it/s]\n"
     ]
    },
    {
     "name": "stdout",
     "output_type": "stream",
     "text": [
      "Filtered video saved: filtered_videos\\FaceShifter\\532_544.mp4\n"
     ]
    },
    {
     "name": "stderr",
     "output_type": "stream",
     "text": [
      "Processing 533_450.mp4: 100%|██████████| 558/558 [01:38<00:00,  5.68it/s]\n"
     ]
    },
    {
     "name": "stdout",
     "output_type": "stream",
     "text": [
      "Filtered video saved: filtered_videos\\FaceShifter\\533_450.mp4\n"
     ]
    },
    {
     "name": "stderr",
     "output_type": "stream",
     "text": [
      "Processing 534_490.mp4: 100%|██████████| 384/384 [00:36<00:00, 10.44it/s]\n"
     ]
    },
    {
     "name": "stdout",
     "output_type": "stream",
     "text": [
      "Filtered video saved: filtered_videos\\FaceShifter\\534_490.mp4\n"
     ]
    },
    {
     "name": "stderr",
     "output_type": "stream",
     "text": [
      "Processing 535_587.mp4: 100%|██████████| 667/667 [00:19<00:00, 34.21it/s]\n"
     ]
    },
    {
     "name": "stdout",
     "output_type": "stream",
     "text": [
      "Filtered video saved: filtered_videos\\FaceShifter\\535_587.mp4\n"
     ]
    },
    {
     "name": "stderr",
     "output_type": "stream",
     "text": [
      "Processing 536_540.mp4: 100%|██████████| 603/603 [00:52<00:00, 11.47it/s]\n"
     ]
    },
    {
     "name": "stdout",
     "output_type": "stream",
     "text": [
      "Filtered video saved: filtered_videos\\FaceShifter\\536_540.mp4\n"
     ]
    },
    {
     "name": "stderr",
     "output_type": "stream",
     "text": [
      "Processing 537_563.mp4: 100%|██████████| 385/385 [00:33<00:00, 11.47it/s]\n"
     ]
    },
    {
     "name": "stdout",
     "output_type": "stream",
     "text": [
      "Filtered video saved: filtered_videos\\FaceShifter\\537_563.mp4\n"
     ]
    },
    {
     "name": "stderr",
     "output_type": "stream",
     "text": [
      "Processing 538_493.mp4: 100%|██████████| 596/596 [00:25<00:00, 23.17it/s]\n"
     ]
    },
    {
     "name": "stdout",
     "output_type": "stream",
     "text": [
      "Filtered video saved: filtered_videos\\FaceShifter\\538_493.mp4\n"
     ]
    },
    {
     "name": "stderr",
     "output_type": "stream",
     "text": [
      "Processing 539_499.mp4: 100%|██████████| 313/313 [00:10<00:00, 30.38it/s]\n"
     ]
    },
    {
     "name": "stdout",
     "output_type": "stream",
     "text": [
      "Filtered video saved: filtered_videos\\FaceShifter\\539_499.mp4\n"
     ]
    },
    {
     "name": "stderr",
     "output_type": "stream",
     "text": [
      "Processing 540_536.mp4: 100%|██████████| 957/957 [01:19<00:00, 12.00it/s]\n"
     ]
    },
    {
     "name": "stdout",
     "output_type": "stream",
     "text": [
      "Filtered video saved: filtered_videos\\FaceShifter\\540_536.mp4\n"
     ]
    },
    {
     "name": "stderr",
     "output_type": "stream",
     "text": [
      "Processing 541_523.mp4: 100%|██████████| 390/390 [00:19<00:00, 19.85it/s]\n"
     ]
    },
    {
     "name": "stdout",
     "output_type": "stream",
     "text": [
      "Filtered video saved: filtered_videos\\FaceShifter\\541_523.mp4\n"
     ]
    },
    {
     "name": "stderr",
     "output_type": "stream",
     "text": [
      "Processing 542_520.mp4: 100%|██████████| 320/320 [00:25<00:00, 12.70it/s]\n"
     ]
    },
    {
     "name": "stdout",
     "output_type": "stream",
     "text": [
      "Filtered video saved: filtered_videos\\FaceShifter\\542_520.mp4\n"
     ]
    },
    {
     "name": "stderr",
     "output_type": "stream",
     "text": [
      "Processing 543_559.mp4: 100%|██████████| 718/718 [00:27<00:00, 26.25it/s]\n"
     ]
    },
    {
     "name": "stdout",
     "output_type": "stream",
     "text": [
      "Filtered video saved: filtered_videos\\FaceShifter\\543_559.mp4\n"
     ]
    },
    {
     "name": "stderr",
     "output_type": "stream",
     "text": [
      "Processing 544_532.mp4: 100%|██████████| 355/355 [00:29<00:00, 11.88it/s]\n"
     ]
    },
    {
     "name": "stdout",
     "output_type": "stream",
     "text": [
      "Filtered video saved: filtered_videos\\FaceShifter\\544_532.mp4\n"
     ]
    },
    {
     "name": "stderr",
     "output_type": "stream",
     "text": [
      "Processing 545_553.mp4: 100%|██████████| 436/436 [00:15<00:00, 28.13it/s]\n"
     ]
    },
    {
     "name": "stdout",
     "output_type": "stream",
     "text": [
      "Filtered video saved: filtered_videos\\FaceShifter\\545_553.mp4\n"
     ]
    },
    {
     "name": "stderr",
     "output_type": "stream",
     "text": [
      "Processing 546_621.mp4: 100%|██████████| 714/714 [00:32<00:00, 21.82it/s]\n"
     ]
    },
    {
     "name": "stdout",
     "output_type": "stream",
     "text": [
      "Filtered video saved: filtered_videos\\FaceShifter\\546_621.mp4\n"
     ]
    },
    {
     "name": "stderr",
     "output_type": "stream",
     "text": [
      "Processing 547_574.mp4: 100%|██████████| 496/496 [01:33<00:00,  5.32it/s]\n"
     ]
    },
    {
     "name": "stdout",
     "output_type": "stream",
     "text": [
      "Filtered video saved: filtered_videos\\FaceShifter\\547_574.mp4\n"
     ]
    },
    {
     "name": "stderr",
     "output_type": "stream",
     "text": [
      "Processing 548_632.mp4: 100%|██████████| 573/573 [00:53<00:00, 10.81it/s]\n"
     ]
    },
    {
     "name": "stdout",
     "output_type": "stream",
     "text": [
      "Filtered video saved: filtered_videos\\FaceShifter\\548_632.mp4\n"
     ]
    },
    {
     "name": "stderr",
     "output_type": "stream",
     "text": [
      "Processing 549_531.mp4: 100%|██████████| 624/624 [00:56<00:00, 11.14it/s]\n"
     ]
    },
    {
     "name": "stdout",
     "output_type": "stream",
     "text": [
      "Filtered video saved: filtered_videos\\FaceShifter\\549_531.mp4\n"
     ]
    },
    {
     "name": "stderr",
     "output_type": "stream",
     "text": [
      "Processing 550_452.mp4: 100%|██████████| 444/444 [00:15<00:00, 28.72it/s]\n"
     ]
    },
    {
     "name": "stdout",
     "output_type": "stream",
     "text": [
      "Filtered video saved: filtered_videos\\FaceShifter\\550_452.mp4\n"
     ]
    },
    {
     "name": "stderr",
     "output_type": "stream",
     "text": [
      "Processing 551_631.mp4: 100%|██████████| 727/727 [01:01<00:00, 11.90it/s]\n"
     ]
    },
    {
     "name": "stdout",
     "output_type": "stream",
     "text": [
      "Filtered video saved: filtered_videos\\FaceShifter\\551_631.mp4\n"
     ]
    },
    {
     "name": "stderr",
     "output_type": "stream",
     "text": [
      "Processing 552_851.mp4: 100%|██████████| 303/303 [00:22<00:00, 13.49it/s]\n"
     ]
    },
    {
     "name": "stdout",
     "output_type": "stream",
     "text": [
      "Filtered video saved: filtered_videos\\FaceShifter\\552_851.mp4\n"
     ]
    },
    {
     "name": "stderr",
     "output_type": "stream",
     "text": [
      "Processing 553_545.mp4: 100%|██████████| 364/364 [00:12<00:00, 29.55it/s]\n"
     ]
    },
    {
     "name": "stdout",
     "output_type": "stream",
     "text": [
      "Filtered video saved: filtered_videos\\FaceShifter\\553_545.mp4\n"
     ]
    },
    {
     "name": "stderr",
     "output_type": "stream",
     "text": [
      "Processing 554_572.mp4: 100%|██████████| 828/828 [01:15<00:00, 10.97it/s]\n"
     ]
    },
    {
     "name": "stdout",
     "output_type": "stream",
     "text": [
      "Filtered video saved: filtered_videos\\FaceShifter\\554_572.mp4\n"
     ]
    },
    {
     "name": "stderr",
     "output_type": "stream",
     "text": [
      "Processing 555_516.mp4: 100%|██████████| 572/572 [01:38<00:00,  5.81it/s]\n"
     ]
    },
    {
     "name": "stdout",
     "output_type": "stream",
     "text": [
      "Filtered video saved: filtered_videos\\FaceShifter\\555_516.mp4\n"
     ]
    },
    {
     "name": "stderr",
     "output_type": "stream",
     "text": [
      "Processing 556_588.mp4: 100%|██████████| 372/372 [00:13<00:00, 26.59it/s]\n"
     ]
    },
    {
     "name": "stdout",
     "output_type": "stream",
     "text": [
      "Filtered video saved: filtered_videos\\FaceShifter\\556_588.mp4\n"
     ]
    },
    {
     "name": "stderr",
     "output_type": "stream",
     "text": [
      "Processing 557_560.mp4: 100%|██████████| 509/509 [00:22<00:00, 23.02it/s]\n"
     ]
    },
    {
     "name": "stdout",
     "output_type": "stream",
     "text": [
      "Filtered video saved: filtered_videos\\FaceShifter\\557_560.mp4\n"
     ]
    },
    {
     "name": "stderr",
     "output_type": "stream",
     "text": [
      "Processing 558_583.mp4: 100%|██████████| 535/535 [00:42<00:00, 12.54it/s]\n"
     ]
    },
    {
     "name": "stdout",
     "output_type": "stream",
     "text": [
      "Filtered video saved: filtered_videos\\FaceShifter\\558_583.mp4\n"
     ]
    },
    {
     "name": "stderr",
     "output_type": "stream",
     "text": [
      "Processing 559_543.mp4: 100%|██████████| 334/334 [00:28<00:00, 11.90it/s]\n"
     ]
    },
    {
     "name": "stdout",
     "output_type": "stream",
     "text": [
      "Filtered video saved: filtered_videos\\FaceShifter\\559_543.mp4\n"
     ]
    },
    {
     "name": "stderr",
     "output_type": "stream",
     "text": [
      "Processing 560_557.mp4: 100%|██████████| 349/349 [00:12<00:00, 28.87it/s]\n"
     ]
    },
    {
     "name": "stdout",
     "output_type": "stream",
     "text": [
      "Filtered video saved: filtered_videos\\FaceShifter\\560_557.mp4\n"
     ]
    },
    {
     "name": "stderr",
     "output_type": "stream",
     "text": [
      "Processing 561_998.mp4: 100%|██████████| 416/416 [01:13<00:00,  5.67it/s]\n"
     ]
    },
    {
     "name": "stdout",
     "output_type": "stream",
     "text": [
      "Filtered video saved: filtered_videos\\FaceShifter\\561_998.mp4\n"
     ]
    },
    {
     "name": "stderr",
     "output_type": "stream",
     "text": [
      "Processing 562_626.mp4: 100%|██████████| 467/467 [00:37<00:00, 12.51it/s]\n"
     ]
    },
    {
     "name": "stdout",
     "output_type": "stream",
     "text": [
      "Filtered video saved: filtered_videos\\FaceShifter\\562_626.mp4\n"
     ]
    },
    {
     "name": "stderr",
     "output_type": "stream",
     "text": [
      "Processing 563_537.mp4: 100%|██████████| 390/390 [00:15<00:00, 25.51it/s]\n"
     ]
    },
    {
     "name": "stdout",
     "output_type": "stream",
     "text": [
      "Filtered video saved: filtered_videos\\FaceShifter\\563_537.mp4\n"
     ]
    },
    {
     "name": "stderr",
     "output_type": "stream",
     "text": [
      "Processing 564_971.mp4: 100%|██████████| 648/648 [01:50<00:00,  5.85it/s]\n"
     ]
    },
    {
     "name": "stdout",
     "output_type": "stream",
     "text": [
      "Filtered video saved: filtered_videos\\FaceShifter\\564_971.mp4\n"
     ]
    },
    {
     "name": "stderr",
     "output_type": "stream",
     "text": [
      "Processing 565_589.mp4: 100%|██████████| 430/430 [00:15<00:00, 28.22it/s]\n"
     ]
    },
    {
     "name": "stdout",
     "output_type": "stream",
     "text": [
      "Filtered video saved: filtered_videos\\FaceShifter\\565_589.mp4\n"
     ]
    },
    {
     "name": "stderr",
     "output_type": "stream",
     "text": [
      "Processing 566_617.mp4: 100%|██████████| 723/723 [00:30<00:00, 23.41it/s]\n"
     ]
    },
    {
     "name": "stdout",
     "output_type": "stream",
     "text": [
      "Filtered video saved: filtered_videos\\FaceShifter\\566_617.mp4\n"
     ]
    },
    {
     "name": "stderr",
     "output_type": "stream",
     "text": [
      "Processing 567_606.mp4: 100%|██████████| 340/340 [00:17<00:00, 18.91it/s]\n"
     ]
    },
    {
     "name": "stdout",
     "output_type": "stream",
     "text": [
      "Filtered video saved: filtered_videos\\FaceShifter\\567_606.mp4\n"
     ]
    },
    {
     "name": "stderr",
     "output_type": "stream",
     "text": [
      "Processing 568_628.mp4: 100%|██████████| 570/570 [00:21<00:00, 26.50it/s]\n"
     ]
    },
    {
     "name": "stdout",
     "output_type": "stream",
     "text": [
      "Filtered video saved: filtered_videos\\FaceShifter\\568_628.mp4\n"
     ]
    },
    {
     "name": "stderr",
     "output_type": "stream",
     "text": [
      "Processing 569_921.mp4: 100%|██████████| 335/335 [00:56<00:00,  5.97it/s]\n"
     ]
    },
    {
     "name": "stdout",
     "output_type": "stream",
     "text": [
      "Filtered video saved: filtered_videos\\FaceShifter\\569_921.mp4\n"
     ]
    },
    {
     "name": "stderr",
     "output_type": "stream",
     "text": [
      "Processing 570_624.mp4: 100%|██████████| 430/430 [00:40<00:00, 10.69it/s]\n"
     ]
    },
    {
     "name": "stdout",
     "output_type": "stream",
     "text": [
      "Filtered video saved: filtered_videos\\FaceShifter\\570_624.mp4\n"
     ]
    },
    {
     "name": "stderr",
     "output_type": "stream",
     "text": [
      "Processing 571_746.mp4: 100%|██████████| 576/576 [00:46<00:00, 12.47it/s]\n"
     ]
    },
    {
     "name": "stdout",
     "output_type": "stream",
     "text": [
      "Filtered video saved: filtered_videos\\FaceShifter\\571_746.mp4\n"
     ]
    },
    {
     "name": "stderr",
     "output_type": "stream",
     "text": [
      "Processing 572_554.mp4: 100%|██████████| 347/347 [00:29<00:00, 11.84it/s]\n"
     ]
    },
    {
     "name": "stdout",
     "output_type": "stream",
     "text": [
      "Filtered video saved: filtered_videos\\FaceShifter\\572_554.mp4\n"
     ]
    },
    {
     "name": "stderr",
     "output_type": "stream",
     "text": [
      "Processing 573_757.mp4: 100%|██████████| 613/613 [01:02<00:00,  9.75it/s]\n"
     ]
    },
    {
     "name": "stdout",
     "output_type": "stream",
     "text": [
      "Filtered video saved: filtered_videos\\FaceShifter\\573_757.mp4\n"
     ]
    },
    {
     "name": "stderr",
     "output_type": "stream",
     "text": [
      "Processing 574_547.mp4: 100%|██████████| 507/507 [00:22<00:00, 22.45it/s]\n"
     ]
    },
    {
     "name": "stdout",
     "output_type": "stream",
     "text": [
      "Filtered video saved: filtered_videos\\FaceShifter\\574_547.mp4\n"
     ]
    },
    {
     "name": "stderr",
     "output_type": "stream",
     "text": [
      "Processing 575_603.mp4: 100%|██████████| 557/557 [01:48<00:00,  5.15it/s]\n"
     ]
    },
    {
     "name": "stdout",
     "output_type": "stream",
     "text": [
      "Filtered video saved: filtered_videos\\FaceShifter\\575_603.mp4\n"
     ]
    },
    {
     "name": "stderr",
     "output_type": "stream",
     "text": [
      "Processing 576_155.mp4: 100%|██████████| 461/461 [01:44<00:00,  4.40it/s]\n"
     ]
    },
    {
     "name": "stdout",
     "output_type": "stream",
     "text": [
      "Filtered video saved: filtered_videos\\FaceShifter\\576_155.mp4\n"
     ]
    },
    {
     "name": "stderr",
     "output_type": "stream",
     "text": [
      "Processing 577_593.mp4: 100%|██████████| 344/344 [01:37<00:00,  3.53it/s]\n"
     ]
    },
    {
     "name": "stdout",
     "output_type": "stream",
     "text": [
      "Filtered video saved: filtered_videos\\FaceShifter\\577_593.mp4\n"
     ]
    },
    {
     "name": "stderr",
     "output_type": "stream",
     "text": [
      "Processing 578_636.mp4: 100%|██████████| 564/564 [00:55<00:00, 10.23it/s]\n"
     ]
    },
    {
     "name": "stdout",
     "output_type": "stream",
     "text": [
      "Filtered video saved: filtered_videos\\FaceShifter\\578_636.mp4\n"
     ]
    },
    {
     "name": "stderr",
     "output_type": "stream",
     "text": [
      "Processing 579_701.mp4: 100%|██████████| 476/476 [01:23<00:00,  5.68it/s]\n"
     ]
    },
    {
     "name": "stdout",
     "output_type": "stream",
     "text": [
      "Filtered video saved: filtered_videos\\FaceShifter\\579_701.mp4\n"
     ]
    },
    {
     "name": "stderr",
     "output_type": "stream",
     "text": [
      "Processing 580_524.mp4: 100%|██████████| 292/292 [00:28<00:00, 10.22it/s]\n"
     ]
    },
    {
     "name": "stdout",
     "output_type": "stream",
     "text": [
      "Filtered video saved: filtered_videos\\FaceShifter\\580_524.mp4\n"
     ]
    },
    {
     "name": "stderr",
     "output_type": "stream",
     "text": [
      "Processing 581_697.mp4: 100%|██████████| 382/382 [01:10<00:00,  5.39it/s]\n"
     ]
    },
    {
     "name": "stdout",
     "output_type": "stream",
     "text": [
      "Filtered video saved: filtered_videos\\FaceShifter\\581_697.mp4\n"
     ]
    },
    {
     "name": "stderr",
     "output_type": "stream",
     "text": [
      "Processing 582_172.mp4: 100%|██████████| 431/431 [00:18<00:00, 23.24it/s]\n"
     ]
    },
    {
     "name": "stdout",
     "output_type": "stream",
     "text": [
      "Filtered video saved: filtered_videos\\FaceShifter\\582_172.mp4\n"
     ]
    },
    {
     "name": "stderr",
     "output_type": "stream",
     "text": [
      "Processing 583_558.mp4: 100%|██████████| 475/475 [00:36<00:00, 12.85it/s]\n"
     ]
    },
    {
     "name": "stdout",
     "output_type": "stream",
     "text": [
      "Filtered video saved: filtered_videos\\FaceShifter\\583_558.mp4\n"
     ]
    },
    {
     "name": "stderr",
     "output_type": "stream",
     "text": [
      "Processing 584_823.mp4: 100%|██████████| 475/475 [00:34<00:00, 13.76it/s]\n"
     ]
    },
    {
     "name": "stdout",
     "output_type": "stream",
     "text": [
      "Filtered video saved: filtered_videos\\FaceShifter\\584_823.mp4\n"
     ]
    },
    {
     "name": "stderr",
     "output_type": "stream",
     "text": [
      "Processing 585_599.mp4: 100%|██████████| 359/359 [00:30<00:00, 11.71it/s]\n"
     ]
    },
    {
     "name": "stdout",
     "output_type": "stream",
     "text": [
      "Filtered video saved: filtered_videos\\FaceShifter\\585_599.mp4\n"
     ]
    },
    {
     "name": "stderr",
     "output_type": "stream",
     "text": [
      "Processing 586_223.mp4: 100%|██████████| 379/379 [01:02<00:00,  6.04it/s]\n"
     ]
    },
    {
     "name": "stdout",
     "output_type": "stream",
     "text": [
      "Filtered video saved: filtered_videos\\FaceShifter\\586_223.mp4\n"
     ]
    },
    {
     "name": "stderr",
     "output_type": "stream",
     "text": [
      "Processing 587_535.mp4: 100%|██████████| 626/626 [00:21<00:00, 29.79it/s]\n"
     ]
    },
    {
     "name": "stdout",
     "output_type": "stream",
     "text": [
      "Filtered video saved: filtered_videos\\FaceShifter\\587_535.mp4\n"
     ]
    },
    {
     "name": "stderr",
     "output_type": "stream",
     "text": [
      "Processing 588_556.mp4: 100%|██████████| 544/544 [00:25<00:00, 21.01it/s]\n"
     ]
    },
    {
     "name": "stdout",
     "output_type": "stream",
     "text": [
      "Filtered video saved: filtered_videos\\FaceShifter\\588_556.mp4\n"
     ]
    },
    {
     "name": "stderr",
     "output_type": "stream",
     "text": [
      "Processing 589_565.mp4: 100%|██████████| 686/686 [00:21<00:00, 32.19it/s]\n"
     ]
    },
    {
     "name": "stdout",
     "output_type": "stream",
     "text": [
      "Filtered video saved: filtered_videos\\FaceShifter\\589_565.mp4\n"
     ]
    },
    {
     "name": "stderr",
     "output_type": "stream",
     "text": [
      "Processing 590_034.mp4: 100%|██████████| 600/600 [01:40<00:00,  5.95it/s]\n"
     ]
    },
    {
     "name": "stdout",
     "output_type": "stream",
     "text": [
      "Filtered video saved: filtered_videos\\FaceShifter\\590_034.mp4\n"
     ]
    },
    {
     "name": "stderr",
     "output_type": "stream",
     "text": [
      "Processing 591_605.mp4: 100%|██████████| 541/541 [00:44<00:00, 12.23it/s]\n"
     ]
    },
    {
     "name": "stdout",
     "output_type": "stream",
     "text": [
      "Filtered video saved: filtered_videos\\FaceShifter\\591_605.mp4\n"
     ]
    },
    {
     "name": "stderr",
     "output_type": "stream",
     "text": [
      "Processing 592_500.mp4: 100%|██████████| 383/383 [00:16<00:00, 23.28it/s]\n"
     ]
    },
    {
     "name": "stdout",
     "output_type": "stream",
     "text": [
      "Filtered video saved: filtered_videos\\FaceShifter\\592_500.mp4\n"
     ]
    },
    {
     "name": "stderr",
     "output_type": "stream",
     "text": [
      "Processing 593_577.mp4: 100%|██████████| 535/535 [01:42<00:00,  5.23it/s]\n"
     ]
    },
    {
     "name": "stdout",
     "output_type": "stream",
     "text": [
      "Filtered video saved: filtered_videos\\FaceShifter\\593_577.mp4\n"
     ]
    },
    {
     "name": "stderr",
     "output_type": "stream",
     "text": [
      "Processing 594_530.mp4: 100%|██████████| 294/294 [00:24<00:00, 12.22it/s]\n"
     ]
    },
    {
     "name": "stdout",
     "output_type": "stream",
     "text": [
      "Filtered video saved: filtered_videos\\FaceShifter\\594_530.mp4\n"
     ]
    },
    {
     "name": "stderr",
     "output_type": "stream",
     "text": [
      "Processing 595_597.mp4: 100%|██████████| 565/565 [00:48<00:00, 11.77it/s]\n"
     ]
    },
    {
     "name": "stdout",
     "output_type": "stream",
     "text": [
      "Filtered video saved: filtered_videos\\FaceShifter\\595_597.mp4\n"
     ]
    },
    {
     "name": "stderr",
     "output_type": "stream",
     "text": [
      "Processing 596_609.mp4: 100%|██████████| 557/557 [00:17<00:00, 30.96it/s]\n"
     ]
    },
    {
     "name": "stdout",
     "output_type": "stream",
     "text": [
      "Filtered video saved: filtered_videos\\FaceShifter\\596_609.mp4\n"
     ]
    },
    {
     "name": "stderr",
     "output_type": "stream",
     "text": [
      "Processing 597_595.mp4: 100%|██████████| 297/297 [00:11<00:00, 26.68it/s]\n"
     ]
    },
    {
     "name": "stdout",
     "output_type": "stream",
     "text": [
      "Filtered video saved: filtered_videos\\FaceShifter\\597_595.mp4\n"
     ]
    },
    {
     "name": "stderr",
     "output_type": "stream",
     "text": [
      "Processing 598_178.mp4: 100%|██████████| 686/686 [00:22<00:00, 29.88it/s]\n"
     ]
    },
    {
     "name": "stdout",
     "output_type": "stream",
     "text": [
      "Filtered video saved: filtered_videos\\FaceShifter\\598_178.mp4\n"
     ]
    },
    {
     "name": "stderr",
     "output_type": "stream",
     "text": [
      "Processing 599_585.mp4: 100%|██████████| 398/398 [00:35<00:00, 11.06it/s]\n"
     ]
    },
    {
     "name": "stdout",
     "output_type": "stream",
     "text": [
      "Filtered video saved: filtered_videos\\FaceShifter\\599_585.mp4\n"
     ]
    },
    {
     "name": "stderr",
     "output_type": "stream",
     "text": [
      "Processing 600_505.mp4: 100%|██████████| 388/388 [00:15<00:00, 24.33it/s]\n"
     ]
    },
    {
     "name": "stdout",
     "output_type": "stream",
     "text": [
      "Filtered video saved: filtered_videos\\FaceShifter\\600_505.mp4\n"
     ]
    },
    {
     "name": "stderr",
     "output_type": "stream",
     "text": [
      "Processing 601_653.mp4: 100%|██████████| 364/364 [00:17<00:00, 20.49it/s]\n"
     ]
    },
    {
     "name": "stdout",
     "output_type": "stream",
     "text": [
      "Filtered video saved: filtered_videos\\FaceShifter\\601_653.mp4\n"
     ]
    },
    {
     "name": "stderr",
     "output_type": "stream",
     "text": [
      "Processing 602_397.mp4: 100%|██████████| 667/667 [02:08<00:00,  5.20it/s]\n"
     ]
    },
    {
     "name": "stdout",
     "output_type": "stream",
     "text": [
      "Filtered video saved: filtered_videos\\FaceShifter\\602_397.mp4\n"
     ]
    },
    {
     "name": "stderr",
     "output_type": "stream",
     "text": [
      "Processing 603_575.mp4: 100%|██████████| 296/296 [00:25<00:00, 11.83it/s]\n"
     ]
    },
    {
     "name": "stdout",
     "output_type": "stream",
     "text": [
      "Filtered video saved: filtered_videos\\FaceShifter\\603_575.mp4\n"
     ]
    },
    {
     "name": "stderr",
     "output_type": "stream",
     "text": [
      "Processing 604_703.mp4: 100%|██████████| 825/825 [01:12<00:00, 11.41it/s]\n"
     ]
    },
    {
     "name": "stdout",
     "output_type": "stream",
     "text": [
      "Filtered video saved: filtered_videos\\FaceShifter\\604_703.mp4\n"
     ]
    },
    {
     "name": "stderr",
     "output_type": "stream",
     "text": [
      "Processing 605_591.mp4: 100%|██████████| 664/664 [00:32<00:00, 20.48it/s]\n"
     ]
    },
    {
     "name": "stdout",
     "output_type": "stream",
     "text": [
      "Filtered video saved: filtered_videos\\FaceShifter\\605_591.mp4\n"
     ]
    },
    {
     "name": "stderr",
     "output_type": "stream",
     "text": [
      "Processing 606_567.mp4: 100%|██████████| 387/387 [00:17<00:00, 22.59it/s]\n"
     ]
    },
    {
     "name": "stdout",
     "output_type": "stream",
     "text": [
      "Filtered video saved: filtered_videos\\FaceShifter\\606_567.mp4\n"
     ]
    },
    {
     "name": "stderr",
     "output_type": "stream",
     "text": [
      "Processing 607_683.mp4: 100%|██████████| 454/454 [01:22<00:00,  5.51it/s]\n"
     ]
    },
    {
     "name": "stdout",
     "output_type": "stream",
     "text": [
      "Filtered video saved: filtered_videos\\FaceShifter\\607_683.mp4\n"
     ]
    },
    {
     "name": "stderr",
     "output_type": "stream",
     "text": [
      "Processing 608_675.mp4: 100%|██████████| 1205/1205 [00:38<00:00, 31.50it/s]\n"
     ]
    },
    {
     "name": "stdout",
     "output_type": "stream",
     "text": [
      "Filtered video saved: filtered_videos\\FaceShifter\\608_675.mp4\n"
     ]
    },
    {
     "name": "stderr",
     "output_type": "stream",
     "text": [
      "Processing 609_596.mp4: 100%|██████████| 489/489 [00:15<00:00, 30.89it/s]\n"
     ]
    },
    {
     "name": "stdout",
     "output_type": "stream",
     "text": [
      "Filtered video saved: filtered_videos\\FaceShifter\\609_596.mp4\n"
     ]
    },
    {
     "name": "stderr",
     "output_type": "stream",
     "text": [
      "Processing 610_692.mp4: 100%|██████████| 394/394 [00:34<00:00, 11.50it/s]\n"
     ]
    },
    {
     "name": "stdout",
     "output_type": "stream",
     "text": [
      "Filtered video saved: filtered_videos\\FaceShifter\\610_692.mp4\n"
     ]
    },
    {
     "name": "stderr",
     "output_type": "stream",
     "text": [
      "Processing 611_760.mp4: 100%|██████████| 645/645 [00:24<00:00, 26.30it/s]\n"
     ]
    },
    {
     "name": "stdout",
     "output_type": "stream",
     "text": [
      "Filtered video saved: filtered_videos\\FaceShifter\\611_760.mp4\n"
     ]
    },
    {
     "name": "stderr",
     "output_type": "stream",
     "text": [
      "Processing 612_702.mp4: 100%|██████████| 420/420 [00:37<00:00, 11.10it/s]\n"
     ]
    },
    {
     "name": "stdout",
     "output_type": "stream",
     "text": [
      "Filtered video saved: filtered_videos\\FaceShifter\\612_702.mp4\n"
     ]
    },
    {
     "name": "stderr",
     "output_type": "stream",
     "text": [
      "Processing 613_685.mp4: 100%|██████████| 415/415 [00:33<00:00, 12.46it/s]\n"
     ]
    },
    {
     "name": "stdout",
     "output_type": "stream",
     "text": [
      "Filtered video saved: filtered_videos\\FaceShifter\\613_685.mp4\n"
     ]
    },
    {
     "name": "stderr",
     "output_type": "stream",
     "text": [
      "Processing 614_616.mp4: 100%|██████████| 507/507 [00:42<00:00, 11.95it/s]\n"
     ]
    },
    {
     "name": "stdout",
     "output_type": "stream",
     "text": [
      "Filtered video saved: filtered_videos\\FaceShifter\\614_616.mp4\n"
     ]
    },
    {
     "name": "stderr",
     "output_type": "stream",
     "text": [
      "Processing 615_687.mp4: 100%|██████████| 452/452 [00:39<00:00, 11.45it/s]\n"
     ]
    },
    {
     "name": "stdout",
     "output_type": "stream",
     "text": [
      "Filtered video saved: filtered_videos\\FaceShifter\\615_687.mp4\n"
     ]
    },
    {
     "name": "stderr",
     "output_type": "stream",
     "text": [
      "Processing 616_614.mp4: 100%|██████████| 663/663 [00:24<00:00, 26.88it/s]\n"
     ]
    },
    {
     "name": "stdout",
     "output_type": "stream",
     "text": [
      "Filtered video saved: filtered_videos\\FaceShifter\\616_614.mp4\n"
     ]
    },
    {
     "name": "stderr",
     "output_type": "stream",
     "text": [
      "Processing 617_566.mp4: 100%|██████████| 312/312 [00:13<00:00, 22.58it/s]\n"
     ]
    },
    {
     "name": "stdout",
     "output_type": "stream",
     "text": [
      "Filtered video saved: filtered_videos\\FaceShifter\\617_566.mp4\n"
     ]
    },
    {
     "name": "stderr",
     "output_type": "stream",
     "text": [
      "Processing 618_629.mp4: 100%|██████████| 382/382 [00:30<00:00, 12.45it/s]\n"
     ]
    },
    {
     "name": "stdout",
     "output_type": "stream",
     "text": [
      "Filtered video saved: filtered_videos\\FaceShifter\\618_629.mp4\n"
     ]
    },
    {
     "name": "stderr",
     "output_type": "stream",
     "text": [
      "Processing 619_620.mp4: 100%|██████████| 305/305 [00:31<00:00,  9.78it/s]\n"
     ]
    },
    {
     "name": "stdout",
     "output_type": "stream",
     "text": [
      "Filtered video saved: filtered_videos\\FaceShifter\\619_620.mp4\n"
     ]
    },
    {
     "name": "stderr",
     "output_type": "stream",
     "text": [
      "Processing 620_619.mp4: 100%|██████████| 628/628 [01:56<00:00,  5.38it/s]\n"
     ]
    },
    {
     "name": "stdout",
     "output_type": "stream",
     "text": [
      "Filtered video saved: filtered_videos\\FaceShifter\\620_619.mp4\n"
     ]
    },
    {
     "name": "stderr",
     "output_type": "stream",
     "text": [
      "Processing 621_546.mp4: 100%|██████████| 370/370 [00:32<00:00, 11.54it/s]\n"
     ]
    },
    {
     "name": "stdout",
     "output_type": "stream",
     "text": [
      "Filtered video saved: filtered_videos\\FaceShifter\\621_546.mp4\n"
     ]
    },
    {
     "name": "stderr",
     "output_type": "stream",
     "text": [
      "Processing 622_647.mp4: 100%|██████████| 371/371 [00:32<00:00, 11.54it/s]\n"
     ]
    },
    {
     "name": "stdout",
     "output_type": "stream",
     "text": [
      "Filtered video saved: filtered_videos\\FaceShifter\\622_647.mp4\n"
     ]
    },
    {
     "name": "stderr",
     "output_type": "stream",
     "text": [
      "Processing 623_630.mp4: 100%|██████████| 352/352 [00:12<00:00, 27.77it/s]\n"
     ]
    },
    {
     "name": "stdout",
     "output_type": "stream",
     "text": [
      "Filtered video saved: filtered_videos\\FaceShifter\\623_630.mp4\n"
     ]
    },
    {
     "name": "stderr",
     "output_type": "stream",
     "text": [
      "Processing 624_570.mp4: 100%|██████████| 350/350 [00:14<00:00, 23.93it/s]\n"
     ]
    },
    {
     "name": "stdout",
     "output_type": "stream",
     "text": [
      "Filtered video saved: filtered_videos\\FaceShifter\\624_570.mp4\n"
     ]
    },
    {
     "name": "stderr",
     "output_type": "stream",
     "text": [
      "Processing 625_650.mp4: 100%|██████████| 332/332 [00:11<00:00, 28.58it/s]\n"
     ]
    },
    {
     "name": "stdout",
     "output_type": "stream",
     "text": [
      "Filtered video saved: filtered_videos\\FaceShifter\\625_650.mp4\n"
     ]
    },
    {
     "name": "stderr",
     "output_type": "stream",
     "text": [
      "Processing 626_562.mp4: 100%|██████████| 975/975 [00:44<00:00, 21.80it/s]\n"
     ]
    },
    {
     "name": "stdout",
     "output_type": "stream",
     "text": [
      "Filtered video saved: filtered_videos\\FaceShifter\\626_562.mp4\n"
     ]
    },
    {
     "name": "stderr",
     "output_type": "stream",
     "text": [
      "Processing 627_658.mp4: 100%|██████████| 374/374 [00:14<00:00, 25.95it/s]\n"
     ]
    },
    {
     "name": "stdout",
     "output_type": "stream",
     "text": [
      "Filtered video saved: filtered_videos\\FaceShifter\\627_658.mp4\n"
     ]
    },
    {
     "name": "stderr",
     "output_type": "stream",
     "text": [
      "Processing 628_568.mp4: 100%|██████████| 895/895 [00:31<00:00, 28.01it/s]\n"
     ]
    },
    {
     "name": "stdout",
     "output_type": "stream",
     "text": [
      "Filtered video saved: filtered_videos\\FaceShifter\\628_568.mp4\n"
     ]
    },
    {
     "name": "stderr",
     "output_type": "stream",
     "text": [
      "Processing 629_618.mp4: 100%|██████████| 990/990 [01:23<00:00, 11.83it/s]\n"
     ]
    },
    {
     "name": "stdout",
     "output_type": "stream",
     "text": [
      "Filtered video saved: filtered_videos\\FaceShifter\\629_618.mp4\n"
     ]
    },
    {
     "name": "stderr",
     "output_type": "stream",
     "text": [
      "Processing 630_623.mp4: 100%|██████████| 423/423 [00:15<00:00, 26.93it/s]\n"
     ]
    },
    {
     "name": "stdout",
     "output_type": "stream",
     "text": [
      "Filtered video saved: filtered_videos\\FaceShifter\\630_623.mp4\n"
     ]
    },
    {
     "name": "stderr",
     "output_type": "stream",
     "text": [
      "Processing 631_551.mp4: 100%|██████████| 424/424 [00:15<00:00, 27.00it/s]\n"
     ]
    },
    {
     "name": "stdout",
     "output_type": "stream",
     "text": [
      "Filtered video saved: filtered_videos\\FaceShifter\\631_551.mp4\n"
     ]
    },
    {
     "name": "stderr",
     "output_type": "stream",
     "text": [
      "Processing 632_548.mp4: 100%|██████████| 427/427 [01:32<00:00,  4.64it/s]\n"
     ]
    },
    {
     "name": "stdout",
     "output_type": "stream",
     "text": [
      "Filtered video saved: filtered_videos\\FaceShifter\\632_548.mp4\n"
     ]
    },
    {
     "name": "stderr",
     "output_type": "stream",
     "text": [
      "Processing 633_529.mp4: 100%|██████████| 512/512 [01:00<00:00,  8.47it/s]\n"
     ]
    },
    {
     "name": "stdout",
     "output_type": "stream",
     "text": [
      "Filtered video saved: filtered_videos\\FaceShifter\\633_529.mp4\n"
     ]
    },
    {
     "name": "stderr",
     "output_type": "stream",
     "text": [
      "Processing 634_660.mp4: 100%|██████████| 338/338 [00:41<00:00,  8.21it/s]\n"
     ]
    },
    {
     "name": "stdout",
     "output_type": "stream",
     "text": [
      "Filtered video saved: filtered_videos\\FaceShifter\\634_660.mp4\n"
     ]
    },
    {
     "name": "stderr",
     "output_type": "stream",
     "text": [
      "Processing 635_642.mp4: 100%|██████████| 764/764 [00:42<00:00, 17.98it/s]\n"
     ]
    },
    {
     "name": "stdout",
     "output_type": "stream",
     "text": [
      "Filtered video saved: filtered_videos\\FaceShifter\\635_642.mp4\n"
     ]
    },
    {
     "name": "stderr",
     "output_type": "stream",
     "text": [
      "Processing 636_578.mp4: 100%|██████████| 335/335 [00:13<00:00, 25.63it/s]\n"
     ]
    },
    {
     "name": "stdout",
     "output_type": "stream",
     "text": [
      "Filtered video saved: filtered_videos\\FaceShifter\\636_578.mp4\n"
     ]
    },
    {
     "name": "stderr",
     "output_type": "stream",
     "text": [
      "Processing 637_427.mp4: 100%|██████████| 510/510 [00:53<00:00,  9.61it/s]\n"
     ]
    },
    {
     "name": "stdout",
     "output_type": "stream",
     "text": [
      "Filtered video saved: filtered_videos\\FaceShifter\\637_427.mp4\n"
     ]
    },
    {
     "name": "stderr",
     "output_type": "stream",
     "text": [
      "Processing 638_640.mp4: 100%|██████████| 698/698 [01:13<00:00,  9.52it/s]\n"
     ]
    },
    {
     "name": "stdout",
     "output_type": "stream",
     "text": [
      "Filtered video saved: filtered_videos\\FaceShifter\\638_640.mp4\n"
     ]
    },
    {
     "name": "stderr",
     "output_type": "stream",
     "text": [
      "Processing 639_841.mp4: 100%|██████████| 662/662 [01:05<00:00, 10.08it/s]\n"
     ]
    },
    {
     "name": "stdout",
     "output_type": "stream",
     "text": [
      "Filtered video saved: filtered_videos\\FaceShifter\\639_841.mp4\n"
     ]
    },
    {
     "name": "stderr",
     "output_type": "stream",
     "text": [
      "Processing 640_638.mp4: 100%|██████████| 306/306 [00:33<00:00,  9.15it/s]\n"
     ]
    },
    {
     "name": "stdout",
     "output_type": "stream",
     "text": [
      "Filtered video saved: filtered_videos\\FaceShifter\\640_638.mp4\n"
     ]
    },
    {
     "name": "stderr",
     "output_type": "stream",
     "text": [
      "Processing 641_662.mp4: 100%|██████████| 350/350 [00:38<00:00,  9.11it/s]\n"
     ]
    },
    {
     "name": "stdout",
     "output_type": "stream",
     "text": [
      "Filtered video saved: filtered_videos\\FaceShifter\\641_662.mp4\n"
     ]
    },
    {
     "name": "stderr",
     "output_type": "stream",
     "text": [
      "Processing 642_635.mp4: 100%|██████████| 573/573 [00:25<00:00, 22.15it/s]\n"
     ]
    },
    {
     "name": "stdout",
     "output_type": "stream",
     "text": [
      "Filtered video saved: filtered_videos\\FaceShifter\\642_635.mp4\n"
     ]
    },
    {
     "name": "stderr",
     "output_type": "stream",
     "text": [
      "Processing 643_646.mp4: 100%|██████████| 364/364 [00:40<00:00,  8.92it/s]\n"
     ]
    },
    {
     "name": "stdout",
     "output_type": "stream",
     "text": [
      "Filtered video saved: filtered_videos\\FaceShifter\\643_646.mp4\n"
     ]
    },
    {
     "name": "stderr",
     "output_type": "stream",
     "text": [
      "Processing 644_657.mp4: 100%|██████████| 413/413 [00:24<00:00, 17.12it/s]\n"
     ]
    },
    {
     "name": "stdout",
     "output_type": "stream",
     "text": [
      "Filtered video saved: filtered_videos\\FaceShifter\\644_657.mp4\n"
     ]
    },
    {
     "name": "stderr",
     "output_type": "stream",
     "text": [
      "Processing 645_688.mp4: 100%|██████████| 554/554 [02:04<00:00,  4.44it/s]\n"
     ]
    },
    {
     "name": "stdout",
     "output_type": "stream",
     "text": [
      "Filtered video saved: filtered_videos\\FaceShifter\\645_688.mp4\n"
     ]
    },
    {
     "name": "stderr",
     "output_type": "stream",
     "text": [
      "Processing 646_643.mp4: 100%|██████████| 440/440 [00:17<00:00, 25.12it/s]\n"
     ]
    },
    {
     "name": "stdout",
     "output_type": "stream",
     "text": [
      "Filtered video saved: filtered_videos\\FaceShifter\\646_643.mp4\n"
     ]
    },
    {
     "name": "stderr",
     "output_type": "stream",
     "text": [
      "Processing 647_622.mp4: 100%|██████████| 699/699 [02:40<00:00,  4.36it/s]\n"
     ]
    },
    {
     "name": "stdout",
     "output_type": "stream",
     "text": [
      "Filtered video saved: filtered_videos\\FaceShifter\\647_622.mp4\n"
     ]
    },
    {
     "name": "stderr",
     "output_type": "stream",
     "text": [
      "Processing 648_654.mp4: 100%|██████████| 471/471 [00:53<00:00,  8.75it/s]\n"
     ]
    },
    {
     "name": "stdout",
     "output_type": "stream",
     "text": [
      "Filtered video saved: filtered_videos\\FaceShifter\\648_654.mp4\n"
     ]
    },
    {
     "name": "stderr",
     "output_type": "stream",
     "text": [
      "Processing 649_816.mp4: 100%|██████████| 930/930 [01:33<00:00,  9.93it/s]\n"
     ]
    },
    {
     "name": "stdout",
     "output_type": "stream",
     "text": [
      "Filtered video saved: filtered_videos\\FaceShifter\\649_816.mp4\n"
     ]
    },
    {
     "name": "stderr",
     "output_type": "stream",
     "text": [
      "Processing 650_625.mp4: 100%|██████████| 693/693 [00:30<00:00, 22.45it/s]\n"
     ]
    },
    {
     "name": "stdout",
     "output_type": "stream",
     "text": [
      "Filtered video saved: filtered_videos\\FaceShifter\\650_625.mp4\n"
     ]
    },
    {
     "name": "stderr",
     "output_type": "stream",
     "text": [
      "Processing 651_835.mp4: 100%|██████████| 380/380 [00:40<00:00,  9.42it/s]\n"
     ]
    },
    {
     "name": "stdout",
     "output_type": "stream",
     "text": [
      "Filtered video saved: filtered_videos\\FaceShifter\\651_835.mp4\n"
     ]
    },
    {
     "name": "stderr",
     "output_type": "stream",
     "text": [
      "Processing 652_773.mp4: 100%|██████████| 456/456 [00:47<00:00,  9.62it/s]\n"
     ]
    },
    {
     "name": "stdout",
     "output_type": "stream",
     "text": [
      "Filtered video saved: filtered_videos\\FaceShifter\\652_773.mp4\n"
     ]
    },
    {
     "name": "stderr",
     "output_type": "stream",
     "text": [
      "Processing 653_601.mp4: 100%|██████████| 731/731 [00:34<00:00, 21.15it/s]\n"
     ]
    },
    {
     "name": "stdout",
     "output_type": "stream",
     "text": [
      "Filtered video saved: filtered_videos\\FaceShifter\\653_601.mp4\n"
     ]
    },
    {
     "name": "stderr",
     "output_type": "stream",
     "text": [
      "Processing 654_648.mp4: 100%|██████████| 410/410 [00:14<00:00, 27.42it/s]\n"
     ]
    },
    {
     "name": "stdout",
     "output_type": "stream",
     "text": [
      "Filtered video saved: filtered_videos\\FaceShifter\\654_648.mp4\n"
     ]
    },
    {
     "name": "stderr",
     "output_type": "stream",
     "text": [
      "Processing 655_444.mp4: 100%|██████████| 678/678 [00:26<00:00, 25.84it/s]\n"
     ]
    },
    {
     "name": "stdout",
     "output_type": "stream",
     "text": [
      "Filtered video saved: filtered_videos\\FaceShifter\\655_444.mp4\n"
     ]
    },
    {
     "name": "stderr",
     "output_type": "stream",
     "text": [
      "Processing 656_666.mp4: 100%|██████████| 505/505 [00:19<00:00, 26.45it/s]\n"
     ]
    },
    {
     "name": "stdout",
     "output_type": "stream",
     "text": [
      "Filtered video saved: filtered_videos\\FaceShifter\\656_666.mp4\n"
     ]
    },
    {
     "name": "stderr",
     "output_type": "stream",
     "text": [
      "Processing 657_644.mp4: 100%|██████████| 546/546 [00:24<00:00, 22.16it/s]\n"
     ]
    },
    {
     "name": "stdout",
     "output_type": "stream",
     "text": [
      "Filtered video saved: filtered_videos\\FaceShifter\\657_644.mp4\n"
     ]
    },
    {
     "name": "stderr",
     "output_type": "stream",
     "text": [
      "Processing 658_627.mp4: 100%|██████████| 404/404 [00:16<00:00, 23.77it/s]\n"
     ]
    },
    {
     "name": "stdout",
     "output_type": "stream",
     "text": [
      "Filtered video saved: filtered_videos\\FaceShifter\\658_627.mp4\n"
     ]
    },
    {
     "name": "stderr",
     "output_type": "stream",
     "text": [
      "Processing 659_749.mp4: 100%|██████████| 1001/1001 [00:38<00:00, 25.82it/s]\n"
     ]
    },
    {
     "name": "stdout",
     "output_type": "stream",
     "text": [
      "Filtered video saved: filtered_videos\\FaceShifter\\659_749.mp4\n"
     ]
    },
    {
     "name": "stderr",
     "output_type": "stream",
     "text": [
      "Processing 660_634.mp4: 100%|██████████| 340/340 [00:38<00:00,  8.94it/s]\n"
     ]
    },
    {
     "name": "stdout",
     "output_type": "stream",
     "text": [
      "Filtered video saved: filtered_videos\\FaceShifter\\660_634.mp4\n"
     ]
    },
    {
     "name": "stderr",
     "output_type": "stream",
     "text": [
      "Processing 661_670.mp4: 100%|██████████| 513/513 [00:55<00:00,  9.26it/s]\n"
     ]
    },
    {
     "name": "stdout",
     "output_type": "stream",
     "text": [
      "Filtered video saved: filtered_videos\\FaceShifter\\661_670.mp4\n"
     ]
    },
    {
     "name": "stderr",
     "output_type": "stream",
     "text": [
      "Processing 662_641.mp4: 100%|██████████| 496/496 [00:50<00:00,  9.74it/s]\n"
     ]
    },
    {
     "name": "stdout",
     "output_type": "stream",
     "text": [
      "Filtered video saved: filtered_videos\\FaceShifter\\662_641.mp4\n"
     ]
    },
    {
     "name": "stderr",
     "output_type": "stream",
     "text": [
      "Processing 663_231.mp4: 100%|██████████| 316/316 [00:12<00:00, 26.21it/s]\n"
     ]
    },
    {
     "name": "stdout",
     "output_type": "stream",
     "text": [
      "Filtered video saved: filtered_videos\\FaceShifter\\663_231.mp4\n"
     ]
    },
    {
     "name": "stderr",
     "output_type": "stream",
     "text": [
      "Processing 664_668.mp4: 100%|██████████| 293/293 [00:29<00:00,  9.86it/s]\n"
     ]
    },
    {
     "name": "stdout",
     "output_type": "stream",
     "text": [
      "Filtered video saved: filtered_videos\\FaceShifter\\664_668.mp4\n"
     ]
    },
    {
     "name": "stderr",
     "output_type": "stream",
     "text": [
      "Processing 665_679.mp4: 100%|██████████| 324/324 [00:12<00:00, 26.11it/s]\n"
     ]
    },
    {
     "name": "stdout",
     "output_type": "stream",
     "text": [
      "Filtered video saved: filtered_videos\\FaceShifter\\665_679.mp4\n"
     ]
    },
    {
     "name": "stderr",
     "output_type": "stream",
     "text": [
      "Processing 666_656.mp4: 100%|██████████| 383/383 [00:14<00:00, 27.29it/s]\n"
     ]
    },
    {
     "name": "stdout",
     "output_type": "stream",
     "text": [
      "Filtered video saved: filtered_videos\\FaceShifter\\666_656.mp4\n"
     ]
    },
    {
     "name": "stderr",
     "output_type": "stream",
     "text": [
      "Processing 667_446.mp4: 100%|██████████| 469/469 [01:48<00:00,  4.30it/s]\n"
     ]
    },
    {
     "name": "stdout",
     "output_type": "stream",
     "text": [
      "Filtered video saved: filtered_videos\\FaceShifter\\667_446.mp4\n"
     ]
    },
    {
     "name": "stderr",
     "output_type": "stream",
     "text": [
      "Processing 668_664.mp4: 100%|██████████| 398/398 [00:19<00:00, 20.91it/s]\n"
     ]
    },
    {
     "name": "stdout",
     "output_type": "stream",
     "text": [
      "Filtered video saved: filtered_videos\\FaceShifter\\668_664.mp4\n"
     ]
    },
    {
     "name": "stderr",
     "output_type": "stream",
     "text": [
      "Processing 669_682.mp4: 100%|██████████| 489/489 [00:17<00:00, 27.28it/s]\n"
     ]
    },
    {
     "name": "stdout",
     "output_type": "stream",
     "text": [
      "Filtered video saved: filtered_videos\\FaceShifter\\669_682.mp4\n"
     ]
    },
    {
     "name": "stderr",
     "output_type": "stream",
     "text": [
      "Processing 670_661.mp4: 100%|██████████| 481/481 [00:17<00:00, 27.16it/s]\n"
     ]
    },
    {
     "name": "stdout",
     "output_type": "stream",
     "text": [
      "Filtered video saved: filtered_videos\\FaceShifter\\670_661.mp4\n"
     ]
    },
    {
     "name": "stderr",
     "output_type": "stream",
     "text": [
      "Processing 671_677.mp4: 100%|██████████| 343/343 [00:37<00:00,  9.22it/s]\n"
     ]
    },
    {
     "name": "stdout",
     "output_type": "stream",
     "text": [
      "Filtered video saved: filtered_videos\\FaceShifter\\671_677.mp4\n"
     ]
    },
    {
     "name": "stderr",
     "output_type": "stream",
     "text": [
      "Processing 672_720.mp4: 100%|██████████| 541/541 [00:52<00:00, 10.26it/s]\n"
     ]
    },
    {
     "name": "stdout",
     "output_type": "stream",
     "text": [
      "Filtered video saved: filtered_videos\\FaceShifter\\672_720.mp4\n"
     ]
    },
    {
     "name": "stderr",
     "output_type": "stream",
     "text": [
      "Processing 673_728.mp4: 100%|██████████| 592/592 [00:22<00:00, 26.56it/s]\n"
     ]
    },
    {
     "name": "stdout",
     "output_type": "stream",
     "text": [
      "Filtered video saved: filtered_videos\\FaceShifter\\673_728.mp4\n"
     ]
    },
    {
     "name": "stderr",
     "output_type": "stream",
     "text": [
      "Processing 674_744.mp4: 100%|██████████| 367/367 [00:14<00:00, 25.68it/s]\n"
     ]
    },
    {
     "name": "stdout",
     "output_type": "stream",
     "text": [
      "Filtered video saved: filtered_videos\\FaceShifter\\674_744.mp4\n"
     ]
    },
    {
     "name": "stderr",
     "output_type": "stream",
     "text": [
      "Processing 675_608.mp4: 100%|██████████| 421/421 [00:15<00:00, 26.95it/s]\n"
     ]
    },
    {
     "name": "stdout",
     "output_type": "stream",
     "text": [
      "Filtered video saved: filtered_videos\\FaceShifter\\675_608.mp4\n"
     ]
    },
    {
     "name": "stderr",
     "output_type": "stream",
     "text": [
      "Processing 676_776.mp4: 100%|██████████| 515/515 [00:51<00:00, 10.06it/s]\n"
     ]
    },
    {
     "name": "stdout",
     "output_type": "stream",
     "text": [
      "Filtered video saved: filtered_videos\\FaceShifter\\676_776.mp4\n"
     ]
    },
    {
     "name": "stderr",
     "output_type": "stream",
     "text": [
      "Processing 677_671.mp4: 100%|██████████| 314/314 [00:29<00:00, 10.70it/s]\n"
     ]
    },
    {
     "name": "stdout",
     "output_type": "stream",
     "text": [
      "Filtered video saved: filtered_videos\\FaceShifter\\677_671.mp4\n"
     ]
    },
    {
     "name": "stderr",
     "output_type": "stream",
     "text": [
      "Processing 678_460.mp4: 100%|██████████| 400/400 [01:31<00:00,  4.36it/s]\n"
     ]
    },
    {
     "name": "stdout",
     "output_type": "stream",
     "text": [
      "Filtered video saved: filtered_videos\\FaceShifter\\678_460.mp4\n"
     ]
    },
    {
     "name": "stderr",
     "output_type": "stream",
     "text": [
      "Processing 679_665.mp4: 100%|██████████| 416/416 [00:20<00:00, 20.49it/s]\n"
     ]
    },
    {
     "name": "stdout",
     "output_type": "stream",
     "text": [
      "Filtered video saved: filtered_videos\\FaceShifter\\679_665.mp4\n"
     ]
    },
    {
     "name": "stderr",
     "output_type": "stream",
     "text": [
      "Processing 680_486.mp4: 100%|██████████| 300/300 [00:13<00:00, 22.60it/s]\n"
     ]
    },
    {
     "name": "stdout",
     "output_type": "stream",
     "text": [
      "Filtered video saved: filtered_videos\\FaceShifter\\680_486.mp4\n"
     ]
    },
    {
     "name": "stderr",
     "output_type": "stream",
     "text": [
      "Processing 681_711.mp4: 100%|██████████| 840/840 [01:38<00:00,  8.54it/s]\n"
     ]
    },
    {
     "name": "stdout",
     "output_type": "stream",
     "text": [
      "Filtered video saved: filtered_videos\\FaceShifter\\681_711.mp4\n"
     ]
    },
    {
     "name": "stderr",
     "output_type": "stream",
     "text": [
      "Processing 682_669.mp4: 100%|██████████| 965/965 [00:38<00:00, 25.05it/s]\n"
     ]
    },
    {
     "name": "stdout",
     "output_type": "stream",
     "text": [
      "Filtered video saved: filtered_videos\\FaceShifter\\682_669.mp4\n"
     ]
    },
    {
     "name": "stderr",
     "output_type": "stream",
     "text": [
      "Processing 683_607.mp4: 100%|██████████| 302/302 [01:05<00:00,  4.64it/s]\n"
     ]
    },
    {
     "name": "stdout",
     "output_type": "stream",
     "text": [
      "Filtered video saved: filtered_videos\\FaceShifter\\683_607.mp4\n"
     ]
    },
    {
     "name": "stderr",
     "output_type": "stream",
     "text": [
      "Processing 684_717.mp4: 100%|██████████| 497/497 [01:48<00:00,  4.57it/s]\n"
     ]
    },
    {
     "name": "stdout",
     "output_type": "stream",
     "text": [
      "Filtered video saved: filtered_videos\\FaceShifter\\684_717.mp4\n"
     ]
    },
    {
     "name": "stderr",
     "output_type": "stream",
     "text": [
      "Processing 685_613.mp4: 100%|██████████| 522/522 [00:53<00:00,  9.74it/s]\n"
     ]
    },
    {
     "name": "stdout",
     "output_type": "stream",
     "text": [
      "Filtered video saved: filtered_videos\\FaceShifter\\685_613.mp4\n"
     ]
    },
    {
     "name": "stderr",
     "output_type": "stream",
     "text": [
      "Processing 686_696.mp4: 100%|██████████| 342/342 [00:37<00:00,  9.21it/s]\n"
     ]
    },
    {
     "name": "stdout",
     "output_type": "stream",
     "text": [
      "Filtered video saved: filtered_videos\\FaceShifter\\686_696.mp4\n"
     ]
    },
    {
     "name": "stderr",
     "output_type": "stream",
     "text": [
      "Processing 687_615.mp4: 100%|██████████| 469/469 [00:49<00:00,  9.46it/s]\n"
     ]
    },
    {
     "name": "stdout",
     "output_type": "stream",
     "text": [
      "Filtered video saved: filtered_videos\\FaceShifter\\687_615.mp4\n"
     ]
    },
    {
     "name": "stderr",
     "output_type": "stream",
     "text": [
      "Processing 688_645.mp4: 100%|██████████| 571/571 [01:00<00:00,  9.42it/s]\n"
     ]
    },
    {
     "name": "stdout",
     "output_type": "stream",
     "text": [
      "Filtered video saved: filtered_videos\\FaceShifter\\688_645.mp4\n"
     ]
    },
    {
     "name": "stderr",
     "output_type": "stream",
     "text": [
      "Processing 689_690.mp4: 100%|██████████| 455/455 [00:18<00:00, 25.22it/s]\n"
     ]
    },
    {
     "name": "stdout",
     "output_type": "stream",
     "text": [
      "Filtered video saved: filtered_videos\\FaceShifter\\689_690.mp4\n"
     ]
    },
    {
     "name": "stderr",
     "output_type": "stream",
     "text": [
      "Processing 690_689.mp4: 100%|██████████| 331/331 [00:17<00:00, 18.68it/s]\n"
     ]
    },
    {
     "name": "stdout",
     "output_type": "stream",
     "text": [
      "Filtered video saved: filtered_videos\\FaceShifter\\690_689.mp4\n"
     ]
    },
    {
     "name": "stderr",
     "output_type": "stream",
     "text": [
      "Processing 691_732.mp4: 100%|██████████| 540/540 [00:53<00:00, 10.05it/s]\n"
     ]
    },
    {
     "name": "stdout",
     "output_type": "stream",
     "text": [
      "Filtered video saved: filtered_videos\\FaceShifter\\691_732.mp4\n"
     ]
    },
    {
     "name": "stderr",
     "output_type": "stream",
     "text": [
      "Processing 692_610.mp4: 100%|██████████| 354/354 [00:37<00:00,  9.41it/s]\n"
     ]
    },
    {
     "name": "stdout",
     "output_type": "stream",
     "text": [
      "Filtered video saved: filtered_videos\\FaceShifter\\692_610.mp4\n"
     ]
    },
    {
     "name": "stderr",
     "output_type": "stream",
     "text": [
      "Processing 693_698.mp4: 100%|██████████| 595/595 [00:25<00:00, 22.90it/s]\n"
     ]
    },
    {
     "name": "stdout",
     "output_type": "stream",
     "text": [
      "Filtered video saved: filtered_videos\\FaceShifter\\693_698.mp4\n"
     ]
    },
    {
     "name": "stderr",
     "output_type": "stream",
     "text": [
      "Processing 694_767.mp4: 100%|██████████| 299/299 [00:16<00:00, 18.62it/s]\n"
     ]
    },
    {
     "name": "stdout",
     "output_type": "stream",
     "text": [
      "Filtered video saved: filtered_videos\\FaceShifter\\694_767.mp4\n"
     ]
    },
    {
     "name": "stderr",
     "output_type": "stream",
     "text": [
      "Processing 695_422.mp4: 100%|██████████| 310/310 [01:10<00:00,  4.43it/s]\n"
     ]
    },
    {
     "name": "stdout",
     "output_type": "stream",
     "text": [
      "Filtered video saved: filtered_videos\\FaceShifter\\695_422.mp4\n"
     ]
    },
    {
     "name": "stderr",
     "output_type": "stream",
     "text": [
      "Processing 696_686.mp4: 100%|██████████| 405/405 [00:16<00:00, 24.05it/s]\n"
     ]
    },
    {
     "name": "stdout",
     "output_type": "stream",
     "text": [
      "Filtered video saved: filtered_videos\\FaceShifter\\696_686.mp4\n"
     ]
    },
    {
     "name": "stderr",
     "output_type": "stream",
     "text": [
      "Processing 697_581.mp4: 100%|██████████| 465/465 [00:50<00:00,  9.18it/s]\n"
     ]
    },
    {
     "name": "stdout",
     "output_type": "stream",
     "text": [
      "Filtered video saved: filtered_videos\\FaceShifter\\697_581.mp4\n"
     ]
    },
    {
     "name": "stderr",
     "output_type": "stream",
     "text": [
      "Processing 698_693.mp4: 100%|██████████| 304/304 [00:12<00:00, 24.30it/s]\n"
     ]
    },
    {
     "name": "stdout",
     "output_type": "stream",
     "text": [
      "Filtered video saved: filtered_videos\\FaceShifter\\698_693.mp4\n"
     ]
    },
    {
     "name": "stderr",
     "output_type": "stream",
     "text": [
      "Processing 699_734.mp4: 100%|██████████| 524/524 [00:18<00:00, 28.27it/s]\n"
     ]
    },
    {
     "name": "stdout",
     "output_type": "stream",
     "text": [
      "Filtered video saved: filtered_videos\\FaceShifter\\699_734.mp4\n"
     ]
    },
    {
     "name": "stderr",
     "output_type": "stream",
     "text": [
      "Processing 700_813.mp4: 100%|██████████| 333/333 [00:36<00:00,  9.13it/s]\n"
     ]
    },
    {
     "name": "stdout",
     "output_type": "stream",
     "text": [
      "Filtered video saved: filtered_videos\\FaceShifter\\700_813.mp4\n"
     ]
    },
    {
     "name": "stderr",
     "output_type": "stream",
     "text": [
      "Processing 701_579.mp4: 100%|██████████| 393/393 [01:32<00:00,  4.26it/s]\n"
     ]
    },
    {
     "name": "stdout",
     "output_type": "stream",
     "text": [
      "Filtered video saved: filtered_videos\\FaceShifter\\701_579.mp4\n"
     ]
    },
    {
     "name": "stderr",
     "output_type": "stream",
     "text": [
      "Processing 702_612.mp4: 100%|██████████| 749/749 [01:21<00:00,  9.17it/s]\n"
     ]
    },
    {
     "name": "stdout",
     "output_type": "stream",
     "text": [
      "Filtered video saved: filtered_videos\\FaceShifter\\702_612.mp4\n"
     ]
    },
    {
     "name": "stderr",
     "output_type": "stream",
     "text": [
      "Processing 703_604.mp4: 100%|██████████| 375/375 [00:37<00:00,  9.96it/s]\n"
     ]
    },
    {
     "name": "stdout",
     "output_type": "stream",
     "text": [
      "Filtered video saved: filtered_videos\\FaceShifter\\703_604.mp4\n"
     ]
    },
    {
     "name": "stderr",
     "output_type": "stream",
     "text": [
      "Processing 704_723.mp4: 100%|██████████| 450/450 [00:18<00:00, 24.67it/s]\n"
     ]
    },
    {
     "name": "stdout",
     "output_type": "stream",
     "text": [
      "Filtered video saved: filtered_videos\\FaceShifter\\704_723.mp4\n"
     ]
    },
    {
     "name": "stderr",
     "output_type": "stream",
     "text": [
      "Processing 705_707.mp4: 100%|██████████| 473/473 [00:23<00:00, 20.23it/s]\n"
     ]
    },
    {
     "name": "stdout",
     "output_type": "stream",
     "text": [
      "Filtered video saved: filtered_videos\\FaceShifter\\705_707.mp4\n"
     ]
    },
    {
     "name": "stderr",
     "output_type": "stream",
     "text": [
      "Processing 706_479.mp4: 100%|██████████| 328/328 [01:10<00:00,  4.62it/s]\n"
     ]
    },
    {
     "name": "stdout",
     "output_type": "stream",
     "text": [
      "Filtered video saved: filtered_videos\\FaceShifter\\706_479.mp4\n"
     ]
    },
    {
     "name": "stderr",
     "output_type": "stream",
     "text": [
      "Processing 707_705.mp4: 100%|██████████| 1034/1034 [00:58<00:00, 17.64it/s]\n"
     ]
    },
    {
     "name": "stdout",
     "output_type": "stream",
     "text": [
      "Filtered video saved: filtered_videos\\FaceShifter\\707_705.mp4\n"
     ]
    },
    {
     "name": "stderr",
     "output_type": "stream",
     "text": [
      "Processing 708_772.mp4: 100%|██████████| 549/549 [02:04<00:00,  4.40it/s]\n"
     ]
    },
    {
     "name": "stdout",
     "output_type": "stream",
     "text": [
      "Filtered video saved: filtered_videos\\FaceShifter\\708_772.mp4\n"
     ]
    },
    {
     "name": "stderr",
     "output_type": "stream",
     "text": [
      "Processing 709_390.mp4: 100%|██████████| 300/300 [01:15<00:00,  3.95it/s]\n"
     ]
    },
    {
     "name": "stdout",
     "output_type": "stream",
     "text": [
      "Filtered video saved: filtered_videos\\FaceShifter\\709_390.mp4\n"
     ]
    },
    {
     "name": "stderr",
     "output_type": "stream",
     "text": [
      "Processing 710_788.mp4: 100%|██████████| 378/378 [00:19<00:00, 19.55it/s]\n"
     ]
    },
    {
     "name": "stdout",
     "output_type": "stream",
     "text": [
      "Filtered video saved: filtered_videos\\FaceShifter\\710_788.mp4\n"
     ]
    },
    {
     "name": "stderr",
     "output_type": "stream",
     "text": [
      "Processing 711_681.mp4: 100%|██████████| 292/292 [01:01<00:00,  4.74it/s]\n"
     ]
    },
    {
     "name": "stdout",
     "output_type": "stream",
     "text": [
      "Filtered video saved: filtered_videos\\FaceShifter\\711_681.mp4\n"
     ]
    },
    {
     "name": "stderr",
     "output_type": "stream",
     "text": [
      "Processing 712_716.mp4: 100%|██████████| 550/550 [00:57<00:00,  9.54it/s]\n"
     ]
    },
    {
     "name": "stdout",
     "output_type": "stream",
     "text": [
      "Filtered video saved: filtered_videos\\FaceShifter\\712_716.mp4\n"
     ]
    },
    {
     "name": "stderr",
     "output_type": "stream",
     "text": [
      "Processing 713_726.mp4: 100%|██████████| 527/527 [02:02<00:00,  4.31it/s]\n"
     ]
    },
    {
     "name": "stdout",
     "output_type": "stream",
     "text": [
      "Filtered video saved: filtered_videos\\FaceShifter\\713_726.mp4\n"
     ]
    },
    {
     "name": "stderr",
     "output_type": "stream",
     "text": [
      "Processing 714_842.mp4: 100%|██████████| 560/560 [00:56<00:00,  9.89it/s]\n"
     ]
    },
    {
     "name": "stdout",
     "output_type": "stream",
     "text": [
      "Filtered video saved: filtered_videos\\FaceShifter\\714_842.mp4\n"
     ]
    },
    {
     "name": "stderr",
     "output_type": "stream",
     "text": [
      "Processing 715_721.mp4: 100%|██████████| 856/856 [00:34<00:00, 24.96it/s]\n"
     ]
    },
    {
     "name": "stdout",
     "output_type": "stream",
     "text": [
      "Filtered video saved: filtered_videos\\FaceShifter\\715_721.mp4\n"
     ]
    },
    {
     "name": "stderr",
     "output_type": "stream",
     "text": [
      "Processing 716_712.mp4: 100%|██████████| 628/628 [00:25<00:00, 24.79it/s]\n"
     ]
    },
    {
     "name": "stdout",
     "output_type": "stream",
     "text": [
      "Filtered video saved: filtered_videos\\FaceShifter\\716_712.mp4\n"
     ]
    },
    {
     "name": "stderr",
     "output_type": "stream",
     "text": [
      "Processing 717_684.mp4: 100%|██████████| 374/374 [00:39<00:00,  9.50it/s]\n"
     ]
    },
    {
     "name": "stdout",
     "output_type": "stream",
     "text": [
      "Filtered video saved: filtered_videos\\FaceShifter\\717_684.mp4\n"
     ]
    },
    {
     "name": "stderr",
     "output_type": "stream",
     "text": [
      "Processing 718_972.mp4: 100%|██████████| 578/578 [02:16<00:00,  4.25it/s]\n"
     ]
    },
    {
     "name": "stdout",
     "output_type": "stream",
     "text": [
      "Filtered video saved: filtered_videos\\FaceShifter\\718_972.mp4\n"
     ]
    },
    {
     "name": "stderr",
     "output_type": "stream",
     "text": [
      "Processing 719_737.mp4: 100%|██████████| 402/402 [00:16<00:00, 24.00it/s]\n"
     ]
    },
    {
     "name": "stdout",
     "output_type": "stream",
     "text": [
      "Filtered video saved: filtered_videos\\FaceShifter\\719_737.mp4\n"
     ]
    },
    {
     "name": "stderr",
     "output_type": "stream",
     "text": [
      "Processing 720_672.mp4: 100%|██████████| 564/564 [00:25<00:00, 22.08it/s]\n"
     ]
    },
    {
     "name": "stdout",
     "output_type": "stream",
     "text": [
      "Filtered video saved: filtered_videos\\FaceShifter\\720_672.mp4\n"
     ]
    },
    {
     "name": "stderr",
     "output_type": "stream",
     "text": [
      "Processing 721_715.mp4: 100%|██████████| 581/581 [00:24<00:00, 23.95it/s]\n"
     ]
    },
    {
     "name": "stdout",
     "output_type": "stream",
     "text": [
      "Filtered video saved: filtered_videos\\FaceShifter\\721_715.mp4\n"
     ]
    },
    {
     "name": "stderr",
     "output_type": "stream",
     "text": [
      "Processing 722_458.mp4: 100%|██████████| 396/396 [01:24<00:00,  4.71it/s]\n"
     ]
    },
    {
     "name": "stdout",
     "output_type": "stream",
     "text": [
      "Filtered video saved: filtered_videos\\FaceShifter\\722_458.mp4\n"
     ]
    },
    {
     "name": "stderr",
     "output_type": "stream",
     "text": [
      "Processing 723_704.mp4: 100%|██████████| 730/730 [00:38<00:00, 19.02it/s]\n"
     ]
    },
    {
     "name": "stdout",
     "output_type": "stream",
     "text": [
      "Filtered video saved: filtered_videos\\FaceShifter\\723_704.mp4\n"
     ]
    },
    {
     "name": "stderr",
     "output_type": "stream",
     "text": [
      "Processing 724_725.mp4: 100%|██████████| 600/600 [02:11<00:00,  4.55it/s]\n"
     ]
    },
    {
     "name": "stdout",
     "output_type": "stream",
     "text": [
      "Filtered video saved: filtered_videos\\FaceShifter\\724_725.mp4\n"
     ]
    },
    {
     "name": "stderr",
     "output_type": "stream",
     "text": [
      "Processing 725_724.mp4: 100%|██████████| 699/699 [01:15<00:00,  9.27it/s]\n"
     ]
    },
    {
     "name": "stdout",
     "output_type": "stream",
     "text": [
      "Filtered video saved: filtered_videos\\FaceShifter\\725_724.mp4\n"
     ]
    },
    {
     "name": "stderr",
     "output_type": "stream",
     "text": [
      "Processing 726_713.mp4: 100%|██████████| 410/410 [01:43<00:00,  3.96it/s]\n"
     ]
    },
    {
     "name": "stdout",
     "output_type": "stream",
     "text": [
      "Filtered video saved: filtered_videos\\FaceShifter\\726_713.mp4\n"
     ]
    },
    {
     "name": "stderr",
     "output_type": "stream",
     "text": [
      "Processing 727_729.mp4: 100%|██████████| 554/554 [00:22<00:00, 24.87it/s]\n"
     ]
    },
    {
     "name": "stdout",
     "output_type": "stream",
     "text": [
      "Filtered video saved: filtered_videos\\FaceShifter\\727_729.mp4\n"
     ]
    },
    {
     "name": "stderr",
     "output_type": "stream",
     "text": [
      "Processing 728_673.mp4: 100%|██████████| 568/568 [00:21<00:00, 25.97it/s]\n"
     ]
    },
    {
     "name": "stdout",
     "output_type": "stream",
     "text": [
      "Filtered video saved: filtered_videos\\FaceShifter\\728_673.mp4\n"
     ]
    },
    {
     "name": "stderr",
     "output_type": "stream",
     "text": [
      "Processing 729_727.mp4: 100%|██████████| 636/636 [00:28<00:00, 22.67it/s]\n"
     ]
    },
    {
     "name": "stdout",
     "output_type": "stream",
     "text": [
      "Filtered video saved: filtered_videos\\FaceShifter\\729_727.mp4\n"
     ]
    },
    {
     "name": "stderr",
     "output_type": "stream",
     "text": [
      "Processing 730_815.mp4: 100%|██████████| 719/719 [01:18<00:00,  9.21it/s]\n"
     ]
    },
    {
     "name": "stdout",
     "output_type": "stream",
     "text": [
      "Filtered video saved: filtered_videos\\FaceShifter\\730_815.mp4\n"
     ]
    },
    {
     "name": "stderr",
     "output_type": "stream",
     "text": [
      "Processing 731_741.mp4: 100%|██████████| 778/778 [00:29<00:00, 26.50it/s]\n"
     ]
    },
    {
     "name": "stdout",
     "output_type": "stream",
     "text": [
      "Filtered video saved: filtered_videos\\FaceShifter\\731_741.mp4\n"
     ]
    },
    {
     "name": "stderr",
     "output_type": "stream",
     "text": [
      "Processing 732_691.mp4: 100%|██████████| 426/426 [00:16<00:00, 26.61it/s]\n"
     ]
    },
    {
     "name": "stdout",
     "output_type": "stream",
     "text": [
      "Filtered video saved: filtered_videos\\FaceShifter\\732_691.mp4\n"
     ]
    },
    {
     "name": "stderr",
     "output_type": "stream",
     "text": [
      "Processing 733_935.mp4: 100%|██████████| 518/518 [00:53<00:00,  9.61it/s]\n"
     ]
    },
    {
     "name": "stdout",
     "output_type": "stream",
     "text": [
      "Filtered video saved: filtered_videos\\FaceShifter\\733_935.mp4\n"
     ]
    },
    {
     "name": "stderr",
     "output_type": "stream",
     "text": [
      "Processing 734_699.mp4: 100%|██████████| 1098/1098 [00:45<00:00, 24.12it/s]\n"
     ]
    },
    {
     "name": "stdout",
     "output_type": "stream",
     "text": [
      "Filtered video saved: filtered_videos\\FaceShifter\\734_699.mp4\n"
     ]
    },
    {
     "name": "stderr",
     "output_type": "stream",
     "text": [
      "Processing 735_774.mp4: 100%|██████████| 802/802 [00:32<00:00, 24.96it/s]\n"
     ]
    },
    {
     "name": "stdout",
     "output_type": "stream",
     "text": [
      "Filtered video saved: filtered_videos\\FaceShifter\\735_774.mp4\n"
     ]
    },
    {
     "name": "stderr",
     "output_type": "stream",
     "text": [
      "Processing 736_785.mp4: 100%|██████████| 414/414 [00:16<00:00, 25.81it/s]\n"
     ]
    },
    {
     "name": "stdout",
     "output_type": "stream",
     "text": [
      "Filtered video saved: filtered_videos\\FaceShifter\\736_785.mp4\n"
     ]
    },
    {
     "name": "stderr",
     "output_type": "stream",
     "text": [
      "Processing 737_719.mp4: 100%|██████████| 369/369 [00:14<00:00, 24.74it/s]\n"
     ]
    },
    {
     "name": "stdout",
     "output_type": "stream",
     "text": [
      "Filtered video saved: filtered_videos\\FaceShifter\\737_719.mp4\n"
     ]
    },
    {
     "name": "stderr",
     "output_type": "stream",
     "text": [
      "Processing 738_804.mp4: 100%|██████████| 417/417 [00:42<00:00,  9.73it/s]\n"
     ]
    },
    {
     "name": "stdout",
     "output_type": "stream",
     "text": [
      "Filtered video saved: filtered_videos\\FaceShifter\\738_804.mp4\n"
     ]
    },
    {
     "name": "stderr",
     "output_type": "stream",
     "text": [
      "Processing 739_865.mp4: 100%|██████████| 304/304 [00:31<00:00,  9.54it/s]\n"
     ]
    },
    {
     "name": "stdout",
     "output_type": "stream",
     "text": [
      "Filtered video saved: filtered_videos\\FaceShifter\\739_865.mp4\n"
     ]
    },
    {
     "name": "stderr",
     "output_type": "stream",
     "text": [
      "Processing 740_796.mp4: 100%|██████████| 348/348 [01:14<00:00,  4.66it/s]\n"
     ]
    },
    {
     "name": "stdout",
     "output_type": "stream",
     "text": [
      "Filtered video saved: filtered_videos\\FaceShifter\\740_796.mp4\n"
     ]
    },
    {
     "name": "stderr",
     "output_type": "stream",
     "text": [
      "Processing 741_731.mp4: 100%|██████████| 370/370 [00:15<00:00, 23.64it/s]\n"
     ]
    },
    {
     "name": "stdout",
     "output_type": "stream",
     "text": [
      "Filtered video saved: filtered_videos\\FaceShifter\\741_731.mp4\n"
     ]
    },
    {
     "name": "stderr",
     "output_type": "stream",
     "text": [
      "Processing 742_775.mp4: 100%|██████████| 623/623 [00:25<00:00, 24.86it/s]\n"
     ]
    },
    {
     "name": "stdout",
     "output_type": "stream",
     "text": [
      "Filtered video saved: filtered_videos\\FaceShifter\\742_775.mp4\n"
     ]
    },
    {
     "name": "stderr",
     "output_type": "stream",
     "text": [
      "Processing 743_750.mp4: 100%|██████████| 311/311 [00:33<00:00,  9.40it/s]\n"
     ]
    },
    {
     "name": "stdout",
     "output_type": "stream",
     "text": [
      "Filtered video saved: filtered_videos\\FaceShifter\\743_750.mp4\n"
     ]
    },
    {
     "name": "stderr",
     "output_type": "stream",
     "text": [
      "Processing 744_674.mp4: 100%|██████████| 294/294 [00:11<00:00, 24.63it/s]\n"
     ]
    },
    {
     "name": "stdout",
     "output_type": "stream",
     "text": [
      "Filtered video saved: filtered_videos\\FaceShifter\\744_674.mp4\n"
     ]
    },
    {
     "name": "stderr",
     "output_type": "stream",
     "text": [
      "Processing 745_777.mp4: 100%|██████████| 569/569 [00:31<00:00, 18.22it/s]\n"
     ]
    },
    {
     "name": "stdout",
     "output_type": "stream",
     "text": [
      "Filtered video saved: filtered_videos\\FaceShifter\\745_777.mp4\n"
     ]
    },
    {
     "name": "stderr",
     "output_type": "stream",
     "text": [
      "Processing 746_571.mp4: 100%|██████████| 493/493 [00:47<00:00, 10.48it/s]\n"
     ]
    },
    {
     "name": "stdout",
     "output_type": "stream",
     "text": [
      "Filtered video saved: filtered_videos\\FaceShifter\\746_571.mp4\n"
     ]
    },
    {
     "name": "stderr",
     "output_type": "stream",
     "text": [
      "Processing 747_854.mp4: 100%|██████████| 470/470 [00:47<00:00,  9.88it/s]\n"
     ]
    },
    {
     "name": "stdout",
     "output_type": "stream",
     "text": [
      "Filtered video saved: filtered_videos\\FaceShifter\\747_854.mp4\n"
     ]
    },
    {
     "name": "stderr",
     "output_type": "stream",
     "text": [
      "Processing 748_355.mp4: 100%|██████████| 318/318 [00:32<00:00,  9.87it/s]\n"
     ]
    },
    {
     "name": "stdout",
     "output_type": "stream",
     "text": [
      "Filtered video saved: filtered_videos\\FaceShifter\\748_355.mp4\n"
     ]
    },
    {
     "name": "stderr",
     "output_type": "stream",
     "text": [
      "Processing 749_659.mp4: 100%|██████████| 693/693 [00:38<00:00, 17.95it/s]\n"
     ]
    },
    {
     "name": "stdout",
     "output_type": "stream",
     "text": [
      "Filtered video saved: filtered_videos\\FaceShifter\\749_659.mp4\n"
     ]
    },
    {
     "name": "stderr",
     "output_type": "stream",
     "text": [
      "Processing 750_743.mp4: 100%|██████████| 441/441 [01:44<00:00,  4.21it/s]\n"
     ]
    },
    {
     "name": "stdout",
     "output_type": "stream",
     "text": [
      "Filtered video saved: filtered_videos\\FaceShifter\\750_743.mp4\n"
     ]
    },
    {
     "name": "stderr",
     "output_type": "stream",
     "text": [
      "Processing 751_752.mp4: 100%|██████████| 331/331 [00:13<00:00, 23.90it/s]\n"
     ]
    },
    {
     "name": "stdout",
     "output_type": "stream",
     "text": [
      "Filtered video saved: filtered_videos\\FaceShifter\\751_752.mp4\n"
     ]
    },
    {
     "name": "stderr",
     "output_type": "stream",
     "text": [
      "Processing 752_751.mp4: 100%|██████████| 1016/1016 [01:41<00:00,  9.97it/s]\n"
     ]
    },
    {
     "name": "stdout",
     "output_type": "stream",
     "text": [
      "Filtered video saved: filtered_videos\\FaceShifter\\752_751.mp4\n"
     ]
    },
    {
     "name": "stderr",
     "output_type": "stream",
     "text": [
      "Processing 753_789.mp4: 100%|██████████| 686/686 [03:08<00:00,  3.64it/s]\n"
     ]
    },
    {
     "name": "stdout",
     "output_type": "stream",
     "text": [
      "Filtered video saved: filtered_videos\\FaceShifter\\753_789.mp4\n"
     ]
    },
    {
     "name": "stderr",
     "output_type": "stream",
     "text": [
      "Processing 754_758.mp4: 100%|██████████| 401/401 [00:43<00:00,  9.24it/s]\n"
     ]
    },
    {
     "name": "stdout",
     "output_type": "stream",
     "text": [
      "Filtered video saved: filtered_videos\\FaceShifter\\754_758.mp4\n"
     ]
    },
    {
     "name": "stderr",
     "output_type": "stream",
     "text": [
      "Processing 755_759.mp4: 100%|██████████| 336/336 [00:19<00:00, 17.51it/s]\n"
     ]
    },
    {
     "name": "stdout",
     "output_type": "stream",
     "text": [
      "Filtered video saved: filtered_videos\\FaceShifter\\755_759.mp4\n"
     ]
    },
    {
     "name": "stderr",
     "output_type": "stream",
     "text": [
      "Processing 756_503.mp4: 100%|██████████| 570/570 [00:32<00:00, 17.79it/s]\n"
     ]
    },
    {
     "name": "stdout",
     "output_type": "stream",
     "text": [
      "Filtered video saved: filtered_videos\\FaceShifter\\756_503.mp4\n"
     ]
    },
    {
     "name": "stderr",
     "output_type": "stream",
     "text": [
      "Processing 757_573.mp4: 100%|██████████| 441/441 [00:46<00:00,  9.50it/s]\n"
     ]
    },
    {
     "name": "stdout",
     "output_type": "stream",
     "text": [
      "Filtered video saved: filtered_videos\\FaceShifter\\757_573.mp4\n"
     ]
    },
    {
     "name": "stderr",
     "output_type": "stream",
     "text": [
      "Processing 758_754.mp4: 100%|██████████| 391/391 [00:16<00:00, 24.15it/s]\n"
     ]
    },
    {
     "name": "stdout",
     "output_type": "stream",
     "text": [
      "Filtered video saved: filtered_videos\\FaceShifter\\758_754.mp4\n"
     ]
    },
    {
     "name": "stderr",
     "output_type": "stream",
     "text": [
      "Processing 759_755.mp4: 100%|██████████| 434/434 [01:35<00:00,  4.53it/s]\n"
     ]
    },
    {
     "name": "stdout",
     "output_type": "stream",
     "text": [
      "Filtered video saved: filtered_videos\\FaceShifter\\759_755.mp4\n"
     ]
    },
    {
     "name": "stderr",
     "output_type": "stream",
     "text": [
      "Processing 760_611.mp4: 100%|██████████| 306/306 [00:15<00:00, 19.68it/s]\n"
     ]
    },
    {
     "name": "stdout",
     "output_type": "stream",
     "text": [
      "Filtered video saved: filtered_videos\\FaceShifter\\760_611.mp4\n"
     ]
    },
    {
     "name": "stderr",
     "output_type": "stream",
     "text": [
      "Processing 761_766.mp4: 100%|██████████| 343/343 [00:13<00:00, 24.61it/s]\n"
     ]
    },
    {
     "name": "stdout",
     "output_type": "stream",
     "text": [
      "Filtered video saved: filtered_videos\\FaceShifter\\761_766.mp4\n"
     ]
    },
    {
     "name": "stderr",
     "output_type": "stream",
     "text": [
      "Processing 762_832.mp4: 100%|██████████| 416/416 [00:17<00:00, 24.05it/s]\n"
     ]
    },
    {
     "name": "stdout",
     "output_type": "stream",
     "text": [
      "Filtered video saved: filtered_videos\\FaceShifter\\762_832.mp4\n"
     ]
    },
    {
     "name": "stderr",
     "output_type": "stream",
     "text": [
      "Processing 763_930.mp4: 100%|██████████| 812/812 [00:44<00:00, 18.06it/s]\n"
     ]
    },
    {
     "name": "stdout",
     "output_type": "stream",
     "text": [
      "Filtered video saved: filtered_videos\\FaceShifter\\763_930.mp4\n"
     ]
    },
    {
     "name": "stderr",
     "output_type": "stream",
     "text": [
      "Processing 764_850.mp4: 100%|██████████| 369/369 [01:02<00:00,  5.91it/s]\n"
     ]
    },
    {
     "name": "stdout",
     "output_type": "stream",
     "text": [
      "Filtered video saved: filtered_videos\\FaceShifter\\764_850.mp4\n"
     ]
    },
    {
     "name": "stderr",
     "output_type": "stream",
     "text": [
      "Processing 765_867.mp4: 100%|██████████| 388/388 [00:16<00:00, 24.00it/s]\n"
     ]
    },
    {
     "name": "stdout",
     "output_type": "stream",
     "text": [
      "Filtered video saved: filtered_videos\\FaceShifter\\765_867.mp4\n"
     ]
    },
    {
     "name": "stderr",
     "output_type": "stream",
     "text": [
      "Processing 766_761.mp4: 100%|██████████| 860/860 [00:35<00:00, 24.11it/s]\n"
     ]
    },
    {
     "name": "stdout",
     "output_type": "stream",
     "text": [
      "Filtered video saved: filtered_videos\\FaceShifter\\766_761.mp4\n"
     ]
    },
    {
     "name": "stderr",
     "output_type": "stream",
     "text": [
      "Processing 767_694.mp4: 100%|██████████| 407/407 [00:15<00:00, 25.57it/s]\n"
     ]
    },
    {
     "name": "stdout",
     "output_type": "stream",
     "text": [
      "Filtered video saved: filtered_videos\\FaceShifter\\767_694.mp4\n"
     ]
    },
    {
     "name": "stderr",
     "output_type": "stream",
     "text": [
      "Processing 768_793.mp4: 100%|██████████| 330/330 [00:33<00:00,  9.85it/s]\n"
     ]
    },
    {
     "name": "stdout",
     "output_type": "stream",
     "text": [
      "Filtered video saved: filtered_videos\\FaceShifter\\768_793.mp4\n"
     ]
    },
    {
     "name": "stderr",
     "output_type": "stream",
     "text": [
      "Processing 769_784.mp4: 100%|██████████| 484/484 [00:51<00:00,  9.39it/s]\n"
     ]
    },
    {
     "name": "stdout",
     "output_type": "stream",
     "text": [
      "Filtered video saved: filtered_videos\\FaceShifter\\769_784.mp4\n"
     ]
    },
    {
     "name": "stderr",
     "output_type": "stream",
     "text": [
      "Processing 770_791.mp4: 100%|██████████| 653/653 [01:11<00:00,  9.11it/s]\n"
     ]
    },
    {
     "name": "stdout",
     "output_type": "stream",
     "text": [
      "Filtered video saved: filtered_videos\\FaceShifter\\770_791.mp4\n"
     ]
    },
    {
     "name": "stderr",
     "output_type": "stream",
     "text": [
      "Processing 771_849.mp4: 100%|██████████| 634/634 [00:27<00:00, 23.22it/s]\n"
     ]
    },
    {
     "name": "stdout",
     "output_type": "stream",
     "text": [
      "Filtered video saved: filtered_videos\\FaceShifter\\771_849.mp4\n"
     ]
    },
    {
     "name": "stderr",
     "output_type": "stream",
     "text": [
      "Processing 772_708.mp4: 100%|██████████| 341/341 [00:36<00:00,  9.34it/s]\n"
     ]
    },
    {
     "name": "stdout",
     "output_type": "stream",
     "text": [
      "Filtered video saved: filtered_videos\\FaceShifter\\772_708.mp4\n"
     ]
    },
    {
     "name": "stderr",
     "output_type": "stream",
     "text": [
      "Processing 773_652.mp4: 100%|██████████| 579/579 [01:02<00:00,  9.22it/s]\n"
     ]
    },
    {
     "name": "stdout",
     "output_type": "stream",
     "text": [
      "Filtered video saved: filtered_videos\\FaceShifter\\773_652.mp4\n"
     ]
    },
    {
     "name": "stderr",
     "output_type": "stream",
     "text": [
      "Processing 774_735.mp4: 100%|██████████| 313/313 [00:13<00:00, 23.36it/s]\n"
     ]
    },
    {
     "name": "stdout",
     "output_type": "stream",
     "text": [
      "Filtered video saved: filtered_videos\\FaceShifter\\774_735.mp4\n"
     ]
    },
    {
     "name": "stderr",
     "output_type": "stream",
     "text": [
      "Processing 775_742.mp4: 100%|██████████| 559/559 [00:23<00:00, 23.90it/s]\n"
     ]
    },
    {
     "name": "stdout",
     "output_type": "stream",
     "text": [
      "Filtered video saved: filtered_videos\\FaceShifter\\775_742.mp4\n"
     ]
    },
    {
     "name": "stderr",
     "output_type": "stream",
     "text": [
      "Processing 776_676.mp4: 100%|██████████| 331/331 [01:17<00:00,  4.26it/s]\n"
     ]
    },
    {
     "name": "stdout",
     "output_type": "stream",
     "text": [
      "Filtered video saved: filtered_videos\\FaceShifter\\776_676.mp4\n"
     ]
    },
    {
     "name": "stderr",
     "output_type": "stream",
     "text": [
      "Processing 777_745.mp4: 100%|██████████| 325/325 [00:14<00:00, 22.56it/s]\n"
     ]
    },
    {
     "name": "stdout",
     "output_type": "stream",
     "text": [
      "Filtered video saved: filtered_videos\\FaceShifter\\777_745.mp4\n"
     ]
    },
    {
     "name": "stderr",
     "output_type": "stream",
     "text": [
      "Processing 778_798.mp4: 100%|██████████| 328/328 [00:38<00:00,  8.50it/s]\n"
     ]
    },
    {
     "name": "stdout",
     "output_type": "stream",
     "text": [
      "Filtered video saved: filtered_videos\\FaceShifter\\778_798.mp4\n"
     ]
    },
    {
     "name": "stderr",
     "output_type": "stream",
     "text": [
      "Processing 779_794.mp4: 100%|██████████| 306/306 [00:33<00:00,  9.21it/s]\n"
     ]
    },
    {
     "name": "stdout",
     "output_type": "stream",
     "text": [
      "Filtered video saved: filtered_videos\\FaceShifter\\779_794.mp4\n"
     ]
    },
    {
     "name": "stderr",
     "output_type": "stream",
     "text": [
      "Processing 780_869.mp4: 100%|██████████| 402/402 [00:43<00:00,  9.29it/s]\n"
     ]
    },
    {
     "name": "stdout",
     "output_type": "stream",
     "text": [
      "Filtered video saved: filtered_videos\\FaceShifter\\780_869.mp4\n"
     ]
    },
    {
     "name": "stderr",
     "output_type": "stream",
     "text": [
      "Processing 781_806.mp4: 100%|██████████| 475/475 [00:18<00:00, 25.09it/s]\n"
     ]
    },
    {
     "name": "stdout",
     "output_type": "stream",
     "text": [
      "Filtered video saved: filtered_videos\\FaceShifter\\781_806.mp4\n"
     ]
    },
    {
     "name": "stderr",
     "output_type": "stream",
     "text": [
      "Processing 782_787.mp4: 100%|██████████| 556/556 [00:22<00:00, 24.22it/s]\n"
     ]
    },
    {
     "name": "stdout",
     "output_type": "stream",
     "text": [
      "Filtered video saved: filtered_videos\\FaceShifter\\782_787.mp4\n"
     ]
    },
    {
     "name": "stderr",
     "output_type": "stream",
     "text": [
      "Processing 783_916.mp4: 100%|██████████| 403/403 [00:42<00:00,  9.47it/s]\n"
     ]
    },
    {
     "name": "stdout",
     "output_type": "stream",
     "text": [
      "Filtered video saved: filtered_videos\\FaceShifter\\783_916.mp4\n"
     ]
    },
    {
     "name": "stderr",
     "output_type": "stream",
     "text": [
      "Processing 784_769.mp4: 100%|██████████| 557/557 [00:22<00:00, 24.60it/s]\n"
     ]
    },
    {
     "name": "stdout",
     "output_type": "stream",
     "text": [
      "Filtered video saved: filtered_videos\\FaceShifter\\784_769.mp4\n"
     ]
    },
    {
     "name": "stderr",
     "output_type": "stream",
     "text": [
      "Processing 785_736.mp4: 100%|██████████| 413/413 [00:15<00:00, 26.29it/s]\n"
     ]
    },
    {
     "name": "stdout",
     "output_type": "stream",
     "text": [
      "Filtered video saved: filtered_videos\\FaceShifter\\785_736.mp4\n"
     ]
    },
    {
     "name": "stderr",
     "output_type": "stream",
     "text": [
      "Processing 786_819.mp4: 100%|██████████| 520/520 [02:04<00:00,  4.19it/s]\n"
     ]
    },
    {
     "name": "stdout",
     "output_type": "stream",
     "text": [
      "Filtered video saved: filtered_videos\\FaceShifter\\786_819.mp4\n"
     ]
    },
    {
     "name": "stderr",
     "output_type": "stream",
     "text": [
      "Processing 787_782.mp4: 100%|██████████| 502/502 [00:22<00:00, 22.10it/s]\n"
     ]
    },
    {
     "name": "stdout",
     "output_type": "stream",
     "text": [
      "Filtered video saved: filtered_videos\\FaceShifter\\787_782.mp4\n"
     ]
    },
    {
     "name": "stderr",
     "output_type": "stream",
     "text": [
      "Processing 788_710.mp4: 100%|██████████| 534/534 [00:25<00:00, 21.04it/s]\n"
     ]
    },
    {
     "name": "stdout",
     "output_type": "stream",
     "text": [
      "Filtered video saved: filtered_videos\\FaceShifter\\788_710.mp4\n"
     ]
    },
    {
     "name": "stderr",
     "output_type": "stream",
     "text": [
      "Processing 789_753.mp4: 100%|██████████| 567/567 [02:13<00:00,  4.24it/s]\n"
     ]
    },
    {
     "name": "stdout",
     "output_type": "stream",
     "text": [
      "Filtered video saved: filtered_videos\\FaceShifter\\789_753.mp4\n"
     ]
    },
    {
     "name": "stderr",
     "output_type": "stream",
     "text": [
      "Processing 790_014.mp4: 100%|██████████| 690/690 [01:18<00:00,  8.74it/s]\n"
     ]
    },
    {
     "name": "stdout",
     "output_type": "stream",
     "text": [
      "Filtered video saved: filtered_videos\\FaceShifter\\790_014.mp4\n"
     ]
    },
    {
     "name": "stderr",
     "output_type": "stream",
     "text": [
      "Processing 791_770.mp4: 100%|██████████| 333/333 [00:15<00:00, 21.74it/s]\n"
     ]
    },
    {
     "name": "stdout",
     "output_type": "stream",
     "text": [
      "Filtered video saved: filtered_videos\\FaceShifter\\791_770.mp4\n"
     ]
    },
    {
     "name": "stderr",
     "output_type": "stream",
     "text": [
      "Processing 792_903.mp4: 100%|██████████| 383/383 [00:15<00:00, 24.49it/s]\n"
     ]
    },
    {
     "name": "stdout",
     "output_type": "stream",
     "text": [
      "Filtered video saved: filtered_videos\\FaceShifter\\792_903.mp4\n"
     ]
    },
    {
     "name": "stderr",
     "output_type": "stream",
     "text": [
      "Processing 793_768.mp4: 100%|██████████| 590/590 [00:59<00:00,  9.90it/s]\n"
     ]
    },
    {
     "name": "stdout",
     "output_type": "stream",
     "text": [
      "Filtered video saved: filtered_videos\\FaceShifter\\793_768.mp4\n"
     ]
    },
    {
     "name": "stderr",
     "output_type": "stream",
     "text": [
      "Processing 794_779.mp4: 100%|██████████| 879/879 [01:37<00:00,  9.00it/s]\n"
     ]
    },
    {
     "name": "stdout",
     "output_type": "stream",
     "text": [
      "Filtered video saved: filtered_videos\\FaceShifter\\794_779.mp4\n"
     ]
    },
    {
     "name": "stderr",
     "output_type": "stream",
     "text": [
      "Processing 795_907.mp4: 100%|██████████| 550/550 [01:03<00:00,  8.68it/s]\n"
     ]
    },
    {
     "name": "stdout",
     "output_type": "stream",
     "text": [
      "Filtered video saved: filtered_videos\\FaceShifter\\795_907.mp4\n"
     ]
    },
    {
     "name": "stderr",
     "output_type": "stream",
     "text": [
      "Processing 796_740.mp4: 100%|██████████| 1001/1001 [01:55<00:00,  8.66it/s]\n"
     ]
    },
    {
     "name": "stdout",
     "output_type": "stream",
     "text": [
      "Filtered video saved: filtered_videos\\FaceShifter\\796_740.mp4\n"
     ]
    },
    {
     "name": "stderr",
     "output_type": "stream",
     "text": [
      "Processing 797_844.mp4: 100%|██████████| 434/434 [00:17<00:00, 25.42it/s]\n"
     ]
    },
    {
     "name": "stdout",
     "output_type": "stream",
     "text": [
      "Filtered video saved: filtered_videos\\FaceShifter\\797_844.mp4\n"
     ]
    },
    {
     "name": "stderr",
     "output_type": "stream",
     "text": [
      "Processing 798_778.mp4: 100%|██████████| 371/371 [01:34<00:00,  3.94it/s]\n"
     ]
    },
    {
     "name": "stdout",
     "output_type": "stream",
     "text": [
      "Filtered video saved: filtered_videos\\FaceShifter\\798_778.mp4\n"
     ]
    },
    {
     "name": "stderr",
     "output_type": "stream",
     "text": [
      "Processing 799_809.mp4: 100%|██████████| 1227/1227 [02:16<00:00,  8.98it/s]\n"
     ]
    },
    {
     "name": "stdout",
     "output_type": "stream",
     "text": [
      "Filtered video saved: filtered_videos\\FaceShifter\\799_809.mp4\n"
     ]
    },
    {
     "name": "stderr",
     "output_type": "stream",
     "text": [
      "Processing 800_840.mp4: 100%|██████████| 338/338 [00:40<00:00,  8.35it/s]\n"
     ]
    },
    {
     "name": "stdout",
     "output_type": "stream",
     "text": [
      "Filtered video saved: filtered_videos\\FaceShifter\\800_840.mp4\n"
     ]
    },
    {
     "name": "stderr",
     "output_type": "stream",
     "text": [
      "Processing 801_855.mp4: 100%|██████████| 444/444 [00:19<00:00, 22.95it/s]\n"
     ]
    },
    {
     "name": "stdout",
     "output_type": "stream",
     "text": [
      "Filtered video saved: filtered_videos\\FaceShifter\\801_855.mp4\n"
     ]
    },
    {
     "name": "stderr",
     "output_type": "stream",
     "text": [
      "Processing 802_885.mp4: 100%|██████████| 351/351 [00:15<00:00, 23.02it/s]\n"
     ]
    },
    {
     "name": "stdout",
     "output_type": "stream",
     "text": [
      "Filtered video saved: filtered_videos\\FaceShifter\\802_885.mp4\n"
     ]
    },
    {
     "name": "stderr",
     "output_type": "stream",
     "text": [
      "Processing 803_017.mp4: 100%|██████████| 297/297 [00:16<00:00, 17.47it/s]\n"
     ]
    },
    {
     "name": "stdout",
     "output_type": "stream",
     "text": [
      "Filtered video saved: filtered_videos\\FaceShifter\\803_017.mp4\n"
     ]
    },
    {
     "name": "stderr",
     "output_type": "stream",
     "text": [
      "Processing 804_738.mp4: 100%|██████████| 359/359 [00:18<00:00, 19.12it/s]\n"
     ]
    },
    {
     "name": "stdout",
     "output_type": "stream",
     "text": [
      "Filtered video saved: filtered_videos\\FaceShifter\\804_738.mp4\n"
     ]
    },
    {
     "name": "stderr",
     "output_type": "stream",
     "text": [
      "Processing 805_011.mp4: 100%|██████████| 411/411 [00:44<00:00,  9.27it/s]\n"
     ]
    },
    {
     "name": "stdout",
     "output_type": "stream",
     "text": [
      "Filtered video saved: filtered_videos\\FaceShifter\\805_011.mp4\n"
     ]
    },
    {
     "name": "stderr",
     "output_type": "stream",
     "text": [
      "Processing 806_781.mp4: 100%|██████████| 301/301 [00:11<00:00, 25.41it/s]\n"
     ]
    },
    {
     "name": "stdout",
     "output_type": "stream",
     "text": [
      "Filtered video saved: filtered_videos\\FaceShifter\\806_781.mp4\n"
     ]
    },
    {
     "name": "stderr",
     "output_type": "stream",
     "text": [
      "Processing 807_273.mp4: 100%|██████████| 650/650 [02:17<00:00,  4.73it/s]\n"
     ]
    },
    {
     "name": "stdout",
     "output_type": "stream",
     "text": [
      "Filtered video saved: filtered_videos\\FaceShifter\\807_273.mp4\n"
     ]
    },
    {
     "name": "stderr",
     "output_type": "stream",
     "text": [
      "Processing 808_829.mp4: 100%|██████████| 637/637 [01:10<00:00,  9.00it/s]\n"
     ]
    },
    {
     "name": "stdout",
     "output_type": "stream",
     "text": [
      "Filtered video saved: filtered_videos\\FaceShifter\\808_829.mp4\n"
     ]
    },
    {
     "name": "stderr",
     "output_type": "stream",
     "text": [
      "Processing 809_799.mp4: 100%|██████████| 367/367 [00:17<00:00, 21.10it/s]\n"
     ]
    },
    {
     "name": "stdout",
     "output_type": "stream",
     "text": [
      "Filtered video saved: filtered_videos\\FaceShifter\\809_799.mp4\n"
     ]
    },
    {
     "name": "stderr",
     "output_type": "stream",
     "text": [
      "Processing 810_838.mp4: 100%|██████████| 1052/1052 [01:47<00:00,  9.74it/s]\n"
     ]
    },
    {
     "name": "stdout",
     "output_type": "stream",
     "text": [
      "Filtered video saved: filtered_videos\\FaceShifter\\810_838.mp4\n"
     ]
    },
    {
     "name": "stderr",
     "output_type": "stream",
     "text": [
      "Processing 811_920.mp4: 100%|██████████| 542/542 [00:58<00:00,  9.21it/s]\n"
     ]
    },
    {
     "name": "stdout",
     "output_type": "stream",
     "text": [
      "Filtered video saved: filtered_videos\\FaceShifter\\811_920.mp4\n"
     ]
    },
    {
     "name": "stderr",
     "output_type": "stream",
     "text": [
      "Processing 812_821.mp4: 100%|██████████| 433/433 [00:20<00:00, 21.01it/s]\n"
     ]
    },
    {
     "name": "stdout",
     "output_type": "stream",
     "text": [
      "Filtered video saved: filtered_videos\\FaceShifter\\812_821.mp4\n"
     ]
    },
    {
     "name": "stderr",
     "output_type": "stream",
     "text": [
      "Processing 813_700.mp4: 100%|██████████| 360/360 [00:40<00:00,  8.96it/s]\n"
     ]
    },
    {
     "name": "stdout",
     "output_type": "stream",
     "text": [
      "Filtered video saved: filtered_videos\\FaceShifter\\813_700.mp4\n"
     ]
    },
    {
     "name": "stderr",
     "output_type": "stream",
     "text": [
      "Processing 814_871.mp4: 100%|██████████| 550/550 [01:05<00:00,  8.33it/s]\n"
     ]
    },
    {
     "name": "stdout",
     "output_type": "stream",
     "text": [
      "Filtered video saved: filtered_videos\\FaceShifter\\814_871.mp4\n"
     ]
    },
    {
     "name": "stderr",
     "output_type": "stream",
     "text": [
      "Processing 815_730.mp4: 100%|██████████| 452/452 [00:50<00:00,  8.97it/s]\n"
     ]
    },
    {
     "name": "stdout",
     "output_type": "stream",
     "text": [
      "Filtered video saved: filtered_videos\\FaceShifter\\815_730.mp4\n"
     ]
    },
    {
     "name": "stderr",
     "output_type": "stream",
     "text": [
      "Processing 816_649.mp4: 100%|██████████| 411/411 [00:17<00:00, 23.52it/s]\n"
     ]
    },
    {
     "name": "stdout",
     "output_type": "stream",
     "text": [
      "Filtered video saved: filtered_videos\\FaceShifter\\816_649.mp4\n"
     ]
    },
    {
     "name": "stderr",
     "output_type": "stream",
     "text": [
      "Processing 817_827.mp4: 100%|██████████| 419/419 [00:43<00:00,  9.68it/s]\n"
     ]
    },
    {
     "name": "stdout",
     "output_type": "stream",
     "text": [
      "Filtered video saved: filtered_videos\\FaceShifter\\817_827.mp4\n"
     ]
    },
    {
     "name": "stderr",
     "output_type": "stream",
     "text": [
      "Processing 818_820.mp4: 100%|██████████| 466/466 [00:49<00:00,  9.44it/s]\n"
     ]
    },
    {
     "name": "stdout",
     "output_type": "stream",
     "text": [
      "Filtered video saved: filtered_videos\\FaceShifter\\818_820.mp4\n"
     ]
    },
    {
     "name": "stderr",
     "output_type": "stream",
     "text": [
      "Processing 819_786.mp4: 100%|██████████| 927/927 [03:30<00:00,  4.41it/s]\n"
     ]
    },
    {
     "name": "stdout",
     "output_type": "stream",
     "text": [
      "Filtered video saved: filtered_videos\\FaceShifter\\819_786.mp4\n"
     ]
    },
    {
     "name": "stderr",
     "output_type": "stream",
     "text": [
      "Processing 820_818.mp4: 100%|██████████| 665/665 [01:13<00:00,  8.99it/s]\n"
     ]
    },
    {
     "name": "stdout",
     "output_type": "stream",
     "text": [
      "Filtered video saved: filtered_videos\\FaceShifter\\820_818.mp4\n"
     ]
    },
    {
     "name": "stderr",
     "output_type": "stream",
     "text": [
      "Processing 821_812.mp4: 100%|██████████| 423/423 [00:20<00:00, 20.26it/s]\n"
     ]
    },
    {
     "name": "stdout",
     "output_type": "stream",
     "text": [
      "Filtered video saved: filtered_videos\\FaceShifter\\821_812.mp4\n"
     ]
    },
    {
     "name": "stderr",
     "output_type": "stream",
     "text": [
      "Processing 822_244.mp4: 100%|██████████| 297/297 [01:16<00:00,  3.91it/s]\n"
     ]
    },
    {
     "name": "stdout",
     "output_type": "stream",
     "text": [
      "Filtered video saved: filtered_videos\\FaceShifter\\822_244.mp4\n"
     ]
    },
    {
     "name": "stderr",
     "output_type": "stream",
     "text": [
      "Processing 823_584.mp4: 100%|██████████| 672/672 [01:14<00:00,  9.04it/s]\n"
     ]
    },
    {
     "name": "stdout",
     "output_type": "stream",
     "text": [
      "Filtered video saved: filtered_videos\\FaceShifter\\823_584.mp4\n"
     ]
    },
    {
     "name": "stderr",
     "output_type": "stream",
     "text": [
      "Processing 824_419.mp4: 100%|██████████| 577/577 [01:01<00:00,  9.43it/s]\n"
     ]
    },
    {
     "name": "stdout",
     "output_type": "stream",
     "text": [
      "Filtered video saved: filtered_videos\\FaceShifter\\824_419.mp4\n"
     ]
    },
    {
     "name": "stderr",
     "output_type": "stream",
     "text": [
      "Processing 825_074.mp4: 100%|██████████| 547/547 [00:31<00:00, 17.12it/s]\n"
     ]
    },
    {
     "name": "stdout",
     "output_type": "stream",
     "text": [
      "Filtered video saved: filtered_videos\\FaceShifter\\825_074.mp4\n"
     ]
    },
    {
     "name": "stderr",
     "output_type": "stream",
     "text": [
      "Processing 826_833.mp4: 100%|██████████| 355/355 [00:37<00:00,  9.38it/s]\n"
     ]
    },
    {
     "name": "stdout",
     "output_type": "stream",
     "text": [
      "Filtered video saved: filtered_videos\\FaceShifter\\826_833.mp4\n"
     ]
    },
    {
     "name": "stderr",
     "output_type": "stream",
     "text": [
      "Processing 827_817.mp4: 100%|██████████| 311/311 [00:13<00:00, 22.42it/s]\n"
     ]
    },
    {
     "name": "stdout",
     "output_type": "stream",
     "text": [
      "Filtered video saved: filtered_videos\\FaceShifter\\827_817.mp4\n"
     ]
    },
    {
     "name": "stderr",
     "output_type": "stream",
     "text": [
      "Processing 828_830.mp4: 100%|██████████| 319/319 [00:13<00:00, 23.80it/s]\n"
     ]
    },
    {
     "name": "stdout",
     "output_type": "stream",
     "text": [
      "Filtered video saved: filtered_videos\\FaceShifter\\828_830.mp4\n"
     ]
    },
    {
     "name": "stderr",
     "output_type": "stream",
     "text": [
      "Processing 829_808.mp4: 100%|██████████| 801/801 [01:28<00:00,  9.07it/s]\n"
     ]
    },
    {
     "name": "stdout",
     "output_type": "stream",
     "text": [
      "Filtered video saved: filtered_videos\\FaceShifter\\829_808.mp4\n"
     ]
    },
    {
     "name": "stderr",
     "output_type": "stream",
     "text": [
      "Processing 830_828.mp4: 100%|██████████| 511/511 [00:18<00:00, 27.50it/s]\n"
     ]
    },
    {
     "name": "stdout",
     "output_type": "stream",
     "text": [
      "Filtered video saved: filtered_videos\\FaceShifter\\830_828.mp4\n"
     ]
    },
    {
     "name": "stderr",
     "output_type": "stream",
     "text": [
      "Processing 831_508.mp4: 100%|██████████| 327/327 [01:09<00:00,  4.69it/s]\n"
     ]
    },
    {
     "name": "stdout",
     "output_type": "stream",
     "text": [
      "Filtered video saved: filtered_videos\\FaceShifter\\831_508.mp4\n"
     ]
    },
    {
     "name": "stderr",
     "output_type": "stream",
     "text": [
      "Processing 832_762.mp4: 100%|██████████| 553/553 [00:23<00:00, 23.88it/s]\n"
     ]
    },
    {
     "name": "stdout",
     "output_type": "stream",
     "text": [
      "Filtered video saved: filtered_videos\\FaceShifter\\832_762.mp4\n"
     ]
    },
    {
     "name": "stderr",
     "output_type": "stream",
     "text": [
      "Processing 833_826.mp4: 100%|██████████| 600/600 [02:10<00:00,  4.61it/s]\n"
     ]
    },
    {
     "name": "stdout",
     "output_type": "stream",
     "text": [
      "Filtered video saved: filtered_videos\\FaceShifter\\833_826.mp4\n"
     ]
    },
    {
     "name": "stderr",
     "output_type": "stream",
     "text": [
      "Processing 834_852.mp4: 100%|██████████| 303/303 [00:13<00:00, 22.93it/s]\n"
     ]
    },
    {
     "name": "stdout",
     "output_type": "stream",
     "text": [
      "Filtered video saved: filtered_videos\\FaceShifter\\834_852.mp4\n"
     ]
    },
    {
     "name": "stderr",
     "output_type": "stream",
     "text": [
      "Processing 835_651.mp4: 100%|██████████| 426/426 [01:35<00:00,  4.45it/s]\n"
     ]
    },
    {
     "name": "stdout",
     "output_type": "stream",
     "text": [
      "Filtered video saved: filtered_videos\\FaceShifter\\835_651.mp4\n"
     ]
    },
    {
     "name": "stderr",
     "output_type": "stream",
     "text": [
      "Processing 836_950.mp4: 100%|██████████| 343/343 [00:40<00:00,  8.57it/s]\n"
     ]
    },
    {
     "name": "stdout",
     "output_type": "stream",
     "text": [
      "Filtered video saved: filtered_videos\\FaceShifter\\836_950.mp4\n"
     ]
    },
    {
     "name": "stderr",
     "output_type": "stream",
     "text": [
      "Processing 837_890.mp4: 100%|██████████| 443/443 [00:44<00:00,  9.97it/s]\n"
     ]
    },
    {
     "name": "stdout",
     "output_type": "stream",
     "text": [
      "Filtered video saved: filtered_videos\\FaceShifter\\837_890.mp4\n"
     ]
    },
    {
     "name": "stderr",
     "output_type": "stream",
     "text": [
      "Processing 838_810.mp4: 100%|██████████| 457/457 [00:46<00:00,  9.76it/s]\n"
     ]
    },
    {
     "name": "stdout",
     "output_type": "stream",
     "text": [
      "Filtered video saved: filtered_videos\\FaceShifter\\838_810.mp4\n"
     ]
    },
    {
     "name": "stderr",
     "output_type": "stream",
     "text": [
      "Processing 839_864.mp4: 100%|██████████| 385/385 [00:16<00:00, 23.88it/s]\n"
     ]
    },
    {
     "name": "stdout",
     "output_type": "stream",
     "text": [
      "Filtered video saved: filtered_videos\\FaceShifter\\839_864.mp4\n"
     ]
    },
    {
     "name": "stderr",
     "output_type": "stream",
     "text": [
      "Processing 840_800.mp4: 100%|██████████| 840/840 [00:43<00:00, 19.36it/s]\n"
     ]
    },
    {
     "name": "stdout",
     "output_type": "stream",
     "text": [
      "Filtered video saved: filtered_videos\\FaceShifter\\840_800.mp4\n"
     ]
    },
    {
     "name": "stderr",
     "output_type": "stream",
     "text": [
      "Processing 841_639.mp4: 100%|██████████| 519/519 [00:29<00:00, 17.64it/s]\n"
     ]
    },
    {
     "name": "stdout",
     "output_type": "stream",
     "text": [
      "Filtered video saved: filtered_videos\\FaceShifter\\841_639.mp4\n"
     ]
    },
    {
     "name": "stderr",
     "output_type": "stream",
     "text": [
      "Processing 842_714.mp4: 100%|██████████| 447/447 [00:21<00:00, 20.84it/s]\n"
     ]
    },
    {
     "name": "stdout",
     "output_type": "stream",
     "text": [
      "Filtered video saved: filtered_videos\\FaceShifter\\842_714.mp4\n"
     ]
    },
    {
     "name": "stderr",
     "output_type": "stream",
     "text": [
      "Processing 843_859.mp4: 100%|██████████| 318/318 [00:16<00:00, 19.02it/s]\n"
     ]
    },
    {
     "name": "stdout",
     "output_type": "stream",
     "text": [
      "Filtered video saved: filtered_videos\\FaceShifter\\843_859.mp4\n"
     ]
    },
    {
     "name": "stderr",
     "output_type": "stream",
     "text": [
      "Processing 844_797.mp4: 100%|██████████| 852/852 [00:33<00:00, 25.09it/s]\n"
     ]
    },
    {
     "name": "stdout",
     "output_type": "stream",
     "text": [
      "Filtered video saved: filtered_videos\\FaceShifter\\844_797.mp4\n"
     ]
    },
    {
     "name": "stderr",
     "output_type": "stream",
     "text": [
      "Processing 845_846.mp4: 100%|██████████| 356/356 [00:20<00:00, 17.52it/s]\n"
     ]
    },
    {
     "name": "stdout",
     "output_type": "stream",
     "text": [
      "Filtered video saved: filtered_videos\\FaceShifter\\845_846.mp4\n"
     ]
    },
    {
     "name": "stderr",
     "output_type": "stream",
     "text": [
      "Processing 846_845.mp4: 100%|██████████| 353/353 [00:16<00:00, 21.20it/s]\n"
     ]
    },
    {
     "name": "stdout",
     "output_type": "stream",
     "text": [
      "Filtered video saved: filtered_videos\\FaceShifter\\846_845.mp4\n"
     ]
    },
    {
     "name": "stderr",
     "output_type": "stream",
     "text": [
      "Processing 847_906.mp4: 100%|██████████| 301/301 [00:30<00:00,  9.90it/s]\n"
     ]
    },
    {
     "name": "stdout",
     "output_type": "stream",
     "text": [
      "Filtered video saved: filtered_videos\\FaceShifter\\847_906.mp4\n"
     ]
    },
    {
     "name": "stderr",
     "output_type": "stream",
     "text": [
      "Processing 848_894.mp4: 100%|██████████| 360/360 [01:22<00:00,  4.39it/s]\n"
     ]
    },
    {
     "name": "stdout",
     "output_type": "stream",
     "text": [
      "Filtered video saved: filtered_videos\\FaceShifter\\848_894.mp4\n"
     ]
    },
    {
     "name": "stderr",
     "output_type": "stream",
     "text": [
      "Processing 849_771.mp4: 100%|██████████| 322/322 [00:14<00:00, 22.94it/s]\n"
     ]
    },
    {
     "name": "stdout",
     "output_type": "stream",
     "text": [
      "Filtered video saved: filtered_videos\\FaceShifter\\849_771.mp4\n"
     ]
    },
    {
     "name": "stderr",
     "output_type": "stream",
     "text": [
      "Processing 850_764.mp4: 100%|██████████| 612/612 [00:31<00:00, 19.64it/s]\n"
     ]
    },
    {
     "name": "stdout",
     "output_type": "stream",
     "text": [
      "Filtered video saved: filtered_videos\\FaceShifter\\850_764.mp4\n"
     ]
    },
    {
     "name": "stderr",
     "output_type": "stream",
     "text": [
      "Processing 851_552.mp4: 100%|██████████| 833/833 [01:27<00:00,  9.51it/s]\n"
     ]
    },
    {
     "name": "stdout",
     "output_type": "stream",
     "text": [
      "Filtered video saved: filtered_videos\\FaceShifter\\851_552.mp4\n"
     ]
    },
    {
     "name": "stderr",
     "output_type": "stream",
     "text": [
      "Processing 852_834.mp4: 100%|██████████| 427/427 [00:15<00:00, 27.36it/s]\n"
     ]
    },
    {
     "name": "stdout",
     "output_type": "stream",
     "text": [
      "Filtered video saved: filtered_videos\\FaceShifter\\852_834.mp4\n"
     ]
    },
    {
     "name": "stderr",
     "output_type": "stream",
     "text": [
      "Processing 853_863.mp4: 100%|██████████| 616/616 [01:12<00:00,  8.53it/s]\n"
     ]
    },
    {
     "name": "stdout",
     "output_type": "stream",
     "text": [
      "Filtered video saved: filtered_videos\\FaceShifter\\853_863.mp4\n"
     ]
    },
    {
     "name": "stderr",
     "output_type": "stream",
     "text": [
      "Processing 854_747.mp4: 100%|██████████| 294/294 [00:30<00:00,  9.60it/s]\n"
     ]
    },
    {
     "name": "stdout",
     "output_type": "stream",
     "text": [
      "Filtered video saved: filtered_videos\\FaceShifter\\854_747.mp4\n"
     ]
    },
    {
     "name": "stderr",
     "output_type": "stream",
     "text": [
      "Processing 855_801.mp4: 100%|██████████| 630/630 [00:27<00:00, 23.30it/s]\n"
     ]
    },
    {
     "name": "stdout",
     "output_type": "stream",
     "text": [
      "Filtered video saved: filtered_videos\\FaceShifter\\855_801.mp4\n"
     ]
    },
    {
     "name": "stderr",
     "output_type": "stream",
     "text": [
      "Processing 856_881.mp4: 100%|██████████| 1103/1103 [02:03<00:00,  8.92it/s]\n"
     ]
    },
    {
     "name": "stdout",
     "output_type": "stream",
     "text": [
      "Filtered video saved: filtered_videos\\FaceShifter\\856_881.mp4\n"
     ]
    },
    {
     "name": "stderr",
     "output_type": "stream",
     "text": [
      "Processing 857_909.mp4: 100%|██████████| 640/640 [00:28<00:00, 22.55it/s]\n"
     ]
    },
    {
     "name": "stdout",
     "output_type": "stream",
     "text": [
      "Filtered video saved: filtered_videos\\FaceShifter\\857_909.mp4\n"
     ]
    },
    {
     "name": "stderr",
     "output_type": "stream",
     "text": [
      "Processing 858_861.mp4: 100%|██████████| 483/483 [00:19<00:00, 24.24it/s]\n"
     ]
    },
    {
     "name": "stdout",
     "output_type": "stream",
     "text": [
      "Filtered video saved: filtered_videos\\FaceShifter\\858_861.mp4\n"
     ]
    },
    {
     "name": "stderr",
     "output_type": "stream",
     "text": [
      "Processing 859_843.mp4: 100%|██████████| 333/333 [00:12<00:00, 25.64it/s]\n"
     ]
    },
    {
     "name": "stdout",
     "output_type": "stream",
     "text": [
      "Filtered video saved: filtered_videos\\FaceShifter\\859_843.mp4\n"
     ]
    },
    {
     "name": "stderr",
     "output_type": "stream",
     "text": [
      "Processing 860_905.mp4: 100%|██████████| 459/459 [01:45<00:00,  4.36it/s]\n"
     ]
    },
    {
     "name": "stdout",
     "output_type": "stream",
     "text": [
      "Filtered video saved: filtered_videos\\FaceShifter\\860_905.mp4\n"
     ]
    },
    {
     "name": "stderr",
     "output_type": "stream",
     "text": [
      "Processing 861_858.mp4: 100%|██████████| 594/594 [00:31<00:00, 18.80it/s]\n"
     ]
    },
    {
     "name": "stdout",
     "output_type": "stream",
     "text": [
      "Filtered video saved: filtered_videos\\FaceShifter\\861_858.mp4\n"
     ]
    },
    {
     "name": "stderr",
     "output_type": "stream",
     "text": [
      "Processing 862_047.mp4: 100%|██████████| 470/470 [00:53<00:00,  8.74it/s]\n"
     ]
    },
    {
     "name": "stdout",
     "output_type": "stream",
     "text": [
      "Filtered video saved: filtered_videos\\FaceShifter\\862_047.mp4\n"
     ]
    },
    {
     "name": "stderr",
     "output_type": "stream",
     "text": [
      "Processing 863_853.mp4: 100%|██████████| 513/513 [01:01<00:00,  8.35it/s]\n"
     ]
    },
    {
     "name": "stdout",
     "output_type": "stream",
     "text": [
      "Filtered video saved: filtered_videos\\FaceShifter\\863_853.mp4\n"
     ]
    },
    {
     "name": "stderr",
     "output_type": "stream",
     "text": [
      "Processing 864_839.mp4: 100%|██████████| 326/326 [00:12<00:00, 27.07it/s]\n"
     ]
    },
    {
     "name": "stdout",
     "output_type": "stream",
     "text": [
      "Filtered video saved: filtered_videos\\FaceShifter\\864_839.mp4\n"
     ]
    },
    {
     "name": "stderr",
     "output_type": "stream",
     "text": [
      "Processing 865_739.mp4: 100%|██████████| 347/347 [01:25<00:00,  4.04it/s]\n"
     ]
    },
    {
     "name": "stdout",
     "output_type": "stream",
     "text": [
      "Filtered video saved: filtered_videos\\FaceShifter\\865_739.mp4\n"
     ]
    },
    {
     "name": "stderr",
     "output_type": "stream",
     "text": [
      "Processing 866_878.mp4: 100%|██████████| 509/509 [01:53<00:00,  4.47it/s]\n"
     ]
    },
    {
     "name": "stdout",
     "output_type": "stream",
     "text": [
      "Filtered video saved: filtered_videos\\FaceShifter\\866_878.mp4\n"
     ]
    },
    {
     "name": "stderr",
     "output_type": "stream",
     "text": [
      "Processing 867_765.mp4: 100%|██████████| 1489/1489 [01:10<00:00, 21.01it/s]\n"
     ]
    },
    {
     "name": "stdout",
     "output_type": "stream",
     "text": [
      "Filtered video saved: filtered_videos\\FaceShifter\\867_765.mp4\n"
     ]
    },
    {
     "name": "stderr",
     "output_type": "stream",
     "text": [
      "Processing 868_949.mp4: 100%|██████████| 431/431 [00:21<00:00, 19.83it/s]\n"
     ]
    },
    {
     "name": "stdout",
     "output_type": "stream",
     "text": [
      "Filtered video saved: filtered_videos\\FaceShifter\\868_949.mp4\n"
     ]
    },
    {
     "name": "stderr",
     "output_type": "stream",
     "text": [
      "Processing 869_780.mp4: 100%|██████████| 333/333 [01:11<00:00,  4.67it/s]\n"
     ]
    },
    {
     "name": "stdout",
     "output_type": "stream",
     "text": [
      "Filtered video saved: filtered_videos\\FaceShifter\\869_780.mp4\n"
     ]
    },
    {
     "name": "stderr",
     "output_type": "stream",
     "text": [
      "Processing 870_001.mp4: 100%|██████████| 604/604 [00:59<00:00, 10.08it/s]\n"
     ]
    },
    {
     "name": "stdout",
     "output_type": "stream",
     "text": [
      "Filtered video saved: filtered_videos\\FaceShifter\\870_001.mp4\n"
     ]
    },
    {
     "name": "stderr",
     "output_type": "stream",
     "text": [
      "Processing 871_814.mp4: 100%|██████████| 348/348 [00:18<00:00, 19.19it/s]\n"
     ]
    },
    {
     "name": "stdout",
     "output_type": "stream",
     "text": [
      "Filtered video saved: filtered_videos\\FaceShifter\\871_814.mp4\n"
     ]
    },
    {
     "name": "stderr",
     "output_type": "stream",
     "text": [
      "Processing 872_873.mp4: 100%|██████████| 474/474 [00:20<00:00, 22.99it/s]\n"
     ]
    },
    {
     "name": "stdout",
     "output_type": "stream",
     "text": [
      "Filtered video saved: filtered_videos\\FaceShifter\\872_873.mp4\n"
     ]
    },
    {
     "name": "stderr",
     "output_type": "stream",
     "text": [
      "Processing 873_872.mp4: 100%|██████████| 884/884 [01:34<00:00,  9.31it/s]\n"
     ]
    },
    {
     "name": "stdout",
     "output_type": "stream",
     "text": [
      "Filtered video saved: filtered_videos\\FaceShifter\\873_872.mp4\n"
     ]
    },
    {
     "name": "stderr",
     "output_type": "stream",
     "text": [
      "Processing 874_291.mp4: 100%|██████████| 469/469 [01:41<00:00,  4.61it/s]\n"
     ]
    },
    {
     "name": "stdout",
     "output_type": "stream",
     "text": [
      "Filtered video saved: filtered_videos\\FaceShifter\\874_291.mp4\n"
     ]
    },
    {
     "name": "stderr",
     "output_type": "stream",
     "text": [
      "Processing 875_979.mp4: 100%|██████████| 422/422 [00:47<00:00,  8.91it/s]\n"
     ]
    },
    {
     "name": "stdout",
     "output_type": "stream",
     "text": [
      "Filtered video saved: filtered_videos\\FaceShifter\\875_979.mp4\n"
     ]
    },
    {
     "name": "stderr",
     "output_type": "stream",
     "text": [
      "Processing 876_891.mp4: 100%|██████████| 313/313 [00:36<00:00,  8.48it/s]\n"
     ]
    },
    {
     "name": "stdout",
     "output_type": "stream",
     "text": [
      "Filtered video saved: filtered_videos\\FaceShifter\\876_891.mp4\n"
     ]
    },
    {
     "name": "stderr",
     "output_type": "stream",
     "text": [
      "Processing 877_886.mp4: 100%|██████████| 570/570 [01:09<00:00,  8.18it/s]\n"
     ]
    },
    {
     "name": "stdout",
     "output_type": "stream",
     "text": [
      "Filtered video saved: filtered_videos\\FaceShifter\\877_886.mp4\n"
     ]
    },
    {
     "name": "stderr",
     "output_type": "stream",
     "text": [
      "Processing 878_866.mp4: 100%|██████████| 736/736 [01:29<00:00,  8.25it/s]\n"
     ]
    },
    {
     "name": "stdout",
     "output_type": "stream",
     "text": [
      "Filtered video saved: filtered_videos\\FaceShifter\\878_866.mp4\n"
     ]
    },
    {
     "name": "stderr",
     "output_type": "stream",
     "text": [
      "Processing 879_963.mp4: 100%|██████████| 839/839 [00:44<00:00, 19.06it/s]\n"
     ]
    },
    {
     "name": "stdout",
     "output_type": "stream",
     "text": [
      "Filtered video saved: filtered_videos\\FaceShifter\\879_963.mp4\n"
     ]
    },
    {
     "name": "stderr",
     "output_type": "stream",
     "text": [
      "Processing 880_135.mp4: 100%|██████████| 435/435 [01:43<00:00,  4.22it/s]\n"
     ]
    },
    {
     "name": "stdout",
     "output_type": "stream",
     "text": [
      "Filtered video saved: filtered_videos\\FaceShifter\\880_135.mp4\n"
     ]
    },
    {
     "name": "stderr",
     "output_type": "stream",
     "text": [
      "Processing 881_856.mp4: 100%|██████████| 638/638 [00:29<00:00, 21.37it/s]\n"
     ]
    },
    {
     "name": "stdout",
     "output_type": "stream",
     "text": [
      "Filtered video saved: filtered_videos\\FaceShifter\\881_856.mp4\n"
     ]
    },
    {
     "name": "stderr",
     "output_type": "stream",
     "text": [
      "Processing 882_952.mp4: 100%|██████████| 333/333 [01:15<00:00,  4.38it/s]\n"
     ]
    },
    {
     "name": "stdout",
     "output_type": "stream",
     "text": [
      "Filtered video saved: filtered_videos\\FaceShifter\\882_952.mp4\n"
     ]
    },
    {
     "name": "stderr",
     "output_type": "stream",
     "text": [
      "Processing 883_013.mp4: 100%|██████████| 433/433 [00:35<00:00, 12.33it/s]\n"
     ]
    },
    {
     "name": "stdout",
     "output_type": "stream",
     "text": [
      "Filtered video saved: filtered_videos\\FaceShifter\\883_013.mp4\n"
     ]
    },
    {
     "name": "stderr",
     "output_type": "stream",
     "text": [
      "Processing 884_968.mp4: 100%|██████████| 343/343 [00:27<00:00, 12.32it/s]\n"
     ]
    },
    {
     "name": "stdout",
     "output_type": "stream",
     "text": [
      "Filtered video saved: filtered_videos\\FaceShifter\\884_968.mp4\n"
     ]
    },
    {
     "name": "stderr",
     "output_type": "stream",
     "text": [
      "Processing 885_802.mp4: 100%|██████████| 329/329 [00:13<00:00, 24.16it/s]\n"
     ]
    },
    {
     "name": "stdout",
     "output_type": "stream",
     "text": [
      "Filtered video saved: filtered_videos\\FaceShifter\\885_802.mp4\n"
     ]
    },
    {
     "name": "stderr",
     "output_type": "stream",
     "text": [
      "Processing 886_877.mp4: 100%|██████████| 525/525 [00:21<00:00, 24.18it/s]\n"
     ]
    },
    {
     "name": "stdout",
     "output_type": "stream",
     "text": [
      "Filtered video saved: filtered_videos\\FaceShifter\\886_877.mp4\n"
     ]
    },
    {
     "name": "stderr",
     "output_type": "stream",
     "text": [
      "Processing 887_275.mp4: 100%|██████████| 339/339 [00:17<00:00, 19.82it/s]\n"
     ]
    },
    {
     "name": "stdout",
     "output_type": "stream",
     "text": [
      "Filtered video saved: filtered_videos\\FaceShifter\\887_275.mp4\n"
     ]
    },
    {
     "name": "stderr",
     "output_type": "stream",
     "text": [
      "Processing 888_937.mp4: 100%|██████████| 307/307 [00:13<00:00, 22.80it/s]\n"
     ]
    },
    {
     "name": "stdout",
     "output_type": "stream",
     "text": [
      "Filtered video saved: filtered_videos\\FaceShifter\\888_937.mp4\n"
     ]
    },
    {
     "name": "stderr",
     "output_type": "stream",
     "text": [
      "Processing 889_045.mp4: 100%|██████████| 329/329 [01:23<00:00,  3.93it/s]\n"
     ]
    },
    {
     "name": "stdout",
     "output_type": "stream",
     "text": [
      "Filtered video saved: filtered_videos\\FaceShifter\\889_045.mp4\n"
     ]
    },
    {
     "name": "stderr",
     "output_type": "stream",
     "text": [
      "Processing 890_837.mp4: 100%|██████████| 341/341 [00:18<00:00, 18.34it/s]\n"
     ]
    },
    {
     "name": "stdout",
     "output_type": "stream",
     "text": [
      "Filtered video saved: filtered_videos\\FaceShifter\\890_837.mp4\n"
     ]
    },
    {
     "name": "stderr",
     "output_type": "stream",
     "text": [
      "Processing 891_876.mp4: 100%|██████████| 296/296 [00:33<00:00,  8.93it/s]\n"
     ]
    },
    {
     "name": "stdout",
     "output_type": "stream",
     "text": [
      "Filtered video saved: filtered_videos\\FaceShifter\\891_876.mp4\n"
     ]
    },
    {
     "name": "stderr",
     "output_type": "stream",
     "text": [
      "Processing 892_112.mp4: 100%|██████████| 311/311 [01:10<00:00,  4.44it/s]\n"
     ]
    },
    {
     "name": "stdout",
     "output_type": "stream",
     "text": [
      "Filtered video saved: filtered_videos\\FaceShifter\\892_112.mp4\n"
     ]
    },
    {
     "name": "stderr",
     "output_type": "stream",
     "text": [
      "Processing 893_913.mp4: 100%|██████████| 537/537 [00:28<00:00, 18.55it/s]\n"
     ]
    },
    {
     "name": "stdout",
     "output_type": "stream",
     "text": [
      "Filtered video saved: filtered_videos\\FaceShifter\\893_913.mp4\n"
     ]
    },
    {
     "name": "stderr",
     "output_type": "stream",
     "text": [
      "Processing 894_848.mp4: 100%|██████████| 328/328 [01:10<00:00,  4.66it/s]\n"
     ]
    },
    {
     "name": "stdout",
     "output_type": "stream",
     "text": [
      "Filtered video saved: filtered_videos\\FaceShifter\\894_848.mp4\n"
     ]
    },
    {
     "name": "stderr",
     "output_type": "stream",
     "text": [
      "Processing 895_915.mp4: 100%|██████████| 294/294 [00:15<00:00, 18.56it/s]\n"
     ]
    },
    {
     "name": "stdout",
     "output_type": "stream",
     "text": [
      "Filtered video saved: filtered_videos\\FaceShifter\\895_915.mp4\n"
     ]
    },
    {
     "name": "stderr",
     "output_type": "stream",
     "text": [
      "Processing 896_128.mp4: 100%|██████████| 531/531 [00:21<00:00, 25.14it/s]\n"
     ]
    },
    {
     "name": "stdout",
     "output_type": "stream",
     "text": [
      "Filtered video saved: filtered_videos\\FaceShifter\\896_128.mp4\n"
     ]
    },
    {
     "name": "stderr",
     "output_type": "stream",
     "text": [
      "Processing 897_969.mp4: 100%|██████████| 333/333 [00:13<00:00, 23.95it/s]\n"
     ]
    },
    {
     "name": "stdout",
     "output_type": "stream",
     "text": [
      "Filtered video saved: filtered_videos\\FaceShifter\\897_969.mp4\n"
     ]
    },
    {
     "name": "stderr",
     "output_type": "stream",
     "text": [
      "Processing 898_922.mp4: 100%|██████████| 349/349 [00:14<00:00, 24.54it/s]\n"
     ]
    },
    {
     "name": "stdout",
     "output_type": "stream",
     "text": [
      "Filtered video saved: filtered_videos\\FaceShifter\\898_922.mp4\n"
     ]
    },
    {
     "name": "stderr",
     "output_type": "stream",
     "text": [
      "Processing 899_914.mp4: 100%|██████████| 560/560 [00:22<00:00, 24.57it/s]\n"
     ]
    },
    {
     "name": "stdout",
     "output_type": "stream",
     "text": [
      "Filtered video saved: filtered_videos\\FaceShifter\\899_914.mp4\n"
     ]
    },
    {
     "name": "stderr",
     "output_type": "stream",
     "text": [
      "Processing 900_926.mp4: 100%|██████████| 341/341 [00:14<00:00, 24.19it/s]\n"
     ]
    },
    {
     "name": "stdout",
     "output_type": "stream",
     "text": [
      "Filtered video saved: filtered_videos\\FaceShifter\\900_926.mp4\n"
     ]
    },
    {
     "name": "stderr",
     "output_type": "stream",
     "text": [
      "Processing 901_902.mp4: 100%|██████████| 523/523 [00:56<00:00,  9.27it/s]\n"
     ]
    },
    {
     "name": "stdout",
     "output_type": "stream",
     "text": [
      "Filtered video saved: filtered_videos\\FaceShifter\\901_902.mp4\n"
     ]
    },
    {
     "name": "stderr",
     "output_type": "stream",
     "text": [
      "Processing 902_901.mp4: 100%|██████████| 295/295 [00:32<00:00,  8.95it/s]\n"
     ]
    },
    {
     "name": "stdout",
     "output_type": "stream",
     "text": [
      "Filtered video saved: filtered_videos\\FaceShifter\\902_901.mp4\n"
     ]
    },
    {
     "name": "stderr",
     "output_type": "stream",
     "text": [
      "Processing 903_792.mp4: 100%|██████████| 567/567 [00:22<00:00, 24.93it/s]\n"
     ]
    },
    {
     "name": "stdout",
     "output_type": "stream",
     "text": [
      "Filtered video saved: filtered_videos\\FaceShifter\\903_792.mp4\n"
     ]
    },
    {
     "name": "stderr",
     "output_type": "stream",
     "text": [
      "Processing 904_046.mp4: 100%|██████████| 359/359 [01:21<00:00,  4.42it/s]\n"
     ]
    },
    {
     "name": "stdout",
     "output_type": "stream",
     "text": [
      "Filtered video saved: filtered_videos\\FaceShifter\\904_046.mp4\n"
     ]
    },
    {
     "name": "stderr",
     "output_type": "stream",
     "text": [
      "Processing 905_860.mp4: 100%|██████████| 382/382 [00:29<00:00, 13.16it/s]\n"
     ]
    },
    {
     "name": "stdout",
     "output_type": "stream",
     "text": [
      "Filtered video saved: filtered_videos\\FaceShifter\\905_860.mp4\n"
     ]
    },
    {
     "name": "stderr",
     "output_type": "stream",
     "text": [
      "Processing 906_847.mp4: 100%|██████████| 389/389 [01:27<00:00,  4.44it/s]\n"
     ]
    },
    {
     "name": "stdout",
     "output_type": "stream",
     "text": [
      "Filtered video saved: filtered_videos\\FaceShifter\\906_847.mp4\n"
     ]
    },
    {
     "name": "stderr",
     "output_type": "stream",
     "text": [
      "Processing 907_795.mp4: 100%|██████████| 525/525 [00:54<00:00,  9.62it/s]\n"
     ]
    },
    {
     "name": "stdout",
     "output_type": "stream",
     "text": [
      "Filtered video saved: filtered_videos\\FaceShifter\\907_795.mp4\n"
     ]
    },
    {
     "name": "stderr",
     "output_type": "stream",
     "text": [
      "Processing 908_207.mp4: 100%|██████████| 667/667 [02:28<00:00,  4.50it/s]\n"
     ]
    },
    {
     "name": "stdout",
     "output_type": "stream",
     "text": [
      "Filtered video saved: filtered_videos\\FaceShifter\\908_207.mp4\n"
     ]
    },
    {
     "name": "stderr",
     "output_type": "stream",
     "text": [
      "Processing 909_857.mp4: 100%|██████████| 637/637 [00:24<00:00, 25.58it/s]\n"
     ]
    },
    {
     "name": "stdout",
     "output_type": "stream",
     "text": [
      "Filtered video saved: filtered_videos\\FaceShifter\\909_857.mp4\n"
     ]
    },
    {
     "name": "stderr",
     "output_type": "stream",
     "text": [
      "Processing 910_911.mp4: 100%|██████████| 292/292 [00:30<00:00,  9.69it/s]\n"
     ]
    },
    {
     "name": "stdout",
     "output_type": "stream",
     "text": [
      "Filtered video saved: filtered_videos\\FaceShifter\\910_911.mp4\n"
     ]
    },
    {
     "name": "stderr",
     "output_type": "stream",
     "text": [
      "Processing 911_910.mp4: 100%|██████████| 329/329 [00:34<00:00,  9.56it/s]\n"
     ]
    },
    {
     "name": "stdout",
     "output_type": "stream",
     "text": [
      "Filtered video saved: filtered_videos\\FaceShifter\\911_910.mp4\n"
     ]
    },
    {
     "name": "stderr",
     "output_type": "stream",
     "text": [
      "Processing 912_927.mp4: 100%|██████████| 647/647 [00:25<00:00, 24.89it/s]\n"
     ]
    },
    {
     "name": "stdout",
     "output_type": "stream",
     "text": [
      "Filtered video saved: filtered_videos\\FaceShifter\\912_927.mp4\n"
     ]
    },
    {
     "name": "stderr",
     "output_type": "stream",
     "text": [
      "Processing 913_893.mp4: 100%|██████████| 634/634 [00:27<00:00, 22.79it/s]\n"
     ]
    },
    {
     "name": "stdout",
     "output_type": "stream",
     "text": [
      "Filtered video saved: filtered_videos\\FaceShifter\\913_893.mp4\n"
     ]
    },
    {
     "name": "stderr",
     "output_type": "stream",
     "text": [
      "Processing 914_899.mp4: 100%|██████████| 307/307 [00:12<00:00, 24.91it/s]\n"
     ]
    },
    {
     "name": "stdout",
     "output_type": "stream",
     "text": [
      "Filtered video saved: filtered_videos\\FaceShifter\\914_899.mp4\n"
     ]
    },
    {
     "name": "stderr",
     "output_type": "stream",
     "text": [
      "Processing 915_895.mp4: 100%|██████████| 352/352 [00:37<00:00,  9.49it/s]\n"
     ]
    },
    {
     "name": "stdout",
     "output_type": "stream",
     "text": [
      "Filtered video saved: filtered_videos\\FaceShifter\\915_895.mp4\n"
     ]
    },
    {
     "name": "stderr",
     "output_type": "stream",
     "text": [
      "Processing 916_783.mp4: 100%|██████████| 484/484 [00:51<00:00,  9.43it/s]\n"
     ]
    },
    {
     "name": "stdout",
     "output_type": "stream",
     "text": [
      "Filtered video saved: filtered_videos\\FaceShifter\\916_783.mp4\n"
     ]
    },
    {
     "name": "stderr",
     "output_type": "stream",
     "text": [
      "Processing 917_924.mp4: 100%|██████████| 448/448 [00:20<00:00, 22.12it/s]\n"
     ]
    },
    {
     "name": "stdout",
     "output_type": "stream",
     "text": [
      "Filtered video saved: filtered_videos\\FaceShifter\\917_924.mp4\n"
     ]
    },
    {
     "name": "stderr",
     "output_type": "stream",
     "text": [
      "Processing 918_934.mp4: 100%|██████████| 472/472 [00:47<00:00,  9.93it/s]\n"
     ]
    },
    {
     "name": "stdout",
     "output_type": "stream",
     "text": [
      "Filtered video saved: filtered_videos\\FaceShifter\\918_934.mp4\n"
     ]
    },
    {
     "name": "stderr",
     "output_type": "stream",
     "text": [
      "Processing 919_015.mp4: 100%|██████████| 534/534 [00:20<00:00, 25.57it/s]\n"
     ]
    },
    {
     "name": "stdout",
     "output_type": "stream",
     "text": [
      "Filtered video saved: filtered_videos\\FaceShifter\\919_015.mp4\n"
     ]
    },
    {
     "name": "stderr",
     "output_type": "stream",
     "text": [
      "Processing 920_811.mp4: 100%|██████████| 371/371 [01:20<00:00,  4.59it/s]\n"
     ]
    },
    {
     "name": "stdout",
     "output_type": "stream",
     "text": [
      "Filtered video saved: filtered_videos\\FaceShifter\\920_811.mp4\n"
     ]
    },
    {
     "name": "stderr",
     "output_type": "stream",
     "text": [
      "Processing 921_569.mp4: 100%|██████████| 296/296 [01:06<00:00,  4.44it/s]\n"
     ]
    },
    {
     "name": "stdout",
     "output_type": "stream",
     "text": [
      "Filtered video saved: filtered_videos\\FaceShifter\\921_569.mp4\n"
     ]
    },
    {
     "name": "stderr",
     "output_type": "stream",
     "text": [
      "Processing 922_898.mp4: 100%|██████████| 616/616 [00:24<00:00, 25.22it/s]\n"
     ]
    },
    {
     "name": "stdout",
     "output_type": "stream",
     "text": [
      "Filtered video saved: filtered_videos\\FaceShifter\\922_898.mp4\n"
     ]
    },
    {
     "name": "stderr",
     "output_type": "stream",
     "text": [
      "Processing 923_023.mp4: 100%|██████████| 602/602 [01:01<00:00,  9.76it/s]\n"
     ]
    },
    {
     "name": "stdout",
     "output_type": "stream",
     "text": [
      "Filtered video saved: filtered_videos\\FaceShifter\\923_023.mp4\n"
     ]
    },
    {
     "name": "stderr",
     "output_type": "stream",
     "text": [
      "Processing 924_917.mp4: 100%|██████████| 1248/1248 [00:49<00:00, 25.29it/s]\n"
     ]
    },
    {
     "name": "stdout",
     "output_type": "stream",
     "text": [
      "Filtered video saved: filtered_videos\\FaceShifter\\924_917.mp4\n"
     ]
    },
    {
     "name": "stderr",
     "output_type": "stream",
     "text": [
      "Processing 925_933.mp4: 100%|██████████| 356/356 [00:40<00:00,  8.84it/s]\n"
     ]
    },
    {
     "name": "stdout",
     "output_type": "stream",
     "text": [
      "Filtered video saved: filtered_videos\\FaceShifter\\925_933.mp4\n"
     ]
    },
    {
     "name": "stderr",
     "output_type": "stream",
     "text": [
      "Processing 926_900.mp4: 100%|██████████| 333/333 [00:12<00:00, 25.67it/s]\n"
     ]
    },
    {
     "name": "stdout",
     "output_type": "stream",
     "text": [
      "Filtered video saved: filtered_videos\\FaceShifter\\926_900.mp4\n"
     ]
    },
    {
     "name": "stderr",
     "output_type": "stream",
     "text": [
      "Processing 927_912.mp4: 100%|██████████| 697/697 [00:29<00:00, 23.95it/s]\n"
     ]
    },
    {
     "name": "stdout",
     "output_type": "stream",
     "text": [
      "Filtered video saved: filtered_videos\\FaceShifter\\927_912.mp4\n"
     ]
    },
    {
     "name": "stderr",
     "output_type": "stream",
     "text": [
      "Processing 928_160.mp4: 100%|██████████| 376/376 [00:39<00:00,  9.57it/s]\n"
     ]
    },
    {
     "name": "stdout",
     "output_type": "stream",
     "text": [
      "Filtered video saved: filtered_videos\\FaceShifter\\928_160.mp4\n"
     ]
    },
    {
     "name": "stderr",
     "output_type": "stream",
     "text": [
      "Processing 929_962.mp4: 100%|██████████| 462/462 [00:19<00:00, 23.78it/s]\n"
     ]
    },
    {
     "name": "stdout",
     "output_type": "stream",
     "text": [
      "Filtered video saved: filtered_videos\\FaceShifter\\929_962.mp4\n"
     ]
    },
    {
     "name": "stderr",
     "output_type": "stream",
     "text": [
      "Processing 930_763.mp4: 100%|██████████| 448/448 [00:19<00:00, 22.42it/s]\n"
     ]
    },
    {
     "name": "stdout",
     "output_type": "stream",
     "text": [
      "Filtered video saved: filtered_videos\\FaceShifter\\930_763.mp4\n"
     ]
    },
    {
     "name": "stderr",
     "output_type": "stream",
     "text": [
      "Processing 931_936.mp4: 100%|██████████| 319/319 [00:13<00:00, 23.73it/s]\n"
     ]
    },
    {
     "name": "stdout",
     "output_type": "stream",
     "text": [
      "Filtered video saved: filtered_videos\\FaceShifter\\931_936.mp4\n"
     ]
    },
    {
     "name": "stderr",
     "output_type": "stream",
     "text": [
      "Processing 932_384.mp4: 100%|██████████| 484/484 [00:52<00:00,  9.14it/s]\n"
     ]
    },
    {
     "name": "stdout",
     "output_type": "stream",
     "text": [
      "Filtered video saved: filtered_videos\\FaceShifter\\932_384.mp4\n"
     ]
    },
    {
     "name": "stderr",
     "output_type": "stream",
     "text": [
      "Processing 933_925.mp4: 100%|██████████| 494/494 [00:48<00:00, 10.16it/s]\n"
     ]
    },
    {
     "name": "stdout",
     "output_type": "stream",
     "text": [
      "Filtered video saved: filtered_videos\\FaceShifter\\933_925.mp4\n"
     ]
    },
    {
     "name": "stderr",
     "output_type": "stream",
     "text": [
      "Processing 934_918.mp4: 100%|██████████| 377/377 [00:40<00:00,  9.31it/s]\n"
     ]
    },
    {
     "name": "stdout",
     "output_type": "stream",
     "text": [
      "Filtered video saved: filtered_videos\\FaceShifter\\934_918.mp4\n"
     ]
    },
    {
     "name": "stderr",
     "output_type": "stream",
     "text": [
      "Processing 935_733.mp4: 100%|██████████| 540/540 [02:06<00:00,  4.27it/s]\n"
     ]
    },
    {
     "name": "stdout",
     "output_type": "stream",
     "text": [
      "Filtered video saved: filtered_videos\\FaceShifter\\935_733.mp4\n"
     ]
    },
    {
     "name": "stderr",
     "output_type": "stream",
     "text": [
      "Processing 936_931.mp4: 100%|██████████| 297/297 [00:13<00:00, 22.52it/s]\n"
     ]
    },
    {
     "name": "stdout",
     "output_type": "stream",
     "text": [
      "Filtered video saved: filtered_videos\\FaceShifter\\936_931.mp4\n"
     ]
    },
    {
     "name": "stderr",
     "output_type": "stream",
     "text": [
      "Processing 937_888.mp4: 100%|██████████| 455/455 [00:19<00:00, 23.08it/s]\n"
     ]
    },
    {
     "name": "stdout",
     "output_type": "stream",
     "text": [
      "Filtered video saved: filtered_videos\\FaceShifter\\937_888.mp4\n"
     ]
    },
    {
     "name": "stderr",
     "output_type": "stream",
     "text": [
      "Processing 938_987.mp4: 100%|██████████| 369/369 [00:16<00:00, 22.79it/s]\n"
     ]
    },
    {
     "name": "stdout",
     "output_type": "stream",
     "text": [
      "Filtered video saved: filtered_videos\\FaceShifter\\938_987.mp4\n"
     ]
    },
    {
     "name": "stderr",
     "output_type": "stream",
     "text": [
      "Processing 939_115.mp4: 100%|██████████| 511/511 [00:20<00:00, 24.37it/s]\n"
     ]
    },
    {
     "name": "stdout",
     "output_type": "stream",
     "text": [
      "Filtered video saved: filtered_videos\\FaceShifter\\939_115.mp4\n"
     ]
    },
    {
     "name": "stderr",
     "output_type": "stream",
     "text": [
      "Processing 940_941.mp4: 100%|██████████| 309/309 [00:13<00:00, 23.57it/s]\n"
     ]
    },
    {
     "name": "stdout",
     "output_type": "stream",
     "text": [
      "Filtered video saved: filtered_videos\\FaceShifter\\940_941.mp4\n"
     ]
    },
    {
     "name": "stderr",
     "output_type": "stream",
     "text": [
      "Processing 941_940.mp4: 100%|██████████| 494/494 [00:27<00:00, 17.96it/s]\n"
     ]
    },
    {
     "name": "stdout",
     "output_type": "stream",
     "text": [
      "Filtered video saved: filtered_videos\\FaceShifter\\941_940.mp4\n"
     ]
    },
    {
     "name": "stderr",
     "output_type": "stream",
     "text": [
      "Processing 942_943.mp4: 100%|██████████| 495/495 [00:53<00:00,  9.19it/s]\n"
     ]
    },
    {
     "name": "stdout",
     "output_type": "stream",
     "text": [
      "Filtered video saved: filtered_videos\\FaceShifter\\942_943.mp4\n"
     ]
    },
    {
     "name": "stderr",
     "output_type": "stream",
     "text": [
      "Processing 943_942.mp4: 100%|██████████| 470/470 [00:49<00:00,  9.56it/s]\n"
     ]
    },
    {
     "name": "stdout",
     "output_type": "stream",
     "text": [
      "Filtered video saved: filtered_videos\\FaceShifter\\943_942.mp4\n"
     ]
    },
    {
     "name": "stderr",
     "output_type": "stream",
     "text": [
      "Processing 944_032.mp4: 100%|██████████| 342/342 [00:15<00:00, 21.67it/s]\n"
     ]
    },
    {
     "name": "stdout",
     "output_type": "stream",
     "text": [
      "Filtered video saved: filtered_videos\\FaceShifter\\944_032.mp4\n"
     ]
    },
    {
     "name": "stderr",
     "output_type": "stream",
     "text": [
      "Processing 945_044.mp4: 100%|██████████| 761/761 [01:18<00:00,  9.68it/s]\n"
     ]
    },
    {
     "name": "stdout",
     "output_type": "stream",
     "text": [
      "Filtered video saved: filtered_videos\\FaceShifter\\945_044.mp4\n"
     ]
    },
    {
     "name": "stderr",
     "output_type": "stream",
     "text": [
      "Processing 946_049.mp4: 100%|██████████| 462/462 [00:51<00:00,  8.91it/s]\n"
     ]
    },
    {
     "name": "stdout",
     "output_type": "stream",
     "text": [
      "Filtered video saved: filtered_videos\\FaceShifter\\946_049.mp4\n"
     ]
    },
    {
     "name": "stderr",
     "output_type": "stream",
     "text": [
      "Processing 947_951.mp4: 100%|██████████| 641/641 [01:11<00:00,  8.95it/s]\n"
     ]
    },
    {
     "name": "stdout",
     "output_type": "stream",
     "text": [
      "Filtered video saved: filtered_videos\\FaceShifter\\947_951.mp4\n"
     ]
    },
    {
     "name": "stderr",
     "output_type": "stream",
     "text": [
      "Processing 948_965.mp4: 100%|██████████| 434/434 [01:52<00:00,  3.85it/s]\n"
     ]
    },
    {
     "name": "stdout",
     "output_type": "stream",
     "text": [
      "Filtered video saved: filtered_videos\\FaceShifter\\948_965.mp4\n"
     ]
    },
    {
     "name": "stderr",
     "output_type": "stream",
     "text": [
      "Processing 949_868.mp4: 100%|██████████| 686/686 [00:27<00:00, 24.85it/s]\n"
     ]
    },
    {
     "name": "stdout",
     "output_type": "stream",
     "text": [
      "Filtered video saved: filtered_videos\\FaceShifter\\949_868.mp4\n"
     ]
    },
    {
     "name": "stderr",
     "output_type": "stream",
     "text": [
      "Processing 950_836.mp4: 100%|██████████| 763/763 [03:00<00:00,  4.22it/s]\n"
     ]
    },
    {
     "name": "stdout",
     "output_type": "stream",
     "text": [
      "Filtered video saved: filtered_videos\\FaceShifter\\950_836.mp4\n"
     ]
    },
    {
     "name": "stderr",
     "output_type": "stream",
     "text": [
      "Processing 951_947.mp4: 100%|██████████| 1176/1176 [02:01<00:00,  9.71it/s]\n"
     ]
    },
    {
     "name": "stdout",
     "output_type": "stream",
     "text": [
      "Filtered video saved: filtered_videos\\FaceShifter\\951_947.mp4\n"
     ]
    },
    {
     "name": "stderr",
     "output_type": "stream",
     "text": [
      "Processing 952_882.mp4: 100%|██████████| 700/700 [01:19<00:00,  8.83it/s]\n"
     ]
    },
    {
     "name": "stdout",
     "output_type": "stream",
     "text": [
      "Filtered video saved: filtered_videos\\FaceShifter\\952_882.mp4\n"
     ]
    },
    {
     "name": "stderr",
     "output_type": "stream",
     "text": [
      "Processing 953_974.mp4: 100%|██████████| 351/351 [00:40<00:00,  8.73it/s]\n"
     ]
    },
    {
     "name": "stdout",
     "output_type": "stream",
     "text": [
      "Filtered video saved: filtered_videos\\FaceShifter\\953_974.mp4\n"
     ]
    },
    {
     "name": "stderr",
     "output_type": "stream",
     "text": [
      "Processing 954_976.mp4: 100%|██████████| 376/376 [00:16<00:00, 23.45it/s]\n"
     ]
    },
    {
     "name": "stdout",
     "output_type": "stream",
     "text": [
      "Filtered video saved: filtered_videos\\FaceShifter\\954_976.mp4\n"
     ]
    },
    {
     "name": "stderr",
     "output_type": "stream",
     "text": [
      "Processing 955_078.mp4: 100%|██████████| 531/531 [00:20<00:00, 25.43it/s]\n"
     ]
    },
    {
     "name": "stdout",
     "output_type": "stream",
     "text": [
      "Filtered video saved: filtered_videos\\FaceShifter\\955_078.mp4\n"
     ]
    },
    {
     "name": "stderr",
     "output_type": "stream",
     "text": [
      "Processing 956_958.mp4: 100%|██████████| 542/542 [00:30<00:00, 17.52it/s]\n"
     ]
    },
    {
     "name": "stdout",
     "output_type": "stream",
     "text": [
      "Filtered video saved: filtered_videos\\FaceShifter\\956_958.mp4\n"
     ]
    },
    {
     "name": "stderr",
     "output_type": "stream",
     "text": [
      "Processing 957_959.mp4: 100%|██████████| 418/418 [01:42<00:00,  4.09it/s]\n"
     ]
    },
    {
     "name": "stdout",
     "output_type": "stream",
     "text": [
      "Filtered video saved: filtered_videos\\FaceShifter\\957_959.mp4\n"
     ]
    },
    {
     "name": "stderr",
     "output_type": "stream",
     "text": [
      "Processing 958_956.mp4: 100%|██████████| 392/392 [00:17<00:00, 23.05it/s]\n"
     ]
    },
    {
     "name": "stdout",
     "output_type": "stream",
     "text": [
      "Filtered video saved: filtered_videos\\FaceShifter\\958_956.mp4\n"
     ]
    },
    {
     "name": "stderr",
     "output_type": "stream",
     "text": [
      "Processing 959_957.mp4: 100%|██████████| 482/482 [01:42<00:00,  4.70it/s]\n"
     ]
    },
    {
     "name": "stdout",
     "output_type": "stream",
     "text": [
      "Filtered video saved: filtered_videos\\FaceShifter\\959_957.mp4\n"
     ]
    },
    {
     "name": "stderr",
     "output_type": "stream",
     "text": [
      "Processing 960_999.mp4: 100%|██████████| 345/345 [00:36<00:00,  9.42it/s]\n"
     ]
    },
    {
     "name": "stdout",
     "output_type": "stream",
     "text": [
      "Filtered video saved: filtered_videos\\FaceShifter\\960_999.mp4\n"
     ]
    },
    {
     "name": "stderr",
     "output_type": "stream",
     "text": [
      "Processing 961_069.mp4: 100%|██████████| 323/323 [00:32<00:00,  9.83it/s]\n"
     ]
    },
    {
     "name": "stdout",
     "output_type": "stream",
     "text": [
      "Filtered video saved: filtered_videos\\FaceShifter\\961_069.mp4\n"
     ]
    },
    {
     "name": "stderr",
     "output_type": "stream",
     "text": [
      "Processing 962_929.mp4: 100%|██████████| 460/460 [00:16<00:00, 27.08it/s]\n"
     ]
    },
    {
     "name": "stdout",
     "output_type": "stream",
     "text": [
      "Filtered video saved: filtered_videos\\FaceShifter\\962_929.mp4\n"
     ]
    },
    {
     "name": "stderr",
     "output_type": "stream",
     "text": [
      "Processing 963_879.mp4: 100%|██████████| 692/692 [00:34<00:00, 19.92it/s]\n"
     ]
    },
    {
     "name": "stdout",
     "output_type": "stream",
     "text": [
      "Filtered video saved: filtered_videos\\FaceShifter\\963_879.mp4\n"
     ]
    },
    {
     "name": "stderr",
     "output_type": "stream",
     "text": [
      "Processing 964_174.mp4: 100%|██████████| 451/451 [00:22<00:00, 20.44it/s]\n"
     ]
    },
    {
     "name": "stdout",
     "output_type": "stream",
     "text": [
      "Filtered video saved: filtered_videos\\FaceShifter\\964_174.mp4\n"
     ]
    },
    {
     "name": "stderr",
     "output_type": "stream",
     "text": [
      "Processing 965_948.mp4: 100%|██████████| 348/348 [01:17<00:00,  4.50it/s]\n"
     ]
    },
    {
     "name": "stdout",
     "output_type": "stream",
     "text": [
      "Filtered video saved: filtered_videos\\FaceShifter\\965_948.mp4\n"
     ]
    },
    {
     "name": "stderr",
     "output_type": "stream",
     "text": [
      "Processing 966_988.mp4: 100%|██████████| 364/364 [00:14<00:00, 24.63it/s]\n"
     ]
    },
    {
     "name": "stdout",
     "output_type": "stream",
     "text": [
      "Filtered video saved: filtered_videos\\FaceShifter\\966_988.mp4\n"
     ]
    },
    {
     "name": "stderr",
     "output_type": "stream",
     "text": [
      "Processing 967_984.mp4: 100%|██████████| 412/412 [00:43<00:00,  9.45it/s]\n"
     ]
    },
    {
     "name": "stdout",
     "output_type": "stream",
     "text": [
      "Filtered video saved: filtered_videos\\FaceShifter\\967_984.mp4\n"
     ]
    },
    {
     "name": "stderr",
     "output_type": "stream",
     "text": [
      "Processing 968_884.mp4: 100%|██████████| 300/300 [00:32<00:00,  9.21it/s]\n"
     ]
    },
    {
     "name": "stdout",
     "output_type": "stream",
     "text": [
      "Filtered video saved: filtered_videos\\FaceShifter\\968_884.mp4\n"
     ]
    },
    {
     "name": "stderr",
     "output_type": "stream",
     "text": [
      "Processing 969_897.mp4: 100%|██████████| 356/356 [00:16<00:00, 21.53it/s]\n"
     ]
    },
    {
     "name": "stdout",
     "output_type": "stream",
     "text": [
      "Filtered video saved: filtered_videos\\FaceShifter\\969_897.mp4\n"
     ]
    },
    {
     "name": "stderr",
     "output_type": "stream",
     "text": [
      "Processing 970_973.mp4: 100%|██████████| 476/476 [00:19<00:00, 24.04it/s]\n"
     ]
    },
    {
     "name": "stdout",
     "output_type": "stream",
     "text": [
      "Filtered video saved: filtered_videos\\FaceShifter\\970_973.mp4\n"
     ]
    },
    {
     "name": "stderr",
     "output_type": "stream",
     "text": [
      "Processing 971_564.mp4: 100%|██████████| 354/354 [01:27<00:00,  4.03it/s]\n"
     ]
    },
    {
     "name": "stdout",
     "output_type": "stream",
     "text": [
      "Filtered video saved: filtered_videos\\FaceShifter\\971_564.mp4\n"
     ]
    },
    {
     "name": "stderr",
     "output_type": "stream",
     "text": [
      "Processing 972_718.mp4: 100%|██████████| 311/311 [01:09<00:00,  4.50it/s]\n"
     ]
    },
    {
     "name": "stdout",
     "output_type": "stream",
     "text": [
      "Filtered video saved: filtered_videos\\FaceShifter\\972_718.mp4\n"
     ]
    },
    {
     "name": "stderr",
     "output_type": "stream",
     "text": [
      "Processing 973_970.mp4: 100%|██████████| 533/533 [00:22<00:00, 24.07it/s]\n"
     ]
    },
    {
     "name": "stdout",
     "output_type": "stream",
     "text": [
      "Filtered video saved: filtered_videos\\FaceShifter\\973_970.mp4\n"
     ]
    },
    {
     "name": "stderr",
     "output_type": "stream",
     "text": [
      "Processing 974_953.mp4: 100%|██████████| 318/318 [00:12<00:00, 25.61it/s]\n"
     ]
    },
    {
     "name": "stdout",
     "output_type": "stream",
     "text": [
      "Filtered video saved: filtered_videos\\FaceShifter\\974_953.mp4\n"
     ]
    },
    {
     "name": "stderr",
     "output_type": "stream",
     "text": [
      "Processing 975_978.mp4: 100%|██████████| 304/304 [00:36<00:00,  8.39it/s]\n"
     ]
    },
    {
     "name": "stdout",
     "output_type": "stream",
     "text": [
      "Filtered video saved: filtered_videos\\FaceShifter\\975_978.mp4\n"
     ]
    },
    {
     "name": "stderr",
     "output_type": "stream",
     "text": [
      "Processing 976_954.mp4: 100%|██████████| 328/328 [00:19<00:00, 17.14it/s]\n"
     ]
    },
    {
     "name": "stdout",
     "output_type": "stream",
     "text": [
      "Filtered video saved: filtered_videos\\FaceShifter\\976_954.mp4\n"
     ]
    },
    {
     "name": "stderr",
     "output_type": "stream",
     "text": [
      "Processing 977_075.mp4: 100%|██████████| 651/651 [00:37<00:00, 17.26it/s]\n"
     ]
    },
    {
     "name": "stdout",
     "output_type": "stream",
     "text": [
      "Filtered video saved: filtered_videos\\FaceShifter\\977_075.mp4\n"
     ]
    },
    {
     "name": "stderr",
     "output_type": "stream",
     "text": [
      "Processing 978_975.mp4: 100%|██████████| 757/757 [01:25<00:00,  8.87it/s]\n"
     ]
    },
    {
     "name": "stdout",
     "output_type": "stream",
     "text": [
      "Filtered video saved: filtered_videos\\FaceShifter\\978_975.mp4\n"
     ]
    },
    {
     "name": "stderr",
     "output_type": "stream",
     "text": [
      "Processing 979_875.mp4: 100%|██████████| 335/335 [00:36<00:00,  9.16it/s]\n"
     ]
    },
    {
     "name": "stdout",
     "output_type": "stream",
     "text": [
      "Filtered video saved: filtered_videos\\FaceShifter\\979_875.mp4\n"
     ]
    },
    {
     "name": "stderr",
     "output_type": "stream",
     "text": [
      "Processing 980_992.mp4: 100%|██████████| 383/383 [00:17<00:00, 22.21it/s]\n"
     ]
    },
    {
     "name": "stdout",
     "output_type": "stream",
     "text": [
      "Filtered video saved: filtered_videos\\FaceShifter\\980_992.mp4\n"
     ]
    },
    {
     "name": "stderr",
     "output_type": "stream",
     "text": [
      "Processing 981_985.mp4: 100%|██████████| 372/372 [00:15<00:00, 24.10it/s]\n"
     ]
    },
    {
     "name": "stdout",
     "output_type": "stream",
     "text": [
      "Filtered video saved: filtered_videos\\FaceShifter\\981_985.mp4\n"
     ]
    },
    {
     "name": "stderr",
     "output_type": "stream",
     "text": [
      "Processing 982_004.mp4: 100%|██████████| 845/845 [00:45<00:00, 18.62it/s]\n"
     ]
    },
    {
     "name": "stdout",
     "output_type": "stream",
     "text": [
      "Filtered video saved: filtered_videos\\FaceShifter\\982_004.mp4\n"
     ]
    },
    {
     "name": "stderr",
     "output_type": "stream",
     "text": [
      "Processing 983_113.mp4: 100%|██████████| 406/406 [00:25<00:00, 16.13it/s]\n"
     ]
    },
    {
     "name": "stdout",
     "output_type": "stream",
     "text": [
      "Filtered video saved: filtered_videos\\FaceShifter\\983_113.mp4\n"
     ]
    },
    {
     "name": "stderr",
     "output_type": "stream",
     "text": [
      "Processing 984_967.mp4: 100%|██████████| 339/339 [00:37<00:00,  8.93it/s]\n"
     ]
    },
    {
     "name": "stdout",
     "output_type": "stream",
     "text": [
      "Filtered video saved: filtered_videos\\FaceShifter\\984_967.mp4\n"
     ]
    },
    {
     "name": "stderr",
     "output_type": "stream",
     "text": [
      "Processing 985_981.mp4: 100%|██████████| 343/343 [00:14<00:00, 23.66it/s]\n"
     ]
    },
    {
     "name": "stdout",
     "output_type": "stream",
     "text": [
      "Filtered video saved: filtered_videos\\FaceShifter\\985_981.mp4\n"
     ]
    },
    {
     "name": "stderr",
     "output_type": "stream",
     "text": [
      "Processing 986_994.mp4: 100%|██████████| 828/828 [01:20<00:00, 10.27it/s]\n"
     ]
    },
    {
     "name": "stdout",
     "output_type": "stream",
     "text": [
      "Filtered video saved: filtered_videos\\FaceShifter\\986_994.mp4\n"
     ]
    },
    {
     "name": "stderr",
     "output_type": "stream",
     "text": [
      "Processing 987_938.mp4: 100%|██████████| 575/575 [00:23<00:00, 24.89it/s]\n"
     ]
    },
    {
     "name": "stdout",
     "output_type": "stream",
     "text": [
      "Filtered video saved: filtered_videos\\FaceShifter\\987_938.mp4\n"
     ]
    },
    {
     "name": "stderr",
     "output_type": "stream",
     "text": [
      "Processing 988_966.mp4: 100%|██████████| 455/455 [00:17<00:00, 25.42it/s]\n"
     ]
    },
    {
     "name": "stdout",
     "output_type": "stream",
     "text": [
      "Filtered video saved: filtered_videos\\FaceShifter\\988_966.mp4\n"
     ]
    },
    {
     "name": "stderr",
     "output_type": "stream",
     "text": [
      "Processing 989_993.mp4: 100%|██████████| 960/960 [00:46<00:00, 20.78it/s]\n"
     ]
    },
    {
     "name": "stdout",
     "output_type": "stream",
     "text": [
      "Filtered video saved: filtered_videos\\FaceShifter\\989_993.mp4\n"
     ]
    },
    {
     "name": "stderr",
     "output_type": "stream",
     "text": [
      "Processing 990_008.mp4: 100%|██████████| 305/305 [00:18<00:00, 16.74it/s]\n"
     ]
    },
    {
     "name": "stdout",
     "output_type": "stream",
     "text": [
      "Filtered video saved: filtered_videos\\FaceShifter\\990_008.mp4\n"
     ]
    },
    {
     "name": "stderr",
     "output_type": "stream",
     "text": [
      "Processing 991_064.mp4: 100%|██████████| 402/402 [00:14<00:00, 26.85it/s]\n"
     ]
    },
    {
     "name": "stdout",
     "output_type": "stream",
     "text": [
      "Filtered video saved: filtered_videos\\FaceShifter\\991_064.mp4\n"
     ]
    },
    {
     "name": "stderr",
     "output_type": "stream",
     "text": [
      "Processing 992_980.mp4: 100%|██████████| 718/718 [00:28<00:00, 25.49it/s]\n"
     ]
    },
    {
     "name": "stdout",
     "output_type": "stream",
     "text": [
      "Filtered video saved: filtered_videos\\FaceShifter\\992_980.mp4\n"
     ]
    },
    {
     "name": "stderr",
     "output_type": "stream",
     "text": [
      "Processing 993_989.mp4: 100%|██████████| 409/409 [00:17<00:00, 23.76it/s]\n"
     ]
    },
    {
     "name": "stdout",
     "output_type": "stream",
     "text": [
      "Filtered video saved: filtered_videos\\FaceShifter\\993_989.mp4\n"
     ]
    },
    {
     "name": "stderr",
     "output_type": "stream",
     "text": [
      "Processing 994_986.mp4: 100%|██████████| 316/316 [00:13<00:00, 23.99it/s]\n"
     ]
    },
    {
     "name": "stdout",
     "output_type": "stream",
     "text": [
      "Filtered video saved: filtered_videos\\FaceShifter\\994_986.mp4\n"
     ]
    },
    {
     "name": "stderr",
     "output_type": "stream",
     "text": [
      "Processing 995_233.mp4: 100%|██████████| 548/548 [00:22<00:00, 23.86it/s]\n"
     ]
    },
    {
     "name": "stdout",
     "output_type": "stream",
     "text": [
      "Filtered video saved: filtered_videos\\FaceShifter\\995_233.mp4\n"
     ]
    },
    {
     "name": "stderr",
     "output_type": "stream",
     "text": [
      "Processing 996_056.mp4: 100%|██████████| 312/312 [00:14<00:00, 22.18it/s]\n"
     ]
    },
    {
     "name": "stdout",
     "output_type": "stream",
     "text": [
      "Filtered video saved: filtered_videos\\FaceShifter\\996_056.mp4\n"
     ]
    },
    {
     "name": "stderr",
     "output_type": "stream",
     "text": [
      "Processing 997_040.mp4: 100%|██████████| 438/438 [00:17<00:00, 25.32it/s]\n"
     ]
    },
    {
     "name": "stdout",
     "output_type": "stream",
     "text": [
      "Filtered video saved: filtered_videos\\FaceShifter\\997_040.mp4\n"
     ]
    },
    {
     "name": "stderr",
     "output_type": "stream",
     "text": [
      "Processing 998_561.mp4: 100%|██████████| 344/344 [00:36<00:00,  9.41it/s]\n"
     ]
    },
    {
     "name": "stdout",
     "output_type": "stream",
     "text": [
      "Filtered video saved: filtered_videos\\FaceShifter\\998_561.mp4\n"
     ]
    },
    {
     "name": "stderr",
     "output_type": "stream",
     "text": [
      "Processing 999_960.mp4: 100%|██████████| 335/335 [00:14<00:00, 22.63it/s]\n"
     ]
    },
    {
     "name": "stdout",
     "output_type": "stream",
     "text": [
      "Filtered video saved: filtered_videos\\FaceShifter\\999_960.mp4\n"
     ]
    }
   ],
   "source": [
    "import cv2\n",
    "import cupy as cp\n",
    "import numpy as np\n",
    "import os\n",
    "from tqdm import tqdm\n",
    "\n",
    "original_folder = \"...\"\n",
    "output_folder = \"filtered_videos\"\n",
    "\n",
    "def create_output_dirs():\n",
    "    os.makedirs(output_folder, exist_ok=True)\n",
    "    os.makedirs(os.path.join(output_folder, \"...\"), exist_ok=True)\n",
    "\n",
    "def apply_low_pass_filter_gpu(img_batch, cutoff=45):\n",
    "    batch_size, height, width, _ = img_batch.shape\n",
    "    filtered_batch = []\n",
    "\n",
    "    for img in img_batch:\n",
    "        gray = cv2.cvtColor(img, cv2.COLOR_BGR2GRAY)\n",
    "        gray_gpu = cp.asarray(gray)\n",
    "\n",
    "        dft = cp.fft.fft2(gray_gpu)\n",
    "        dft_shift = cp.fft.fftshift(dft)\n",
    "\n",
    "        crow, ccol = height // 2, width // 2\n",
    "        mask = cp.zeros((height, width), dtype=cp.float32)\n",
    "        y, x = cp.ogrid[:height, :width]\n",
    "        mask_area = (x - ccol)**2 + (y - crow)**2 <= cutoff**2\n",
    "        mask[mask_area] = 1\n",
    "\n",
    "        filtered_dft = dft_shift * mask\n",
    "        f_ishift = cp.fft.ifftshift(filtered_dft)\n",
    "        img_back = cp.fft.ifft2(f_ishift)\n",
    "        img_back = cp.abs(img_back)\n",
    "\n",
    "        img_back = cp.asnumpy(img_back)\n",
    "        img_back = cv2.normalize(img_back, None, 0, 255, cv2.NORM_MINMAX)\n",
    "        img_back = np.uint8(img_back)\n",
    "        filtered_batch.append(cv2.cvtColor(img_back, cv2.COLOR_GRAY2BGR))\n",
    "\n",
    "    return np.array(filtered_batch)\n",
    "\n",
    "def process_video(input_video_path, output_video_path, cutoff=45, batch_size=16):\n",
    "    cap = cv2.VideoCapture(input_video_path)\n",
    "    if not cap.isOpened():\n",
    "        print(f\"Error: Could not open {input_video_path}\")\n",
    "        return\n",
    "\n",
    "    fps = int(cap.get(cv2.CAP_PROP_FPS))\n",
    "    width = int(cap.get(cv2.CAP_PROP_FRAME_WIDTH))\n",
    "    height = int(cap.get(cv2.CAP_PROP_FRAME_HEIGHT))\n",
    "    fourcc = cv2.VideoWriter_fourcc(*'XVID')\n",
    "\n",
    "    out = cv2.VideoWriter(output_video_path, fourcc, fps, (width, height))\n",
    "    frame_count = int(cap.get(cv2.CAP_PROP_FRAME_COUNT))\n",
    "\n",
    "    frames = []\n",
    "    for _ in tqdm(range(frame_count), desc=f\"Processing {os.path.basename(input_video_path)}\"):\n",
    "        ret, frame = cap.read()\n",
    "        if not ret:\n",
    "            break\n",
    "        frames.append(frame)\n",
    "\n",
    "        if len(frames) == batch_size:\n",
    "            filtered_frames = apply_low_pass_filter_gpu(np.array(frames), cutoff)\n",
    "            for filtered_frame in filtered_frames:\n",
    "                out.write(filtered_frame)\n",
    "            frames = []\n",
    "\n",
    "    if frames:\n",
    "        filtered_frames = apply_low_pass_filter_gpu(np.array(frames), cutoff)\n",
    "        for filtered_frame in filtered_frames:\n",
    "            out.write(filtered_frame)\n",
    "\n",
    "    cap.release()\n",
    "    out.release()\n",
    "    print(f\"Filtered video saved: {output_video_path}\")\n",
    "\n",
    "def main(cutoff=45, batch_size=16):\n",
    "    create_output_dirs()\n",
    "    print(\"Processing Videos...\")\n",
    "    for file in os.listdir(original_folder):\n",
    "        if file.endswith(('.mp4', '.avi', '.mov')):\n",
    "            input_video_path = os.path.join(original_folder, file)\n",
    "            output_video_path = os.path.join(output_folder, \"...\", f\"{file}\")\n",
    "            process_video(input_video_path, output_video_path, cutoff=cutoff, batch_size=batch_size)\n",
    "\n",
    "if __name__ == \"__main__\":\n",
    "    main(cutoff=45, batch_size=16)\n"
   ]
  }
 ],
 "metadata": {
  "kernelspec": {
   "display_name": "Python 3",
   "language": "python",
   "name": "python3"
  },
  "language_info": {
   "codemirror_mode": {
    "name": "ipython",
    "version": 3
   },
   "file_extension": ".py",
   "mimetype": "text/x-python",
   "name": "python",
   "nbconvert_exporter": "python",
   "pygments_lexer": "ipython3",
   "version": "3.9.13"
  }
 },
 "nbformat": 4,
 "nbformat_minor": 2
}
