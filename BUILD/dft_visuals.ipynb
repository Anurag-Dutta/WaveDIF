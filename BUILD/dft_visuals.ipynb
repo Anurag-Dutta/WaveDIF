{
 "cells": [
  {
   "cell_type": "code",
   "execution_count": null,
   "metadata": {},
   "outputs": [
    {
     "name": "stderr",
     "output_type": "stream",
     "text": [
      "Processing Videos: 100%|██████████| 1000/1000 [3:11:18<00:00, 11.48s/it] \n"
     ]
    }
   ],
   "source": [
    "import os\n",
    "import cv2\n",
    "import numpy as np\n",
    "from tqdm import tqdm\n",
    "\n",
    "input_folder = os.path.join(os.getcwd(), \"...\")\n",
    "output_folder = os.path.join(os.getcwd(), \"..._dft_images\")\n",
    "\n",
    "os.makedirs(output_folder, exist_ok=True)\n",
    "\n",
    "FRAME_SIZE = (256, 256)\n",
    "\n",
    "def process_video(video_path, output_folder):\n",
    "    cap = cv2.VideoCapture(video_path)\n",
    "    frame_count = 0\n",
    "    sum_dft = None\n",
    "\n",
    "    while cap.isOpened():\n",
    "        ret, frame = cap.read()\n",
    "        if not ret:\n",
    "            break\n",
    "\n",
    "        gray_frame = cv2.cvtColor(frame, cv2.COLOR_BGR2GRAY)\n",
    "        resized_frame = cv2.resize(gray_frame, FRAME_SIZE, interpolation=cv2.INTER_AREA)\n",
    "\n",
    "        dft = cv2.dft(np.float32(resized_frame), flags=cv2.DFT_COMPLEX_OUTPUT)\n",
    "        dft_shift = np.fft.fftshift(dft)\n",
    "        magnitude_spectrum = np.log1p(cv2.magnitude(dft_shift[:, :, 0], dft_shift[:, :, 1]))\n",
    "\n",
    "        if sum_dft is None:\n",
    "            sum_dft = magnitude_spectrum\n",
    "        else:\n",
    "            sum_dft += magnitude_spectrum\n",
    "\n",
    "        frame_count += 1\n",
    "\n",
    "    cap.release()\n",
    "\n",
    "    if frame_count > 0:\n",
    "        avg_dft = sum_dft / frame_count\n",
    "        dft_normalized = cv2.normalize(avg_dft, None, 0, 255, cv2.NORM_MINMAX)\n",
    "        dft_image = np.uint8(dft_normalized)\n",
    "        video_name = os.path.splitext(os.path.basename(video_path))[0]\n",
    "        output_path = os.path.join(output_folder, f\"{video_name}_dft.png\")\n",
    "        cv2.imwrite(output_path, dft_image)\n",
    "\n",
    "video_files = [f for f in os.listdir(input_folder) if f.endswith(('.mp4', '.avi', '.mov', '.mkv'))]\n",
    "\n",
    "for video_file in tqdm(video_files, desc=\"Processing Videos\"):\n",
    "    video_path = os.path.join(input_folder, video_file)\n",
    "    process_video(video_path, output_folder)"
   ]
  }
 ],
 "metadata": {
  "kernelspec": {
   "display_name": "Python 3",
   "language": "python",
   "name": "python3"
  },
  "language_info": {
   "codemirror_mode": {
    "name": "ipython",
    "version": 3
   },
   "file_extension": ".py",
   "mimetype": "text/x-python",
   "name": "python",
   "nbconvert_exporter": "python",
   "pygments_lexer": "ipython3",
   "version": "3.9.13"
  }
 },
 "nbformat": 4,
 "nbformat_minor": 2
}
