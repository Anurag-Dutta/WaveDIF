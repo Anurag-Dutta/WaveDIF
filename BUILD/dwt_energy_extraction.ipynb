{
 "cells": [
  {
   "cell_type": "code",
   "execution_count": null,
   "metadata": {},
   "outputs": [],
   "source": [
    "import os\n",
    "import numpy as np\n",
    "import pandas as pd\n",
    "import pywt\n",
    "import cv2\n",
    "from pathlib import Path\n",
    "\n",
    "def compute_dwt_features(face_image_path):\n",
    "    img = cv2.imread(str(face_image_path))\n",
    "    img_gray = cv2.cvtColor(img, cv2.COLOR_BGR2GRAY)\n",
    "\n",
    "    coeffs2 = pywt.dwt2(img_gray, 'haar')\n",
    "    LL, (LH, HL, HH) = coeffs2  \n",
    "\n",
    "    LL_energy = np.sum(np.square(LL))\n",
    "    LH_energy = np.sum(np.square(LH))\n",
    "    HL_energy = np.sum(np.square(HL))\n",
    "    HH_energy = np.sum(np.square(HH))\n",
    "\n",
    "    print(f\"Processing {face_image_path.name}, LL: {LL_energy}, LH: {LH_energy}, HL: {HL_energy}, HH: {HH_energy}\")\n",
    "\n",
    "    return LL_energy, LH_energy, HL_energy, HH_energy\n",
    "\n",
    "def extract_video_features(video_folder_path, folder_name):\n",
    "    features_data = []\n",
    "    image_files = sorted(Path(video_folder_path).glob(\"*.png\"))\n",
    "\n",
    "    if not image_files:\n",
    "        print(f\"No images found in {video_folder_path}. Skipping...\")\n",
    "        return None\n",
    "\n",
    "    for image_file in image_files:\n",
    "        LL_energy, LH_energy, HL_energy, HH_energy = compute_dwt_features(image_file)\n",
    "        features_data.append([folder_name, image_file.name, LL_energy, LH_energy, HL_energy, HH_energy])\n",
    "\n",
    "    return features_data\n",
    "\n",
    "base_dir = Path(r\"...\")\n",
    "video_folders = ['original', 'Deepfakes', 'Face2Face', 'FaceShifter', 'FaceSwap', 'NeuralTextures']\n",
    "\n",
    "for folder in video_folders:\n",
    "    folder_path = base_dir / folder\n",
    "    features_data = []\n",
    "\n",
    "    result = extract_video_features(folder_path, folder)\n",
    "    if result:\n",
    "        features_data.extend(result)\n",
    "\n",
    "    if features_data:\n",
    "        df = pd.DataFrame(features_data, columns=['Folder', 'Image', 'LL Energy', 'LH Energy', 'HL Energy', 'HH Energy'])\n",
    "        csv_file_path = base_dir / f'{folder}_dwt_features.csv'\n",
    "        df.to_csv(csv_file_path, index=False)\n",
    "        print(f\"Features saved for {folder} at {csv_file_path}\")\n",
    "    else:\n",
    "        print(f\"No valid images processed for {folder}. No data saved.\")\n"
   ]
  }
 ],
 "metadata": {
  "kernelspec": {
   "display_name": "Python 3",
   "language": "python",
   "name": "python3"
  },
  "language_info": {
   "codemirror_mode": {
    "name": "ipython",
    "version": 3
   },
   "file_extension": ".py",
   "mimetype": "text/x-python",
   "name": "python",
   "nbconvert_exporter": "python",
   "pygments_lexer": "ipython3",
   "version": "3.9.13"
  }
 },
 "nbformat": 4,
 "nbformat_minor": 2
}
