{
 "cells": [
  {
   "cell_type": "code",
   "execution_count": null,
   "metadata": {},
   "outputs": [],
   "source": [
    "# import pandas as pd\n",
    "# import glob\n",
    "\n",
    "# csv_files = glob.glob(\"*.csv\")\n",
    "# dataframes = [pd.read_csv(file) for file in csv_files]\n",
    "\n",
    "# merged_df = pd.concat(dataframes, ignore_index=True)\n",
    "# merged_df.to_csv(\"merged_output.csv\", index=False)\n"
   ]
  },
  {
   "cell_type": "code",
   "execution_count": null,
   "metadata": {},
   "outputs": [
    {
     "name": "stdout",
     "output_type": "stream",
     "text": [
      "Threshold for classification: 0.98\n"
     ]
    },
    {
     "data": {
      "image/png": "[encoded data removed]",
      "text/plain": [
       "<Figure size 432x288 with 2 Axes>"
      ]
     },
     "metadata": {
      "needs_background": "light"
     },
     "output_type": "display_data"
    },
    {
     "name": "stdout",
     "output_type": "stream",
     "text": [
      "Accuracy: 0.949\n",
      "              precision    recall  f1-score   support\n",
      "\n",
      "           0       0.91      1.00      0.95      1012\n",
      "           1       1.00      0.90      0.95       988\n",
      "\n",
      "    accuracy                           0.95      2000\n",
      "   macro avg       0.95      0.95      0.95      2000\n",
      "weighted avg       0.95      0.95      0.95      2000\n",
      "\n",
      "f(LL, LH, HL, HH) = 13.5*LL + 1.5*LH + 2.0*HL + -2.7*HH + -263.6\n",
      "If f(LL, LH, HL, HH) >= 1.0, classify as ORIGINAL, else classify as FAKE.\n"
     ]
    }
   ],
   "source": [
    "import pandas as pd\n",
    "import numpy as np\n",
    "import matplotlib.pyplot as plt\n",
    "import seaborn as sns\n",
    "from sklearn.model_selection import train_test_split\n",
    "from sklearn.preprocessing import PolynomialFeatures\n",
    "from sklearn.linear_model import LogisticRegression\n",
    "from sklearn.metrics import accuracy_score, classification_report, confusion_matrix\n",
    "\n",
    "df = pd.read_csv(\"merged_output.csv\")\n",
    "\n",
    "df[\"Label\"] = df[\"Folder\"].apply(lambda x: 1 if x == \"...\" else 0)\n",
    "\n",
    "X = df[[\"LL Energy\", \"LH Energy\", \"HL Energy\", \"HH Energy\"]].values\n",
    "y = df[\"Label\"].values  \n",
    "\n",
    "X_log_transformed = np.log1p(X)\n",
    "\n",
    "df_original = df[df[\"Label\"] == 1]\n",
    "df_fake = df[df[\"Label\"] == 0]\n",
    "num_samples_needed = len(df_fake) - len(df_original)\n",
    "new_originals = df_original.sample(n=num_samples_needed, replace=True).copy()\n",
    "\n",
    "\n",
    "for col in [\"LL Energy\", \"LH Energy\", \"HL Energy\", \"HH Energy\"]:\n",
    "    new_originals[col] += np.random.uniform(-0.001, 0.001, size=len(new_originals))\n",
    "\n",
    "df_balanced = pd.concat([df, new_originals], ignore_index=True)\n",
    "\n",
    "X_balanced = df_balanced[[\"LL Energy\", \"LH Energy\", \"HL Energy\", \"HH Energy\"]].values\n",
    "y_balanced = df_balanced[\"Label\"].values  \n",
    "\n",
    "X_balanced_log_transformed = np.log1p(X_balanced)\n",
    "\n",
    "X_train, X_test, y_train, y_test = train_test_split(X_balanced_log_transformed, y_balanced, test_size=0.2, random_state=42)\n",
    "poly = PolynomialFeatures(degree=1, include_bias=False) # for model weights and biases\n",
    "X_train_poly = poly.fit_transform(X_train)\n",
    "X_test_poly = poly.transform(X_test)\n",
    "model = LogisticRegression(max_iter=1000)  # for threshold\n",
    "model.fit(X_train_poly, y_train)\n",
    "y_pred = model.predict(X_test_poly)\n",
    "y_prob = model.predict_proba(X_test_poly)[:, 1]\n",
    "\n",
    "\n",
    "threshold = np.mean(y_prob[y_test == 1])\n",
    "print(f\"Threshold for classification: {threshold:.2f}\")\n",
    "\n",
    "final_predictions = (y_prob >= threshold).astype(int)\n",
    "conf_matrix = confusion_matrix(y_test, final_predictions)\n",
    "sns.heatmap(conf_matrix, annot=True, fmt=\"d\", cmap=\"Blues\", xticklabels=[\"Fake\", \"Original\"], yticklabels=[\"Fake\", \"Original\"])\n",
    "plt.xlabel(\"Predicted\")\n",
    "plt.ylabel(\"Actual\")\n",
    "plt.title(\"Confusion Matrix\")\n",
    "plt.show()\n",
    "\n",
    "print(\"Accuracy:\", accuracy_score(y_test, final_predictions))\n",
    "print(classification_report(y_test, final_predictions))\n",
    "coefficients = model.coef_.flatten()\n",
    "intercept = model.intercept_[0]\n",
    "\n",
    "terms = poly.get_feature_names_out([\"LL\", \"LH\", \"HL\", \"HH\"])\n",
    "equation = \" + \".join([f\"{coeff:.1f}*{term}\" for coeff, term in zip(coefficients, terms)])\n",
    "equation += f\" + {intercept:.1f}\"\n",
    "print(f\"f(LL, LH, HL, HH) = {equation}\")\n",
    "\n",
    "print(f\"If f(LL, LH, HL, HH) >= {threshold:.1f}, classify as ORIGINAL, else classify as FAKE.\")\n"
   ]
  },
  {
   "cell_type": "code",
   "execution_count": null,
   "metadata": {},
   "outputs": [],
   "source": [
    "def classify_sample(LL, LH, HL, HH):\n",
    "    f_value = 13.5*LL + 1.5*LH + 2.0*HL + -2.7*HH + -263.6\n",
    "    return \"ORIGINAL\" if f_value >= 1.0 else \"FAKE\""
   ]
  },
  {
   "cell_type": "code",
   "execution_count": null,
   "metadata": {},
   "outputs": [
    {
     "name": "stdout",
     "output_type": "stream",
     "text": [
      "Predicted class: ORIGINAL\n"
     ]
    }
   ],
   "source": [
    "\n",
    "new_sample = np.array([282972362, 582249, 1931993, 475466])  # [LL, LH, HL, HH]\n",
    "new_sample_log_transformed = np.log1p(new_sample)\n",
    "prediction = classify_sample(*new_sample_log_transformed)\n",
    "\n",
    "print(f\"Predicted class: {prediction}\")\n"
   ]
  }
 ],
 "metadata": {
  "kernelspec": {
   "display_name": "Python 3",
   "language": "python",
   "name": "python3"
  },
  "language_info": {
   "codemirror_mode": {
    "name": "ipython",
    "version": 3
   },
   "file_extension": ".py",
   "mimetype": "text/x-python",
   "name": "python",
   "nbconvert_exporter": "python",
   "pygments_lexer": "ipython3",
   "version": "3.9.13"
  }
 },
 "nbformat": 4,
 "nbformat_minor": 2
}
